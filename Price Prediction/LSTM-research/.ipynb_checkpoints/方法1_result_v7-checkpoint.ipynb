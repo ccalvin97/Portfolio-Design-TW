{
 "cells": [
  {
   "cell_type": "code",
   "execution_count": 0,
   "metadata": {
    "colab": {
     "base_uri": "https://localhost:8080/",
     "height": 104
    },
    "colab_type": "code",
    "executionInfo": {
     "elapsed": 4994,
     "status": "ok",
     "timestamp": 1587371353521,
     "user": {
      "displayName": "何寬穎",
      "photoUrl": "",
      "userId": "11068581471508390649"
     },
     "user_tz": -480
    },
    "id": "bUtknvMptLhq",
    "outputId": "82ff0457-5666-4c6c-e804-c5dd585269bf"
   },
   "outputs": [
    {
     "name": "stdout",
     "output_type": "stream",
     "text": [
      "Requirement already satisfied: keras==2.0.9 in /usr/local/lib/python3.6/dist-packages (2.0.9)\n",
      "Requirement already satisfied: six>=1.9.0 in /usr/local/lib/python3.6/dist-packages (from keras==2.0.9) (1.12.0)\n",
      "Requirement already satisfied: numpy>=1.9.1 in /usr/local/lib/python3.6/dist-packages (from keras==2.0.9) (1.18.2)\n",
      "Requirement already satisfied: scipy>=0.14 in /usr/local/lib/python3.6/dist-packages (from keras==2.0.9) (1.4.1)\n",
      "Requirement already satisfied: pyyaml in /usr/local/lib/python3.6/dist-packages (from keras==2.0.9) (3.13)\n"
     ]
    }
   ],
   "source": [
    "# pip install keras==2.0.9"
   ]
  },
  {
   "cell_type": "code",
   "execution_count": 0,
   "metadata": {
    "colab": {
     "base_uri": "https://localhost:8080/",
     "height": 245
    },
    "colab_type": "code",
    "executionInfo": {
     "elapsed": 7940,
     "status": "ok",
     "timestamp": 1587371356721,
     "user": {
      "displayName": "何寬穎",
      "photoUrl": "",
      "userId": "11068581471508390649"
     },
     "user_tz": -480
    },
    "id": "Qo25MUYatC9w",
    "outputId": "d129abea-7ef4-4e27-b992-8c624970b86f"
   },
   "outputs": [
    {
     "name": "stdout",
     "output_type": "stream",
     "text": [
      "Requirement already satisfied: tensorflow==1.4.0 in /usr/local/lib/python3.6/dist-packages (1.4.0)\n",
      "Requirement already satisfied: tensorflow-tensorboard<0.5.0,>=0.4.0rc1 in /usr/local/lib/python3.6/dist-packages (from tensorflow==1.4.0) (0.4.0)\n",
      "Requirement already satisfied: numpy>=1.12.1 in /usr/local/lib/python3.6/dist-packages (from tensorflow==1.4.0) (1.18.2)\n",
      "Requirement already satisfied: wheel>=0.26 in /usr/local/lib/python3.6/dist-packages (from tensorflow==1.4.0) (0.34.2)\n",
      "Requirement already satisfied: six>=1.10.0 in /usr/local/lib/python3.6/dist-packages (from tensorflow==1.4.0) (1.12.0)\n",
      "Requirement already satisfied: enum34>=1.1.6 in /usr/local/lib/python3.6/dist-packages (from tensorflow==1.4.0) (1.1.10)\n",
      "Requirement already satisfied: protobuf>=3.3.0 in /usr/local/lib/python3.6/dist-packages (from tensorflow==1.4.0) (3.10.0)\n",
      "Requirement already satisfied: werkzeug>=0.11.10 in /usr/local/lib/python3.6/dist-packages (from tensorflow-tensorboard<0.5.0,>=0.4.0rc1->tensorflow==1.4.0) (1.0.1)\n",
      "Requirement already satisfied: markdown>=2.6.8 in /usr/local/lib/python3.6/dist-packages (from tensorflow-tensorboard<0.5.0,>=0.4.0rc1->tensorflow==1.4.0) (3.2.1)\n",
      "Requirement already satisfied: bleach==1.5.0 in /usr/local/lib/python3.6/dist-packages (from tensorflow-tensorboard<0.5.0,>=0.4.0rc1->tensorflow==1.4.0) (1.5.0)\n",
      "Requirement already satisfied: html5lib==0.9999999 in /usr/local/lib/python3.6/dist-packages (from tensorflow-tensorboard<0.5.0,>=0.4.0rc1->tensorflow==1.4.0) (0.9999999)\n",
      "Requirement already satisfied: setuptools in /usr/local/lib/python3.6/dist-packages (from protobuf>=3.3.0->tensorflow==1.4.0) (46.1.3)\n"
     ]
    }
   ],
   "source": [
    "# pip install tensorflow==1.4.0"
   ]
  },
  {
   "cell_type": "code",
   "execution_count": 0,
   "metadata": {
    "colab": {},
    "colab_type": "code",
    "id": "bO7jlLcKXkkZ"
   },
   "outputs": [],
   "source": [
    "import numpy as np\n",
    "import pandas as pd\n",
    "import math\n",
    "import sklearn\n",
    "import sklearn.preprocessing\n",
    "import datetime\n",
    "import os\n",
    "import matplotlib.pyplot as plt\n",
    "\n",
    "### valid data should be bigger than seq_len ###\n",
    "train_set_size_percentage = 98 # percentage for the training over the whole original dataset\n",
    "stock_name='EQIX' # Choose whick stock\n",
    "seq_len = 20 # choose sequence length for a time slot\n",
    "window = seq_len-1\n",
    "feature_num_pre=1 # dimension for the prediction (label)\n",
    "feature_num_nn_input=5  # dimension for NN input features\n",
    "checkpoint_path = \"parameter_v5.ckpt\" # check point name"
   ]
  },
  {
   "cell_type": "markdown",
   "metadata": {
    "colab_type": "text",
    "id": "UA5fNP50cmkK"
   },
   "source": [
    "1. One dimension output\n",
    "\n",
    "\n",
    "Problem:  \n",
    "create a checkpoint\n",
    "LR or other parameters need to be tuned  \n",
    "預測後滯性  \n",
    "feature selection method\n",
    "\n",
    "心得:   \n",
    "其他loss 不穩, pearson 是一個穩定指標  \n"
   ]
  },
  {
   "cell_type": "code",
   "execution_count": 0,
   "metadata": {
    "colab": {},
    "colab_type": "code",
    "id": "qEjRCOdRcIca"
   },
   "outputs": [],
   "source": [
    "url = 'https://raw.githubusercontent.com/ccalvin97/terminal_used/master/data/prices-split-adjusted.csv?token=AKAMPRQTFLSRIZFK7RJ6XXK6TWBQK'\n",
    "df = pd.read_csv(url)\n",
    "# Dataset is now stored in a Pandas Dataframe"
   ]
  },
  {
   "cell_type": "code",
   "execution_count": 0,
   "metadata": {
    "colab": {
     "base_uri": "https://localhost:8080/",
     "height": 311
    },
    "colab_type": "code",
    "executionInfo": {
     "elapsed": 1598,
     "status": "ok",
     "timestamp": 1587389330019,
     "user": {
      "displayName": "何寬穎",
      "photoUrl": "",
      "userId": "11068581471508390649"
     },
     "user_tz": -480
    },
    "id": "57JRLoPUXs1T",
    "outputId": "df2109b3-13d6-45e6-c392-111e2c06c0e2"
   },
   "outputs": [
    {
     "name": "stdout",
     "output_type": "stream",
     "text": [
      "<class 'pandas.core.frame.DataFrame'>\n",
      "RangeIndex: 851264 entries, 0 to 851263\n",
      "Data columns (total 7 columns):\n",
      " #   Column  Non-Null Count   Dtype  \n",
      "---  ------  --------------   -----  \n",
      " 0   date    851264 non-null  object \n",
      " 1   symbol  851264 non-null  object \n",
      " 2   open    851264 non-null  float64\n",
      " 3   close   851264 non-null  float64\n",
      " 4   low     851264 non-null  float64\n",
      " 5   high    851264 non-null  float64\n",
      " 6   volume  851264 non-null  float64\n",
      "dtypes: float64(5), object(2)\n",
      "memory usage: 45.5+ MB\n",
      "\n",
      "number of different stocks:  501\n",
      "['SNA', 'MRK', 'RL', 'FDX', 'AMT', 'XRAY', 'HIG', 'RHT', 'STZ', 'FTR']\n"
     ]
    }
   ],
   "source": [
    "# import all stock prices \n",
    "# df = pd.read_csv(\"/content/sample_data/prices-split-adjusted.csv\", index_col = 0)\n",
    "df.info()\n",
    "df.head()\n",
    "\n",
    "# number of different stocks\n",
    "print('\\nnumber of different stocks: ', len(list(set(df.symbol))))\n",
    "print(list(set(df.symbol))[:10])"
   ]
  },
  {
   "cell_type": "code",
   "execution_count": 0,
   "metadata": {
    "colab": {
     "base_uri": "https://localhost:8080/",
     "height": 198
    },
    "colab_type": "code",
    "executionInfo": {
     "elapsed": 1264,
     "status": "ok",
     "timestamp": 1587389330019,
     "user": {
      "displayName": "何寬穎",
      "photoUrl": "",
      "userId": "11068581471508390649"
     },
     "user_tz": -480
    },
    "id": "k1sp7AAxYSI4",
    "outputId": "452da98c-01e9-43e6-90e6-a4c54acae300"
   },
   "outputs": [
    {
     "data": {
      "text/html": [
       "<div>\n",
       "<style scoped>\n",
       "    .dataframe tbody tr th:only-of-type {\n",
       "        vertical-align: middle;\n",
       "    }\n",
       "\n",
       "    .dataframe tbody tr th {\n",
       "        vertical-align: top;\n",
       "    }\n",
       "\n",
       "    .dataframe thead th {\n",
       "        text-align: right;\n",
       "    }\n",
       "</style>\n",
       "<table border=\"1\" class=\"dataframe\">\n",
       "  <thead>\n",
       "    <tr style=\"text-align: right;\">\n",
       "      <th></th>\n",
       "      <th>date</th>\n",
       "      <th>symbol</th>\n",
       "      <th>open</th>\n",
       "      <th>close</th>\n",
       "      <th>low</th>\n",
       "      <th>high</th>\n",
       "      <th>volume</th>\n",
       "    </tr>\n",
       "  </thead>\n",
       "  <tbody>\n",
       "    <tr>\n",
       "      <th>851259</th>\n",
       "      <td>2016-12-30</td>\n",
       "      <td>ZBH</td>\n",
       "      <td>103.309998</td>\n",
       "      <td>103.199997</td>\n",
       "      <td>102.849998</td>\n",
       "      <td>103.930000</td>\n",
       "      <td>973800.0</td>\n",
       "    </tr>\n",
       "    <tr>\n",
       "      <th>851260</th>\n",
       "      <td>2016-12-30</td>\n",
       "      <td>ZION</td>\n",
       "      <td>43.070000</td>\n",
       "      <td>43.040001</td>\n",
       "      <td>42.689999</td>\n",
       "      <td>43.310001</td>\n",
       "      <td>1938100.0</td>\n",
       "    </tr>\n",
       "    <tr>\n",
       "      <th>851261</th>\n",
       "      <td>2016-12-30</td>\n",
       "      <td>ZTS</td>\n",
       "      <td>53.639999</td>\n",
       "      <td>53.529999</td>\n",
       "      <td>53.270000</td>\n",
       "      <td>53.740002</td>\n",
       "      <td>1701200.0</td>\n",
       "    </tr>\n",
       "    <tr>\n",
       "      <th>851262</th>\n",
       "      <td>2016-12-30</td>\n",
       "      <td>AIV</td>\n",
       "      <td>44.730000</td>\n",
       "      <td>45.450001</td>\n",
       "      <td>44.410000</td>\n",
       "      <td>45.590000</td>\n",
       "      <td>1380900.0</td>\n",
       "    </tr>\n",
       "    <tr>\n",
       "      <th>851263</th>\n",
       "      <td>2016-12-30</td>\n",
       "      <td>FTV</td>\n",
       "      <td>54.200001</td>\n",
       "      <td>53.630001</td>\n",
       "      <td>53.389999</td>\n",
       "      <td>54.480000</td>\n",
       "      <td>705100.0</td>\n",
       "    </tr>\n",
       "  </tbody>\n",
       "</table>\n",
       "</div>"
      ],
      "text/plain": [
       "              date symbol        open  ...         low        high     volume\n",
       "851259  2016-12-30    ZBH  103.309998  ...  102.849998  103.930000   973800.0\n",
       "851260  2016-12-30   ZION   43.070000  ...   42.689999   43.310001  1938100.0\n",
       "851261  2016-12-30    ZTS   53.639999  ...   53.270000   53.740002  1701200.0\n",
       "851262  2016-12-30    AIV   44.730000  ...   44.410000   45.590000  1380900.0\n",
       "851263  2016-12-30    FTV   54.200001  ...   53.389999   54.480000   705100.0\n",
       "\n",
       "[5 rows x 7 columns]"
      ]
     },
     "execution_count": 93,
     "metadata": {
      "tags": []
     },
     "output_type": "execute_result"
    }
   ],
   "source": [
    "df.tail()"
   ]
  },
  {
   "cell_type": "code",
   "execution_count": 0,
   "metadata": {
    "colab": {
     "base_uri": "https://localhost:8080/",
     "height": 288
    },
    "colab_type": "code",
    "executionInfo": {
     "elapsed": 1929,
     "status": "ok",
     "timestamp": 1587389330887,
     "user": {
      "displayName": "何寬穎",
      "photoUrl": "",
      "userId": "11068581471508390649"
     },
     "user_tz": -480
    },
    "id": "ZMx8OCmzeCXj",
    "outputId": "50661df0-665c-4a9e-fc5e-78e947fd1042"
   },
   "outputs": [
    {
     "data": {
      "text/html": [
       "<div>\n",
       "<style scoped>\n",
       "    .dataframe tbody tr th:only-of-type {\n",
       "        vertical-align: middle;\n",
       "    }\n",
       "\n",
       "    .dataframe tbody tr th {\n",
       "        vertical-align: top;\n",
       "    }\n",
       "\n",
       "    .dataframe thead th {\n",
       "        text-align: right;\n",
       "    }\n",
       "</style>\n",
       "<table border=\"1\" class=\"dataframe\">\n",
       "  <thead>\n",
       "    <tr style=\"text-align: right;\">\n",
       "      <th></th>\n",
       "      <th>open</th>\n",
       "      <th>close</th>\n",
       "      <th>low</th>\n",
       "      <th>high</th>\n",
       "      <th>volume</th>\n",
       "    </tr>\n",
       "  </thead>\n",
       "  <tbody>\n",
       "    <tr>\n",
       "      <th>count</th>\n",
       "      <td>851264.000000</td>\n",
       "      <td>851264.000000</td>\n",
       "      <td>851264.000000</td>\n",
       "      <td>851264.000000</td>\n",
       "      <td>8.512640e+05</td>\n",
       "    </tr>\n",
       "    <tr>\n",
       "      <th>mean</th>\n",
       "      <td>64.993618</td>\n",
       "      <td>65.011913</td>\n",
       "      <td>64.336541</td>\n",
       "      <td>65.639748</td>\n",
       "      <td>5.415113e+06</td>\n",
       "    </tr>\n",
       "    <tr>\n",
       "      <th>std</th>\n",
       "      <td>75.203893</td>\n",
       "      <td>75.201216</td>\n",
       "      <td>74.459518</td>\n",
       "      <td>75.906861</td>\n",
       "      <td>1.249468e+07</td>\n",
       "    </tr>\n",
       "    <tr>\n",
       "      <th>min</th>\n",
       "      <td>1.660000</td>\n",
       "      <td>1.590000</td>\n",
       "      <td>1.500000</td>\n",
       "      <td>1.810000</td>\n",
       "      <td>0.000000e+00</td>\n",
       "    </tr>\n",
       "    <tr>\n",
       "      <th>25%</th>\n",
       "      <td>31.270000</td>\n",
       "      <td>31.292776</td>\n",
       "      <td>30.940001</td>\n",
       "      <td>31.620001</td>\n",
       "      <td>1.221500e+06</td>\n",
       "    </tr>\n",
       "    <tr>\n",
       "      <th>50%</th>\n",
       "      <td>48.459999</td>\n",
       "      <td>48.480000</td>\n",
       "      <td>47.970001</td>\n",
       "      <td>48.959999</td>\n",
       "      <td>2.476250e+06</td>\n",
       "    </tr>\n",
       "    <tr>\n",
       "      <th>75%</th>\n",
       "      <td>75.120003</td>\n",
       "      <td>75.139999</td>\n",
       "      <td>74.400002</td>\n",
       "      <td>75.849998</td>\n",
       "      <td>5.222500e+06</td>\n",
       "    </tr>\n",
       "    <tr>\n",
       "      <th>max</th>\n",
       "      <td>1584.439941</td>\n",
       "      <td>1578.130005</td>\n",
       "      <td>1549.939941</td>\n",
       "      <td>1600.930054</td>\n",
       "      <td>8.596434e+08</td>\n",
       "    </tr>\n",
       "  </tbody>\n",
       "</table>\n",
       "</div>"
      ],
      "text/plain": [
       "                open          close            low           high        volume\n",
       "count  851264.000000  851264.000000  851264.000000  851264.000000  8.512640e+05\n",
       "mean       64.993618      65.011913      64.336541      65.639748  5.415113e+06\n",
       "std        75.203893      75.201216      74.459518      75.906861  1.249468e+07\n",
       "min         1.660000       1.590000       1.500000       1.810000  0.000000e+00\n",
       "25%        31.270000      31.292776      30.940001      31.620001  1.221500e+06\n",
       "50%        48.459999      48.480000      47.970001      48.959999  2.476250e+06\n",
       "75%        75.120003      75.139999      74.400002      75.849998  5.222500e+06\n",
       "max      1584.439941    1578.130005    1549.939941    1600.930054  8.596434e+08"
      ]
     },
     "execution_count": 94,
     "metadata": {
      "tags": []
     },
     "output_type": "execute_result"
    }
   ],
   "source": [
    "df.describe()"
   ]
  },
  {
   "cell_type": "code",
   "execution_count": 0,
   "metadata": {
    "colab": {
     "base_uri": "https://localhost:8080/",
     "height": 259
    },
    "colab_type": "code",
    "executionInfo": {
     "elapsed": 2893,
     "status": "ok",
     "timestamp": 1587389332041,
     "user": {
      "displayName": "何寬穎",
      "photoUrl": "",
      "userId": "11068581471508390649"
     },
     "user_tz": -480
    },
    "id": "I8C5rYEUeumI",
    "outputId": "a41e6388-8c8d-4951-b6c5-d6fefd18a3ae"
   },
   "outputs": [
    {
     "name": "stdout",
     "output_type": "stream",
     "text": [
      "<class 'pandas.core.frame.DataFrame'>\n",
      "RangeIndex: 851264 entries, 0 to 851263\n",
      "Data columns (total 7 columns):\n",
      " #   Column  Non-Null Count   Dtype  \n",
      "---  ------  --------------   -----  \n",
      " 0   date    851264 non-null  object \n",
      " 1   symbol  851264 non-null  object \n",
      " 2   open    851264 non-null  float64\n",
      " 3   close   851264 non-null  float64\n",
      " 4   low     851264 non-null  float64\n",
      " 5   high    851264 non-null  float64\n",
      " 6   volume  851264 non-null  float64\n",
      "dtypes: float64(5), object(2)\n",
      "memory usage: 45.5+ MB\n"
     ]
    }
   ],
   "source": [
    "df.info()"
   ]
  },
  {
   "cell_type": "code",
   "execution_count": 0,
   "metadata": {
    "colab": {
     "base_uri": "https://localhost:8080/",
     "height": 198
    },
    "colab_type": "code",
    "executionInfo": {
     "elapsed": 2710,
     "status": "ok",
     "timestamp": 1587389332042,
     "user": {
      "displayName": "何寬穎",
      "photoUrl": "",
      "userId": "11068581471508390649"
     },
     "user_tz": -480
    },
    "id": "bRwaiIbxl3Jn",
    "outputId": "c1f320c2-b277-4fff-b672-bf51b89ca216"
   },
   "outputs": [
    {
     "data": {
      "text/html": [
       "<div>\n",
       "<style scoped>\n",
       "    .dataframe tbody tr th:only-of-type {\n",
       "        vertical-align: middle;\n",
       "    }\n",
       "\n",
       "    .dataframe tbody tr th {\n",
       "        vertical-align: top;\n",
       "    }\n",
       "\n",
       "    .dataframe thead th {\n",
       "        text-align: right;\n",
       "    }\n",
       "</style>\n",
       "<table border=\"1\" class=\"dataframe\">\n",
       "  <thead>\n",
       "    <tr style=\"text-align: right;\">\n",
       "      <th></th>\n",
       "      <th>open</th>\n",
       "      <th>close</th>\n",
       "      <th>low</th>\n",
       "      <th>high</th>\n",
       "      <th>volume</th>\n",
       "    </tr>\n",
       "  </thead>\n",
       "  <tbody>\n",
       "    <tr>\n",
       "      <th>open</th>\n",
       "      <td>NaN</td>\n",
       "      <td>0.999845</td>\n",
       "      <td>0.999914</td>\n",
       "      <td>0.999928</td>\n",
       "      <td>NaN</td>\n",
       "    </tr>\n",
       "    <tr>\n",
       "      <th>close</th>\n",
       "      <td>0.999845</td>\n",
       "      <td>NaN</td>\n",
       "      <td>0.999926</td>\n",
       "      <td>0.999925</td>\n",
       "      <td>NaN</td>\n",
       "    </tr>\n",
       "    <tr>\n",
       "      <th>low</th>\n",
       "      <td>0.999914</td>\n",
       "      <td>0.999926</td>\n",
       "      <td>NaN</td>\n",
       "      <td>0.999889</td>\n",
       "      <td>NaN</td>\n",
       "    </tr>\n",
       "    <tr>\n",
       "      <th>high</th>\n",
       "      <td>0.999928</td>\n",
       "      <td>0.999925</td>\n",
       "      <td>0.999889</td>\n",
       "      <td>NaN</td>\n",
       "      <td>NaN</td>\n",
       "    </tr>\n",
       "    <tr>\n",
       "      <th>volume</th>\n",
       "      <td>NaN</td>\n",
       "      <td>NaN</td>\n",
       "      <td>NaN</td>\n",
       "      <td>NaN</td>\n",
       "      <td>NaN</td>\n",
       "    </tr>\n",
       "  </tbody>\n",
       "</table>\n",
       "</div>"
      ],
      "text/plain": [
       "            open     close       low      high  volume\n",
       "open         NaN  0.999845  0.999914  0.999928     NaN\n",
       "close   0.999845       NaN  0.999926  0.999925     NaN\n",
       "low     0.999914  0.999926       NaN  0.999889     NaN\n",
       "high    0.999928  0.999925  0.999889       NaN     NaN\n",
       "volume       NaN       NaN       NaN       NaN     NaN"
      ]
     },
     "execution_count": 96,
     "metadata": {
      "tags": []
     },
     "output_type": "execute_result"
    }
   ],
   "source": [
    "df.iloc[:,2:].corr()\n",
    "df.corr(method='pearson')[(df.corr() > 0.8) & (df.corr() != 1) | (df.corr() < -0.8) & (df.corr() != -1)]"
   ]
  },
  {
   "cell_type": "code",
   "execution_count": 0,
   "metadata": {
    "colab": {
     "base_uri": "https://localhost:8080/",
     "height": 198
    },
    "colab_type": "code",
    "executionInfo": {
     "elapsed": 3663,
     "status": "ok",
     "timestamp": 1587389333176,
     "user": {
      "displayName": "何寬穎",
      "photoUrl": "",
      "userId": "11068581471508390649"
     },
     "user_tz": -480
    },
    "id": "joIEUAZA2XTt",
    "outputId": "903c4f9f-8d1f-449e-f1f9-237ca8c19b92"
   },
   "outputs": [
    {
     "data": {
      "text/html": [
       "<div>\n",
       "<style scoped>\n",
       "    .dataframe tbody tr th:only-of-type {\n",
       "        vertical-align: middle;\n",
       "    }\n",
       "\n",
       "    .dataframe tbody tr th {\n",
       "        vertical-align: top;\n",
       "    }\n",
       "\n",
       "    .dataframe thead th {\n",
       "        text-align: right;\n",
       "    }\n",
       "</style>\n",
       "<table border=\"1\" class=\"dataframe\">\n",
       "  <thead>\n",
       "    <tr style=\"text-align: right;\">\n",
       "      <th></th>\n",
       "      <th>open</th>\n",
       "      <th>close</th>\n",
       "      <th>low</th>\n",
       "      <th>high</th>\n",
       "      <th>volume</th>\n",
       "    </tr>\n",
       "  </thead>\n",
       "  <tbody>\n",
       "    <tr>\n",
       "      <th>open</th>\n",
       "      <td>NaN</td>\n",
       "      <td>0.999752</td>\n",
       "      <td>0.999859</td>\n",
       "      <td>0.999878</td>\n",
       "      <td>NaN</td>\n",
       "    </tr>\n",
       "    <tr>\n",
       "      <th>close</th>\n",
       "      <td>0.999752</td>\n",
       "      <td>NaN</td>\n",
       "      <td>0.999872</td>\n",
       "      <td>0.999878</td>\n",
       "      <td>NaN</td>\n",
       "    </tr>\n",
       "    <tr>\n",
       "      <th>low</th>\n",
       "      <td>0.999859</td>\n",
       "      <td>0.999872</td>\n",
       "      <td>NaN</td>\n",
       "      <td>0.999805</td>\n",
       "      <td>NaN</td>\n",
       "    </tr>\n",
       "    <tr>\n",
       "      <th>high</th>\n",
       "      <td>0.999878</td>\n",
       "      <td>0.999878</td>\n",
       "      <td>0.999805</td>\n",
       "      <td>NaN</td>\n",
       "      <td>NaN</td>\n",
       "    </tr>\n",
       "    <tr>\n",
       "      <th>volume</th>\n",
       "      <td>NaN</td>\n",
       "      <td>NaN</td>\n",
       "      <td>NaN</td>\n",
       "      <td>NaN</td>\n",
       "      <td>NaN</td>\n",
       "    </tr>\n",
       "  </tbody>\n",
       "</table>\n",
       "</div>"
      ],
      "text/plain": [
       "            open     close       low      high  volume\n",
       "open         NaN  0.999752  0.999859  0.999878     NaN\n",
       "close   0.999752       NaN  0.999872  0.999878     NaN\n",
       "low     0.999859  0.999872       NaN  0.999805     NaN\n",
       "high    0.999878  0.999878  0.999805       NaN     NaN\n",
       "volume       NaN       NaN       NaN       NaN     NaN"
      ]
     },
     "execution_count": 97,
     "metadata": {
      "tags": []
     },
     "output_type": "execute_result"
    }
   ],
   "source": [
    "df.iloc[:,2:].corr()\n",
    "df.corr(method='spearman')[(df.corr() > 0.8) & (df.corr() != 1) | (df.corr() < -0.8) & (df.corr() != -1)]"
   ]
  },
  {
   "cell_type": "code",
   "execution_count": 0,
   "metadata": {
    "colab": {
     "base_uri": "https://localhost:8080/",
     "height": 350
    },
    "colab_type": "code",
    "executionInfo": {
     "elapsed": 4539,
     "status": "ok",
     "timestamp": 1587389334246,
     "user": {
      "displayName": "何寬穎",
      "photoUrl": "",
      "userId": "11068581471508390649"
     },
     "user_tz": -480
    },
    "id": "Grn7qwwLew5T",
    "outputId": "7acec10f-866f-43dc-db29-19b3cca45cf3"
   },
   "outputs": [
    {
     "data": {
      "image/png": "[encoded data removed]",
      "text/plain": [
       "<Figure size 1080x360 with 2 Axes>"
      ]
     },
     "metadata": {
      "needs_background": "light",
      "tags": []
     },
     "output_type": "display_data"
    }
   ],
   "source": [
    "plt.figure(figsize=(15, 5));\n",
    "plt.subplot(1,2,1);\n",
    "plt.plot(df[df.symbol == stock_name].open.values, color='red', label='open')\n",
    "plt.plot(df[df.symbol == stock_name].close.values, color='green', label='close')\n",
    "plt.plot(df[df.symbol == stock_name].low.values, color='blue', label='low')\n",
    "plt.plot(df[df.symbol == stock_name].high.values, color='black', label='high')\n",
    "plt.title('stock price')\n",
    "plt.xlabel('time [days]')\n",
    "plt.ylabel('price')\n",
    "plt.legend(loc='best')\n",
    "#plt.show()\n",
    "\n",
    "plt.subplot(1,2,2);\n",
    "plt.plot(df[df.symbol == stock_name].volume.values, color='black', label='volume')\n",
    "plt.title('stock volume')\n",
    "plt.xlabel('time [days]')\n",
    "plt.ylabel('volume')\n",
    "plt.legend(loc='best');\n"
   ]
  },
  {
   "cell_type": "code",
   "execution_count": 0,
   "metadata": {
    "colab": {
     "base_uri": "https://localhost:8080/",
     "height": 35
    },
    "colab_type": "code",
    "executionInfo": {
     "elapsed": 4349,
     "status": "ok",
     "timestamp": 1587389334247,
     "user": {
      "displayName": "何寬穎",
      "photoUrl": "",
      "userId": "11068581471508390649"
     },
     "user_tz": -480
    },
    "id": "s1WgTS44B0QK",
    "outputId": "527d2457-9cc8-4b2b-d078-1b17d7f6f9a2"
   },
   "outputs": [
    {
     "data": {
      "text/plain": [
       "(1762, 6)"
      ]
     },
     "execution_count": 99,
     "metadata": {
      "tags": []
     },
     "output_type": "execute_result"
    }
   ],
   "source": [
    "# choose one stock\n",
    "df_stock = df[df.symbol == stock_name].copy()\n",
    "df_stock.drop(['symbol'],1,inplace=True)\n",
    "# df_stock.drop(['volume'],1,inplace=True)\n",
    "\n",
    "df_stock.shape"
   ]
  },
  {
   "cell_type": "code",
   "execution_count": 0,
   "metadata": {
    "colab": {
     "base_uri": "https://localhost:8080/",
     "height": 52
    },
    "colab_type": "code",
    "executionInfo": {
     "elapsed": 4141,
     "status": "ok",
     "timestamp": 1587389334247,
     "user": {
      "displayName": "何寬穎",
      "photoUrl": "",
      "userId": "11068581471508390649"
     },
     "user_tz": -480
    },
    "id": "leiBeszhCcFi",
    "outputId": "43c9d41e-17ae-425d-abfd-ab723b3a0969"
   },
   "outputs": [
    {
     "name": "stdout",
     "output_type": "stream",
     "text": [
      "(35, 6)\n"
     ]
    },
    {
     "data": {
      "text/plain": [
       "(1727, 6)"
      ]
     },
     "execution_count": 100,
     "metadata": {
      "tags": []
     },
     "output_type": "execute_result"
    }
   ],
   "source": [
    "# split data in train/validation sets\n",
    "\n",
    "valid_set_size = int(np.round(train_set_size_percentage/100*df_stock.shape[0]))\n",
    "train_data, test_data = df_stock[:valid_set_size][:], df_stock[valid_set_size:][:]\n",
    "print(test_data.shape)\n",
    "train_data.shape"
   ]
  },
  {
   "cell_type": "code",
   "execution_count": 0,
   "metadata": {
    "colab": {
     "base_uri": "https://localhost:8080/",
     "height": 35
    },
    "colab_type": "code",
    "executionInfo": {
     "elapsed": 3919,
     "status": "ok",
     "timestamp": 1587389334248,
     "user": {
      "displayName": "何寬穎",
      "photoUrl": "",
      "userId": "11068581471508390649"
     },
     "user_tz": -480
    },
    "id": "FfIGOk_cHLgD",
    "outputId": "fe77ed0d-6722-4168-f72d-27c69dae05bb"
   },
   "outputs": [
    {
     "name": "stdout",
     "output_type": "stream",
     "text": [
      "(35, 6)\n"
     ]
    }
   ],
   "source": [
    "from sklearn.preprocessing import MinMaxScaler\n",
    "scaler1 = MinMaxScaler(feature_range=(0, 1))\n",
    "train_data['open'] = scaler1.fit_transform(np.array(train_data['open']).reshape(-1,1))\n",
    "test_data['open']= scaler1.transform(np.array(test_data['open']).reshape(-1,1))\n",
    "\n",
    "scaler2 = MinMaxScaler(feature_range=(0, 1))\n",
    "train_data['close'] = scaler2.fit_transform(np.array(train_data['close']).reshape(-1,1))\n",
    "test_data['close']=scaler2.transform(np.array(test_data['close']).reshape(-1,1))\n",
    "\n",
    "scaler3 = MinMaxScaler(feature_range=(0, 1))\n",
    "train_data['low'] = scaler3.fit_transform(np.array(train_data['low']).reshape(-1,1))\n",
    "test_data['low']=scaler3.transform(np.array(test_data['low']).reshape(-1,1))\n",
    "\n",
    "scaler4 = MinMaxScaler(feature_range=(0, 1))\n",
    "train_data['high'] = scaler4.fit_transform(np.array(train_data['high']).reshape(-1,1))\n",
    "test_data['high']=scaler4.transform(np.array(test_data['high']).reshape(-1,1))\n",
    "\n",
    "scaler5 = MinMaxScaler(feature_range=(0, 1))\n",
    "train_data['volume'] = scaler5.fit_transform(np.array(train_data['volume']).reshape(-1,1))\n",
    "test_data['volume']=scaler5.transform(np.array(test_data['volume']).reshape(-1,1))\n",
    "\n",
    "# print(train_data)\n",
    "print(test_data.shape)"
   ]
  },
  {
   "cell_type": "code",
   "execution_count": 0,
   "metadata": {
    "colab": {
     "base_uri": "https://localhost:8080/",
     "height": 367
    },
    "colab_type": "code",
    "executionInfo": {
     "elapsed": 5131,
     "status": "ok",
     "timestamp": 1587389335801,
     "user": {
      "displayName": "何寬穎",
      "photoUrl": "",
      "userId": "11068581471508390649"
     },
     "user_tz": -480
    },
    "id": "B6vJqTcHe7rB",
    "outputId": "244a10b0-ee26-4d9c-b179-5f02075dfd8c"
   },
   "outputs": [
    {
     "data": {
      "text/plain": [
       "<matplotlib.legend.Legend at 0x7fc5cd4b7080>"
      ]
     },
     "execution_count": 102,
     "metadata": {
      "tags": []
     },
     "output_type": "execute_result"
    },
    {
     "data": {
      "image/png": "[encoded data removed]",
      "text/plain": [
       "<Figure size 1080x360 with 2 Axes>"
      ]
     },
     "metadata": {
      "needs_background": "light",
      "tags": []
     },
     "output_type": "display_data"
    }
   ],
   "source": [
    "plt.figure(figsize=(15, 5));\n",
    "plt.subplot(1,2,1);\n",
    "plt.plot(train_data.open.values, color='red', label='open')\n",
    "plt.plot(train_data.close.values, color='green', label='low')\n",
    "plt.plot(train_data.low.values, color='blue', label='low')\n",
    "plt.plot(train_data.high.values, color='black', label='high')\n",
    "plt.plot(train_data.volume.values, color='gray', label='volume')\n",
    "plt.title('train_data')\n",
    "plt.xlabel('time [days]')\n",
    "plt.ylabel('normalized price/volume')\n",
    "plt.legend(loc='best')\n",
    "\n",
    "plt.subplot(1,2,2);\n",
    "plt.plot(test_data.open.values, color='red', label='open')\n",
    "plt.plot(test_data.close.values, color='green', label='low')\n",
    "plt.plot(test_data.low.values, color='blue', label='low')\n",
    "plt.plot(test_data.high.values, color='black', label='high')\n",
    "plt.plot(test_data.volume.values, color='gray', label='volume')\n",
    "plt.title('test_data')\n",
    "plt.xlabel('time [days]')\n",
    "plt.ylabel('normalized price/volume')\n",
    "plt.legend(loc='best')\n",
    "# plt.show()"
   ]
  },
  {
   "cell_type": "code",
   "execution_count": 0,
   "metadata": {
    "colab": {
     "base_uri": "https://localhost:8080/",
     "height": 121
    },
    "colab_type": "code",
    "executionInfo": {
     "elapsed": 4950,
     "status": "ok",
     "timestamp": 1587389335801,
     "user": {
      "displayName": "何寬穎",
      "photoUrl": "",
      "userId": "11068581471508390649"
     },
     "user_tz": -480
    },
    "id": "0jWTB3pM5w8j",
    "outputId": "c4395339-8fcc-413b-adda-f8b7f78a441e"
   },
   "outputs": [
    {
     "name": "stdout",
     "output_type": "stream",
     "text": [
      "test data is ok for the seq_len setting\n",
      "test data is ok for the seq_len setting\n",
      "x_train.shape =  (1673, 19, 5)\n",
      "y_train.shape =  (1673, 5)\n",
      "x_test.shape =  (15, 19, 5)\n",
      "y_test.shape =  (15, 5)\n"
     ]
    }
   ],
   "source": [
    "# function to create train, validation, test data given stock data and sequence length\n",
    "def load_data(stock, seq_len):\n",
    "    data_raw = stock.iloc[:,:].values\n",
    "    # print(data_raw)\n",
    "    data = []\n",
    "    \n",
    "    # create all possible sequences of length seq_len\n",
    "    for index in range(len(data_raw) - seq_len): \n",
    "        data.append(data_raw[index: index + seq_len])\n",
    "    \n",
    "    # 輸入data_raw 維度: (1762, 5), 第一維度為資料筆數, 第二維度為五個feature\n",
    "    # 輸出data 維度: (1742, 20, 5), (20, 5)為我們一次的考慮長度, 分別是20個時間點和5個features,  1742為NN考慮的時間段\n",
    "    # 看筆記\n",
    "\n",
    "    data = np.array(data); \n",
    "    # 切分時間段個數->分到training, validation, testing set\n",
    "    valid_set_size = int(np.ceil(100-train_set_size_percentage)/100*data.shape[0])\n",
    "    train_set_size = data.shape[0] - (valid_set_size);\n",
    "    \n",
    "    # 檢查 test data 長度\n",
    "    try: \n",
    "      x_train = data[:train_set_size,:-1,1:]\n",
    "      y_train = data[:train_set_size,-1,1:]\n",
    "    except:\n",
    "      print(\"檢查問題: test data should be bigger than seq_len ### \")\n",
    "    else:\n",
    "      print('test data is ok for the seq_len setting')\n",
    "\n",
    "    \n",
    "    return [x_train, y_train]\n",
    "\n",
    "# create train, test data\n",
    "x_train, y_train = load_data(train_data, seq_len)\n",
    "x_test, y_test = load_data(test_data, seq_len)\n",
    "\n",
    "\n",
    "\n",
    "print('x_train.shape = ',x_train.shape)\n",
    "print('y_train.shape = ', y_train.shape)\n",
    "print('x_test.shape = ',x_test.shape)\n",
    "print('y_test.shape = ', y_test.shape)\n"
   ]
  },
  {
   "cell_type": "code",
   "execution_count": 0,
   "metadata": {
    "colab": {},
    "colab_type": "code",
    "id": "xEcy0TrL21y8"
   },
   "outputs": [],
   "source": [
    "y_train=y_train[:,:feature_num_pre]\n",
    "y_test=y_test[:,:feature_num_pre]"
   ]
  },
  {
   "cell_type": "code",
   "execution_count": 0,
   "metadata": {
    "colab": {},
    "colab_type": "code",
    "id": "wm27pvA4e_HA"
   },
   "outputs": [],
   "source": [
    "import tensorflow as tf\n",
    "from keras.models import Sequential\n",
    "from keras.layers.core import Dense, Dropout, Activation\n",
    "from keras.layers.recurrent import LSTM\n",
    "from keras.models import load_model\n",
    "from tensorflow.contrib.metrics import streaming_pearson_correlation\n",
    "import keras\n",
    "from pandas import datetime\n",
    "import math, time\n",
    "import itertools\n",
    "from sklearn import preprocessing\n",
    "import datetime\n",
    "from keras import backend as K\n",
    "from keras.layers.normalization import BatchNormalization\n",
    "\n",
    "def tf_pearson(y_true, y_pred):\n",
    "    return tf.contrib.metrics.streaming_pearson_correlation(y_pred, y_true)[1]\n",
    "\n",
    "\n",
    "def build_model(layers):\n",
    "    d = 0.5\n",
    "    model = Sequential()\n",
    "    model.add(LSTM(256, input_shape=(layers[1], layers[0]), return_sequences=True))\n",
    "    # model.add(BatchNormalization())\n",
    "    model.add(Dropout(d))\n",
    "    model.add(LSTM(128, input_shape=(layers[1], layers[0]), return_sequences=False))\n",
    "    model.add(Dropout(d))\n",
    "    # model.add(LSTM(64, input_shape=(layers[1], layers[0]), return_sequences=False))\n",
    "    # model.add(Dropout(d))\n",
    "    model.add(Dense(32,kernel_initializer=\"uniform\",activation='relu'))    \n",
    "    model.add(Dense(feature_num_pre,kernel_initializer=\"uniform\",activation='linear'))\n",
    "    start = time.time()\n",
    "    adam = keras.optimizers.Adam(lr=0.0005)\n",
    "    model.compile(loss='mse',optimizer=adam, metrics=[tf_pearson])\n",
    "    print(\"Compilation Time : \", time.time() - start)\n",
    "    K.get_session().run(tf.local_variables_initializer())\n",
    "    return model\n",
    "\n"
   ]
  },
  {
   "cell_type": "code",
   "execution_count": 0,
   "metadata": {
    "colab": {
     "base_uri": "https://localhost:8080/",
     "height": 380
    },
    "colab_type": "code",
    "executionInfo": {
     "elapsed": 4900,
     "status": "ok",
     "timestamp": 1587389336308,
     "user": {
      "displayName": "何寬穎",
      "photoUrl": "",
      "userId": "11068581471508390649"
     },
     "user_tz": -480
    },
    "id": "cJQZixpw9XbR",
    "outputId": "e0353e2e-bd0f-49c2-9a1f-4bb25204baf1"
   },
   "outputs": [
    {
     "name": "stdout",
     "output_type": "stream",
     "text": [
      "Compilation Time :  0.1109628677368164\n",
      "_________________________________________________________________\n",
      "Layer (type)                 Output Shape              Param #   \n",
      "=================================================================\n",
      "lstm_12 (LSTM)               (None, 19, 256)           268288    \n",
      "_________________________________________________________________\n",
      "dropout_12 (Dropout)         (None, 19, 256)           0         \n",
      "_________________________________________________________________\n",
      "lstm_13 (LSTM)               (None, 128)               197120    \n",
      "_________________________________________________________________\n",
      "dropout_13 (Dropout)         (None, 128)               0         \n",
      "_________________________________________________________________\n",
      "dense_11 (Dense)             (None, 32)                4128      \n",
      "_________________________________________________________________\n",
      "dense_12 (Dense)             (None, 1)                 33        \n",
      "=================================================================\n",
      "Total params: 469,569\n",
      "Trainable params: 469,569\n",
      "Non-trainable params: 0\n",
      "_________________________________________________________________\n",
      "None\n"
     ]
    }
   ],
   "source": [
    "# checkpoint_dir = os.path.dirname(checkpoint_path)\n",
    "\n",
    "# # Create a callback that saves the model's weights\n",
    "# cp_callback = tf.keras.callbacks.ModelCheckpoint(filepath=checkpoint_path,\n",
    "#                                                  save_weights_only=True,\n",
    "#                                                  verbose=1)\n",
    "\n",
    "model = build_model([feature_num_nn_input,window])\n",
    "print(model.summary())"
   ]
  },
  {
   "cell_type": "code",
   "execution_count": 0,
   "metadata": {
    "colab": {
     "base_uri": "https://localhost:8080/",
     "height": 1000
    },
    "colab_type": "code",
    "executionInfo": {
     "elapsed": 1595218,
     "status": "ok",
     "timestamp": 1587390926827,
     "user": {
      "displayName": "何寬穎",
      "photoUrl": "",
      "userId": "11068581471508390649"
     },
     "user_tz": -480
    },
    "id": "AFzPOxYafCWS",
    "outputId": "48f26ec9-3a11-4e63-e333-f699eb653e72"
   },
   "outputs": [
    {
     "name": "stdout",
     "output_type": "stream",
     "text": [
      "Train on 1505 samples, validate on 168 samples\n",
      "Epoch 1/300\n",
      "1505/1505 [==============================] - 10s 7ms/step - loss: 0.0373 - tf_pearson: 0.4080 - val_loss: 0.0484 - val_tf_pearson: 0.6633\n",
      "Epoch 2/300\n",
      "1505/1505 [==============================] - 9s 6ms/step - loss: 0.0025 - tf_pearson: 0.7699 - val_loss: 0.0188 - val_tf_pearson: 0.8280\n",
      "Epoch 3/300\n",
      "1505/1505 [==============================] - 9s 6ms/step - loss: 0.0022 - tf_pearson: 0.8585 - val_loss: 0.0227 - val_tf_pearson: 0.8783\n",
      "Epoch 4/300\n",
      "1505/1505 [==============================] - 9s 6ms/step - loss: 0.0024 - tf_pearson: 0.8917 - val_loss: 0.0039 - val_tf_pearson: 0.9031\n",
      "Epoch 5/300\n",
      "1505/1505 [==============================] - 9s 6ms/step - loss: 0.0021 - tf_pearson: 0.9122 - val_loss: 0.0141 - val_tf_pearson: 0.9189\n",
      "Epoch 6/300\n",
      "1505/1505 [==============================] - 9s 6ms/step - loss: 0.0020 - tf_pearson: 0.9244 - val_loss: 0.0030 - val_tf_pearson: 0.9294\n",
      "Epoch 7/300\n",
      "1505/1505 [==============================] - 9s 6ms/step - loss: 0.0021 - tf_pearson: 0.9337 - val_loss: 0.0074 - val_tf_pearson: 0.9370\n",
      "Epoch 8/300\n",
      "1505/1505 [==============================] - 9s 6ms/step - loss: 0.0018 - tf_pearson: 0.9403 - val_loss: 0.0107 - val_tf_pearson: 0.9428\n",
      "Epoch 9/300\n",
      "1505/1505 [==============================] - 9s 6ms/step - loss: 0.0015 - tf_pearson: 0.9454 - val_loss: 0.0031 - val_tf_pearson: 0.9473\n",
      "Epoch 10/300\n",
      "1505/1505 [==============================] - 9s 6ms/step - loss: 0.0019 - tf_pearson: 0.9492 - val_loss: 0.0075 - val_tf_pearson: 0.9509\n",
      "Epoch 11/300\n",
      "1505/1505 [==============================] - 9s 6ms/step - loss: 0.0016 - tf_pearson: 0.9525 - val_loss: 0.0021 - val_tf_pearson: 0.9541\n",
      "Epoch 12/300\n",
      "1505/1505 [==============================] - 9s 6ms/step - loss: 0.0016 - tf_pearson: 0.9556 - val_loss: 0.0034 - val_tf_pearson: 0.9567\n",
      "Epoch 13/300\n",
      "1505/1505 [==============================] - 9s 6ms/step - loss: 0.0019 - tf_pearson: 0.9577 - val_loss: 0.0096 - val_tf_pearson: 0.9587\n",
      "Epoch 14/300\n",
      "1505/1505 [==============================] - 9s 6ms/step - loss: 0.0016 - tf_pearson: 0.9596 - val_loss: 0.0036 - val_tf_pearson: 0.9605\n",
      "Epoch 15/300\n",
      "1505/1505 [==============================] - 9s 6ms/step - loss: 0.0016 - tf_pearson: 0.9615 - val_loss: 0.0044 - val_tf_pearson: 0.9623\n",
      "Epoch 16/300\n",
      "1505/1505 [==============================] - 9s 6ms/step - loss: 0.0016 - tf_pearson: 0.9631 - val_loss: 0.0012 - val_tf_pearson: 0.9638\n",
      "Epoch 17/300\n",
      "1505/1505 [==============================] - 9s 6ms/step - loss: 0.0016 - tf_pearson: 0.9645 - val_loss: 0.0038 - val_tf_pearson: 0.9652\n",
      "Epoch 18/300\n",
      "1505/1505 [==============================] - 9s 6ms/step - loss: 0.0015 - tf_pearson: 0.9658 - val_loss: 0.0022 - val_tf_pearson: 0.9664\n",
      "Epoch 19/300\n",
      "1505/1505 [==============================] - 9s 6ms/step - loss: 0.0013 - tf_pearson: 0.9671 - val_loss: 0.0029 - val_tf_pearson: 0.9676\n",
      "Epoch 20/300\n",
      "1505/1505 [==============================] - 9s 6ms/step - loss: 0.0014 - tf_pearson: 0.9682 - val_loss: 0.0032 - val_tf_pearson: 0.9686\n",
      "Epoch 21/300\n",
      "1505/1505 [==============================] - 9s 6ms/step - loss: 0.0014 - tf_pearson: 0.9690 - val_loss: 0.0018 - val_tf_pearson: 0.9695\n",
      "Epoch 22/300\n",
      "1505/1505 [==============================] - 9s 6ms/step - loss: 0.0012 - tf_pearson: 0.9700 - val_loss: 0.0071 - val_tf_pearson: 0.9704\n",
      "Epoch 23/300\n",
      "1505/1505 [==============================] - 9s 6ms/step - loss: 0.0016 - tf_pearson: 0.9707 - val_loss: 0.0161 - val_tf_pearson: 0.9709\n",
      "Epoch 24/300\n",
      "1505/1505 [==============================] - 9s 6ms/step - loss: 0.0015 - tf_pearson: 0.9711 - val_loss: 0.0022 - val_tf_pearson: 0.9714\n",
      "Epoch 25/300\n",
      "1505/1505 [==============================] - 9s 6ms/step - loss: 0.0012 - tf_pearson: 0.9718 - val_loss: 0.0013 - val_tf_pearson: 0.9722\n",
      "Epoch 26/300\n",
      "1505/1505 [==============================] - 9s 6ms/step - loss: 0.0012 - tf_pearson: 0.9725 - val_loss: 9.7045e-04 - val_tf_pearson: 0.9729\n",
      "Epoch 27/300\n",
      "1505/1505 [==============================] - 9s 6ms/step - loss: 0.0011 - tf_pearson: 0.9732 - val_loss: 0.0079 - val_tf_pearson: 0.9735\n",
      "Epoch 28/300\n",
      "1505/1505 [==============================] - 9s 6ms/step - loss: 0.0013 - tf_pearson: 0.9737 - val_loss: 0.0015 - val_tf_pearson: 0.9740\n",
      "Epoch 29/300\n",
      "1505/1505 [==============================] - 9s 6ms/step - loss: 0.0013 - tf_pearson: 0.9743 - val_loss: 0.0033 - val_tf_pearson: 0.9745\n",
      "Epoch 30/300\n",
      "1505/1505 [==============================] - 9s 6ms/step - loss: 0.0011 - tf_pearson: 0.9748 - val_loss: 7.0242e-04 - val_tf_pearson: 0.9751\n",
      "Epoch 31/300\n",
      "1505/1505 [==============================] - 9s 6ms/step - loss: 0.0011 - tf_pearson: 0.9754 - val_loss: 8.0990e-04 - val_tf_pearson: 0.9756\n",
      "Epoch 32/300\n",
      "1505/1505 [==============================] - 10s 6ms/step - loss: 9.6471e-04 - tf_pearson: 0.9759 - val_loss: 0.0030 - val_tf_pearson: 0.9762\n",
      "Epoch 33/300\n",
      "1505/1505 [==============================] - 10s 6ms/step - loss: 0.0011 - tf_pearson: 0.9764 - val_loss: 9.7804e-04 - val_tf_pearson: 0.9766\n",
      "Epoch 34/300\n",
      "1505/1505 [==============================] - 9s 6ms/step - loss: 8.8826e-04 - tf_pearson: 0.9768 - val_loss: 0.0027 - val_tf_pearson: 0.9771\n",
      "Epoch 35/300\n",
      "1505/1505 [==============================] - 9s 6ms/step - loss: 9.5288e-04 - tf_pearson: 0.9773 - val_loss: 9.1278e-04 - val_tf_pearson: 0.9775\n",
      "Epoch 36/300\n",
      "1505/1505 [==============================] - 9s 6ms/step - loss: 9.4392e-04 - tf_pearson: 0.9777 - val_loss: 0.0148 - val_tf_pearson: 0.9778\n",
      "Epoch 37/300\n",
      "1505/1505 [==============================] - 9s 6ms/step - loss: 0.0023 - tf_pearson: 0.9777 - val_loss: 9.0273e-04 - val_tf_pearson: 0.9778\n",
      "Epoch 38/300\n",
      "1505/1505 [==============================] - 9s 6ms/step - loss: 0.0011 - tf_pearson: 0.9780 - val_loss: 9.6311e-04 - val_tf_pearson: 0.9782\n",
      "Epoch 39/300\n",
      "1505/1505 [==============================] - 9s 6ms/step - loss: 9.7207e-04 - tf_pearson: 0.9783 - val_loss: 0.0015 - val_tf_pearson: 0.9785\n",
      "Epoch 40/300\n",
      "1505/1505 [==============================] - 9s 6ms/step - loss: 9.2953e-04 - tf_pearson: 0.9787 - val_loss: 0.0028 - val_tf_pearson: 0.9789\n",
      "Epoch 41/300\n",
      "1505/1505 [==============================] - 9s 6ms/step - loss: 9.6566e-04 - tf_pearson: 0.9790 - val_loss: 7.5364e-04 - val_tf_pearson: 0.9792\n",
      "Epoch 42/300\n",
      "1505/1505 [==============================] - 9s 6ms/step - loss: 8.0913e-04 - tf_pearson: 0.9794 - val_loss: 5.4537e-04 - val_tf_pearson: 0.9795\n",
      "Epoch 43/300\n",
      "1505/1505 [==============================] - 9s 6ms/step - loss: 7.8183e-04 - tf_pearson: 0.9797 - val_loss: 5.2174e-04 - val_tf_pearson: 0.9799\n",
      "Epoch 44/300\n",
      "1505/1505 [==============================] - 9s 6ms/step - loss: 7.1767e-04 - tf_pearson: 0.9800 - val_loss: 6.9543e-04 - val_tf_pearson: 0.9802\n",
      "Epoch 45/300\n",
      "1505/1505 [==============================] - 9s 6ms/step - loss: 7.1111e-04 - tf_pearson: 0.9804 - val_loss: 6.3139e-04 - val_tf_pearson: 0.9805\n",
      "Epoch 46/300\n",
      "1505/1505 [==============================] - 9s 6ms/step - loss: 6.7640e-04 - tf_pearson: 0.9807 - val_loss: 7.5932e-04 - val_tf_pearson: 0.9808\n",
      "Epoch 47/300\n",
      "1505/1505 [==============================] - 9s 6ms/step - loss: 7.0807e-04 - tf_pearson: 0.9810 - val_loss: 0.0014 - val_tf_pearson: 0.9811\n",
      "Epoch 48/300\n",
      "1505/1505 [==============================] - 9s 6ms/step - loss: 7.8347e-04 - tf_pearson: 0.9813 - val_loss: 5.9441e-04 - val_tf_pearson: 0.9814\n",
      "Epoch 49/300\n",
      "1505/1505 [==============================] - 9s 6ms/step - loss: 6.0343e-04 - tf_pearson: 0.9815 - val_loss: 0.0030 - val_tf_pearson: 0.9816\n",
      "Epoch 50/300\n",
      "1505/1505 [==============================] - 9s 6ms/step - loss: 7.2847e-04 - tf_pearson: 0.9818 - val_loss: 4.9558e-04 - val_tf_pearson: 0.9819\n",
      "Epoch 51/300\n",
      "1505/1505 [==============================] - 9s 6ms/step - loss: 7.2931e-04 - tf_pearson: 0.9820 - val_loss: 8.9304e-04 - val_tf_pearson: 0.9821\n",
      "Epoch 52/300\n",
      "1505/1505 [==============================] - 9s 6ms/step - loss: 6.3080e-04 - tf_pearson: 0.9823 - val_loss: 5.4038e-04 - val_tf_pearson: 0.9824\n",
      "Epoch 53/300\n",
      "1505/1505 [==============================] - 9s 6ms/step - loss: 6.6020e-04 - tf_pearson: 0.9825 - val_loss: 5.2953e-04 - val_tf_pearson: 0.9826\n",
      "Epoch 54/300\n",
      "1505/1505 [==============================] - 9s 6ms/step - loss: 6.1600e-04 - tf_pearson: 0.9827 - val_loss: 9.9180e-04 - val_tf_pearson: 0.9829\n",
      "Epoch 55/300\n",
      "1505/1505 [==============================] - 9s 6ms/step - loss: 6.2498e-04 - tf_pearson: 0.9830 - val_loss: 4.9988e-04 - val_tf_pearson: 0.9831\n",
      "Epoch 56/300\n",
      "1505/1505 [==============================] - 9s 6ms/step - loss: 6.4612e-04 - tf_pearson: 0.9832 - val_loss: 5.9527e-04 - val_tf_pearson: 0.9833\n",
      "Epoch 57/300\n",
      "1505/1505 [==============================] - 9s 6ms/step - loss: 6.5128e-04 - tf_pearson: 0.9834 - val_loss: 5.0766e-04 - val_tf_pearson: 0.9835\n",
      "Epoch 58/300\n",
      "1505/1505 [==============================] - 9s 6ms/step - loss: 6.1610e-04 - tf_pearson: 0.9836 - val_loss: 0.0027 - val_tf_pearson: 0.9837\n",
      "Epoch 59/300\n",
      "1505/1505 [==============================] - 9s 6ms/step - loss: 6.5633e-04 - tf_pearson: 0.9838 - val_loss: 4.1885e-04 - val_tf_pearson: 0.9839\n",
      "Epoch 60/300\n",
      "1505/1505 [==============================] - 9s 6ms/step - loss: 6.1032e-04 - tf_pearson: 0.9840 - val_loss: 4.8372e-04 - val_tf_pearson: 0.9841\n",
      "Epoch 61/300\n",
      "1505/1505 [==============================] - 9s 6ms/step - loss: 5.5712e-04 - tf_pearson: 0.9842 - val_loss: 4.4897e-04 - val_tf_pearson: 0.9842\n",
      "Epoch 62/300\n",
      "1505/1505 [==============================] - 9s 6ms/step - loss: 5.0259e-04 - tf_pearson: 0.9843 - val_loss: 8.7620e-04 - val_tf_pearson: 0.9844\n",
      "Epoch 63/300\n",
      "1505/1505 [==============================] - 9s 6ms/step - loss: 6.2008e-04 - tf_pearson: 0.9845 - val_loss: 5.3680e-04 - val_tf_pearson: 0.9846\n",
      "Epoch 64/300\n",
      "1505/1505 [==============================] - 12s 8ms/step - loss: 5.8487e-04 - tf_pearson: 0.9847 - val_loss: 5.7890e-04 - val_tf_pearson: 0.9848\n",
      "Epoch 65/300\n",
      "1505/1505 [==============================] - 10s 6ms/step - loss: 5.9495e-04 - tf_pearson: 0.9848 - val_loss: 7.8972e-04 - val_tf_pearson: 0.9849\n",
      "Epoch 66/300\n",
      "1505/1505 [==============================] - 9s 6ms/step - loss: 8.6835e-04 - tf_pearson: 0.9850 - val_loss: 0.0015 - val_tf_pearson: 0.9851\n",
      "Epoch 67/300\n",
      "1505/1505 [==============================] - 9s 6ms/step - loss: 5.8503e-04 - tf_pearson: 0.9851 - val_loss: 8.2773e-04 - val_tf_pearson: 0.9852\n",
      "Epoch 68/300\n",
      "1505/1505 [==============================] - 9s 6ms/step - loss: 6.0720e-04 - tf_pearson: 0.9853 - val_loss: 4.6255e-04 - val_tf_pearson: 0.9853\n",
      "Epoch 69/300\n",
      "1505/1505 [==============================] - 9s 6ms/step - loss: 5.3946e-04 - tf_pearson: 0.9854 - val_loss: 4.0478e-04 - val_tf_pearson: 0.9855\n",
      "Epoch 70/300\n",
      "1505/1505 [==============================] - 9s 6ms/step - loss: 5.5733e-04 - tf_pearson: 0.9856 - val_loss: 4.8458e-04 - val_tf_pearson: 0.9856\n",
      "Epoch 71/300\n",
      "1505/1505 [==============================] - 9s 6ms/step - loss: 5.7684e-04 - tf_pearson: 0.9857 - val_loss: 4.0072e-04 - val_tf_pearson: 0.9858\n",
      "Epoch 72/300\n",
      "1505/1505 [==============================] - 9s 6ms/step - loss: 5.0536e-04 - tf_pearson: 0.9859 - val_loss: 6.0404e-04 - val_tf_pearson: 0.9859\n",
      "Epoch 73/300\n",
      "1505/1505 [==============================] - 9s 6ms/step - loss: 5.0962e-04 - tf_pearson: 0.9860 - val_loss: 4.0695e-04 - val_tf_pearson: 0.9861\n",
      "Epoch 74/300\n",
      "1505/1505 [==============================] - 9s 6ms/step - loss: 5.0196e-04 - tf_pearson: 0.9861 - val_loss: 4.2947e-04 - val_tf_pearson: 0.9862\n",
      "Epoch 75/300\n",
      "1505/1505 [==============================] - 9s 6ms/step - loss: 4.5765e-04 - tf_pearson: 0.9863 - val_loss: 3.8023e-04 - val_tf_pearson: 0.9863\n",
      "Epoch 76/300\n",
      "1505/1505 [==============================] - 9s 6ms/step - loss: 5.0966e-04 - tf_pearson: 0.9864 - val_loss: 3.6950e-04 - val_tf_pearson: 0.9865\n",
      "Epoch 77/300\n",
      "1505/1505 [==============================] - 9s 6ms/step - loss: 4.8653e-04 - tf_pearson: 0.9865 - val_loss: 8.3651e-04 - val_tf_pearson: 0.9866\n",
      "Epoch 78/300\n",
      "1505/1505 [==============================] - 9s 6ms/step - loss: 4.2359e-04 - tf_pearson: 0.9867 - val_loss: 7.9572e-04 - val_tf_pearson: 0.9867\n",
      "Epoch 79/300\n",
      "1505/1505 [==============================] - 9s 6ms/step - loss: 5.5006e-04 - tf_pearson: 0.9868 - val_loss: 0.0011 - val_tf_pearson: 0.9868\n",
      "Epoch 80/300\n",
      "1505/1505 [==============================] - 9s 6ms/step - loss: 4.8108e-04 - tf_pearson: 0.9869 - val_loss: 4.6667e-04 - val_tf_pearson: 0.9869\n",
      "Epoch 81/300\n",
      "1505/1505 [==============================] - 9s 6ms/step - loss: 5.5437e-04 - tf_pearson: 0.9870 - val_loss: 6.2318e-04 - val_tf_pearson: 0.9870\n",
      "Epoch 82/300\n",
      "1505/1505 [==============================] - 9s 6ms/step - loss: 4.8823e-04 - tf_pearson: 0.9871 - val_loss: 0.0018 - val_tf_pearson: 0.9872\n",
      "Epoch 83/300\n",
      "1505/1505 [==============================] - 9s 6ms/step - loss: 6.6836e-04 - tf_pearson: 0.9872 - val_loss: 0.0026 - val_tf_pearson: 0.9872\n",
      "Epoch 84/300\n",
      "1505/1505 [==============================] - 9s 6ms/step - loss: 5.8243e-04 - tf_pearson: 0.9873 - val_loss: 0.0010 - val_tf_pearson: 0.9873\n",
      "Epoch 85/300\n",
      "1505/1505 [==============================] - 9s 6ms/step - loss: 4.3200e-04 - tf_pearson: 0.9874 - val_loss: 0.0067 - val_tf_pearson: 0.9874\n",
      "Epoch 86/300\n",
      "1505/1505 [==============================] - 9s 6ms/step - loss: 5.1762e-04 - tf_pearson: 0.9874 - val_loss: 0.0012 - val_tf_pearson: 0.9875\n",
      "Epoch 87/300\n",
      "1505/1505 [==============================] - 9s 6ms/step - loss: 4.7340e-04 - tf_pearson: 0.9875 - val_loss: 9.5763e-04 - val_tf_pearson: 0.9876\n",
      "Epoch 88/300\n",
      "1505/1505 [==============================] - 9s 6ms/step - loss: 4.6265e-04 - tf_pearson: 0.9876 - val_loss: 7.6084e-04 - val_tf_pearson: 0.9877\n",
      "Epoch 89/300\n",
      "1505/1505 [==============================] - 9s 6ms/step - loss: 4.6969e-04 - tf_pearson: 0.9877 - val_loss: 3.3308e-04 - val_tf_pearson: 0.9878\n",
      "Epoch 90/300\n",
      "1505/1505 [==============================] - 9s 6ms/step - loss: 5.9303e-04 - tf_pearson: 0.9878 - val_loss: 4.6413e-04 - val_tf_pearson: 0.9879\n",
      "Epoch 91/300\n",
      "1505/1505 [==============================] - 9s 6ms/step - loss: 4.3752e-04 - tf_pearson: 0.9879 - val_loss: 4.0771e-04 - val_tf_pearson: 0.9880\n",
      "Epoch 92/300\n",
      "1505/1505 [==============================] - 9s 6ms/step - loss: 4.0686e-04 - tf_pearson: 0.9880 - val_loss: 3.9461e-04 - val_tf_pearson: 0.9881\n",
      "Epoch 93/300\n",
      "1505/1505 [==============================] - 9s 6ms/step - loss: 4.0834e-04 - tf_pearson: 0.9881 - val_loss: 8.0580e-04 - val_tf_pearson: 0.9882\n",
      "Epoch 94/300\n",
      "1505/1505 [==============================] - 9s 6ms/step - loss: 4.8796e-04 - tf_pearson: 0.9882 - val_loss: 3.5924e-04 - val_tf_pearson: 0.9882\n",
      "Epoch 95/300\n",
      "1505/1505 [==============================] - 9s 6ms/step - loss: 4.3376e-04 - tf_pearson: 0.9883 - val_loss: 2.9653e-04 - val_tf_pearson: 0.9883\n",
      "Epoch 96/300\n",
      "1505/1505 [==============================] - 9s 6ms/step - loss: 4.4474e-04 - tf_pearson: 0.9884 - val_loss: 0.0019 - val_tf_pearson: 0.9884\n",
      "Epoch 97/300\n",
      "1505/1505 [==============================] - 9s 6ms/step - loss: 4.8596e-04 - tf_pearson: 0.9884 - val_loss: 3.6934e-04 - val_tf_pearson: 0.9885\n",
      "Epoch 98/300\n",
      "1505/1505 [==============================] - 10s 6ms/step - loss: 4.5911e-04 - tf_pearson: 0.9885 - val_loss: 7.2934e-04 - val_tf_pearson: 0.9886\n",
      "Epoch 99/300\n",
      "1505/1505 [==============================] - 9s 6ms/step - loss: 3.9500e-04 - tf_pearson: 0.9886 - val_loss: 8.6762e-04 - val_tf_pearson: 0.9886\n",
      "Epoch 100/300\n",
      "1505/1505 [==============================] - 9s 6ms/step - loss: 5.2275e-04 - tf_pearson: 0.9887 - val_loss: 0.0014 - val_tf_pearson: 0.9887\n",
      "Epoch 101/300\n",
      "1505/1505 [==============================] - 9s 6ms/step - loss: 4.9267e-04 - tf_pearson: 0.9887 - val_loss: 3.8633e-04 - val_tf_pearson: 0.9888\n",
      "Epoch 102/300\n",
      "1505/1505 [==============================] - 9s 6ms/step - loss: 4.3334e-04 - tf_pearson: 0.9888 - val_loss: 5.6878e-04 - val_tf_pearson: 0.9889\n",
      "Epoch 103/300\n",
      "1505/1505 [==============================] - 9s 6ms/step - loss: 3.9823e-04 - tf_pearson: 0.9889 - val_loss: 3.5657e-04 - val_tf_pearson: 0.9889\n",
      "Epoch 104/300\n",
      "1505/1505 [==============================] - 9s 6ms/step - loss: 4.0589e-04 - tf_pearson: 0.9890 - val_loss: 2.9090e-04 - val_tf_pearson: 0.9890\n",
      "Epoch 105/300\n",
      "1505/1505 [==============================] - 9s 6ms/step - loss: 3.9896e-04 - tf_pearson: 0.9891 - val_loss: 7.9767e-04 - val_tf_pearson: 0.9891\n",
      "Epoch 106/300\n",
      "1505/1505 [==============================] - 9s 6ms/step - loss: 4.1754e-04 - tf_pearson: 0.9891 - val_loss: 0.0019 - val_tf_pearson: 0.9892\n",
      "Epoch 107/300\n",
      "1505/1505 [==============================] - 9s 6ms/step - loss: 3.9972e-04 - tf_pearson: 0.9892 - val_loss: 3.8868e-04 - val_tf_pearson: 0.9892\n",
      "Epoch 108/300\n",
      "1505/1505 [==============================] - 9s 6ms/step - loss: 4.7800e-04 - tf_pearson: 0.9893 - val_loss: 2.7632e-04 - val_tf_pearson: 0.9893\n",
      "Epoch 109/300\n",
      "1505/1505 [==============================] - 9s 6ms/step - loss: 4.5509e-04 - tf_pearson: 0.9893 - val_loss: 8.7848e-04 - val_tf_pearson: 0.9894\n",
      "Epoch 110/300\n",
      "1505/1505 [==============================] - 9s 6ms/step - loss: 3.8199e-04 - tf_pearson: 0.9894 - val_loss: 0.0023 - val_tf_pearson: 0.9894\n",
      "Epoch 111/300\n",
      "1505/1505 [==============================] - 9s 6ms/step - loss: 5.2621e-04 - tf_pearson: 0.9894 - val_loss: 0.0012 - val_tf_pearson: 0.9895\n",
      "Epoch 112/300\n",
      "1505/1505 [==============================] - 9s 6ms/step - loss: 3.8715e-04 - tf_pearson: 0.9895 - val_loss: 4.4970e-04 - val_tf_pearson: 0.9895\n",
      "Epoch 113/300\n",
      "1505/1505 [==============================] - 9s 6ms/step - loss: 3.7902e-04 - tf_pearson: 0.9896 - val_loss: 3.3276e-04 - val_tf_pearson: 0.9896\n",
      "Epoch 114/300\n",
      "1505/1505 [==============================] - 9s 6ms/step - loss: 4.1595e-04 - tf_pearson: 0.9896 - val_loss: 0.0014 - val_tf_pearson: 0.9897\n",
      "Epoch 115/300\n",
      "1505/1505 [==============================] - 9s 6ms/step - loss: 3.7555e-04 - tf_pearson: 0.9897 - val_loss: 0.0025 - val_tf_pearson: 0.9897\n",
      "Epoch 116/300\n",
      "1505/1505 [==============================] - 9s 6ms/step - loss: 4.9850e-04 - tf_pearson: 0.9897 - val_loss: 0.0012 - val_tf_pearson: 0.9898\n",
      "Epoch 117/300\n",
      "1505/1505 [==============================] - 9s 6ms/step - loss: 4.0619e-04 - tf_pearson: 0.9898 - val_loss: 3.1118e-04 - val_tf_pearson: 0.9898\n",
      "Epoch 118/300\n",
      "1505/1505 [==============================] - 9s 6ms/step - loss: 3.7449e-04 - tf_pearson: 0.9899 - val_loss: 3.9965e-04 - val_tf_pearson: 0.9899\n",
      "Epoch 119/300\n",
      "1505/1505 [==============================] - 9s 6ms/step - loss: 4.6339e-04 - tf_pearson: 0.9899 - val_loss: 4.9987e-04 - val_tf_pearson: 0.9899\n",
      "Epoch 120/300\n",
      "1505/1505 [==============================] - 9s 6ms/step - loss: 3.7437e-04 - tf_pearson: 0.9900 - val_loss: 4.7604e-04 - val_tf_pearson: 0.9900\n",
      "Epoch 121/300\n",
      "1505/1505 [==============================] - 9s 6ms/step - loss: 3.6184e-04 - tf_pearson: 0.9900 - val_loss: 5.0465e-04 - val_tf_pearson: 0.9901\n",
      "Epoch 122/300\n",
      "1505/1505 [==============================] - 9s 6ms/step - loss: 3.4223e-04 - tf_pearson: 0.9901 - val_loss: 5.4512e-04 - val_tf_pearson: 0.9901\n",
      "Epoch 123/300\n",
      "1505/1505 [==============================] - 9s 6ms/step - loss: 3.3021e-04 - tf_pearson: 0.9902 - val_loss: 2.5318e-04 - val_tf_pearson: 0.9902\n",
      "Epoch 124/300\n",
      "1505/1505 [==============================] - 9s 6ms/step - loss: 3.5972e-04 - tf_pearson: 0.9902 - val_loss: 4.6129e-04 - val_tf_pearson: 0.9902\n",
      "Epoch 125/300\n",
      "1505/1505 [==============================] - 9s 6ms/step - loss: 3.7571e-04 - tf_pearson: 0.9903 - val_loss: 0.0015 - val_tf_pearson: 0.9903\n",
      "Epoch 126/300\n",
      "1505/1505 [==============================] - 9s 6ms/step - loss: 3.6290e-04 - tf_pearson: 0.9903 - val_loss: 2.2871e-04 - val_tf_pearson: 0.9903\n",
      "Epoch 127/300\n",
      "1505/1505 [==============================] - 9s 6ms/step - loss: 3.6663e-04 - tf_pearson: 0.9904 - val_loss: 2.6737e-04 - val_tf_pearson: 0.9904\n",
      "Epoch 128/300\n",
      "1505/1505 [==============================] - 9s 6ms/step - loss: 4.7355e-04 - tf_pearson: 0.9904 - val_loss: 3.6732e-04 - val_tf_pearson: 0.9904\n",
      "Epoch 129/300\n",
      "1505/1505 [==============================] - 12s 8ms/step - loss: 4.4185e-04 - tf_pearson: 0.9905 - val_loss: 4.8856e-04 - val_tf_pearson: 0.9905\n",
      "Epoch 130/300\n",
      "1505/1505 [==============================] - 9s 6ms/step - loss: 4.1972e-04 - tf_pearson: 0.9905 - val_loss: 0.0024 - val_tf_pearson: 0.9905\n",
      "Epoch 131/300\n",
      "1505/1505 [==============================] - 9s 6ms/step - loss: 3.5654e-04 - tf_pearson: 0.9906 - val_loss: 9.6750e-04 - val_tf_pearson: 0.9906\n",
      "Epoch 132/300\n",
      "1505/1505 [==============================] - 9s 6ms/step - loss: 4.1402e-04 - tf_pearson: 0.9906 - val_loss: 0.0011 - val_tf_pearson: 0.9906\n",
      "Epoch 133/300\n",
      "1505/1505 [==============================] - 9s 6ms/step - loss: 3.9015e-04 - tf_pearson: 0.9906 - val_loss: 0.0034 - val_tf_pearson: 0.9907\n",
      "Epoch 134/300\n",
      "1505/1505 [==============================] - 9s 6ms/step - loss: 6.5689e-04 - tf_pearson: 0.9907 - val_loss: 2.3919e-04 - val_tf_pearson: 0.9907\n",
      "Epoch 135/300\n",
      "1505/1505 [==============================] - 9s 6ms/step - loss: 4.3053e-04 - tf_pearson: 0.9907 - val_loss: 8.7264e-04 - val_tf_pearson: 0.9907\n",
      "Epoch 136/300\n",
      "1505/1505 [==============================] - 9s 6ms/step - loss: 3.9108e-04 - tf_pearson: 0.9908 - val_loss: 3.5736e-04 - val_tf_pearson: 0.9908\n",
      "Epoch 137/300\n",
      "1505/1505 [==============================] - 9s 6ms/step - loss: 4.0196e-04 - tf_pearson: 0.9908 - val_loss: 2.1986e-04 - val_tf_pearson: 0.9908\n",
      "Epoch 138/300\n",
      "1505/1505 [==============================] - 9s 6ms/step - loss: 3.6721e-04 - tf_pearson: 0.9909 - val_loss: 3.0895e-04 - val_tf_pearson: 0.9909\n",
      "Epoch 139/300\n",
      "1505/1505 [==============================] - 9s 6ms/step - loss: 3.5179e-04 - tf_pearson: 0.9909 - val_loss: 2.1302e-04 - val_tf_pearson: 0.9909\n",
      "Epoch 140/300\n",
      "1505/1505 [==============================] - 9s 6ms/step - loss: 3.3328e-04 - tf_pearson: 0.9909 - val_loss: 2.5879e-04 - val_tf_pearson: 0.9910\n",
      "Epoch 141/300\n",
      "1505/1505 [==============================] - 9s 6ms/step - loss: 3.3966e-04 - tf_pearson: 0.9910 - val_loss: 0.0011 - val_tf_pearson: 0.9910\n",
      "Epoch 142/300\n",
      "1505/1505 [==============================] - 9s 6ms/step - loss: 3.1243e-04 - tf_pearson: 0.9910 - val_loss: 2.0165e-04 - val_tf_pearson: 0.9911\n",
      "Epoch 143/300\n",
      "1505/1505 [==============================] - 9s 6ms/step - loss: 3.5629e-04 - tf_pearson: 0.9911 - val_loss: 2.4124e-04 - val_tf_pearson: 0.9911\n",
      "Epoch 144/300\n",
      "1505/1505 [==============================] - 9s 6ms/step - loss: 3.3967e-04 - tf_pearson: 0.9911 - val_loss: 2.5640e-04 - val_tf_pearson: 0.9911\n",
      "Epoch 145/300\n",
      "1505/1505 [==============================] - 9s 6ms/step - loss: 3.5739e-04 - tf_pearson: 0.9912 - val_loss: 3.9011e-04 - val_tf_pearson: 0.9912\n",
      "Epoch 146/300\n",
      "1505/1505 [==============================] - 9s 6ms/step - loss: 3.1541e-04 - tf_pearson: 0.9912 - val_loss: 4.3793e-04 - val_tf_pearson: 0.9912\n",
      "Epoch 147/300\n",
      "1505/1505 [==============================] - 9s 6ms/step - loss: 3.6334e-04 - tf_pearson: 0.9912 - val_loss: 3.1241e-04 - val_tf_pearson: 0.9913\n",
      "Epoch 148/300\n",
      "1505/1505 [==============================] - 9s 6ms/step - loss: 3.5162e-04 - tf_pearson: 0.9913 - val_loss: 1.9413e-04 - val_tf_pearson: 0.9913\n",
      "Epoch 149/300\n",
      "1505/1505 [==============================] - 9s 6ms/step - loss: 3.8249e-04 - tf_pearson: 0.9913 - val_loss: 2.6266e-04 - val_tf_pearson: 0.9913\n",
      "Epoch 150/300\n",
      "1505/1505 [==============================] - 9s 6ms/step - loss: 4.3376e-04 - tf_pearson: 0.9914 - val_loss: 5.7010e-04 - val_tf_pearson: 0.9914\n",
      "Epoch 151/300\n",
      "1505/1505 [==============================] - 9s 6ms/step - loss: 3.5496e-04 - tf_pearson: 0.9914 - val_loss: 0.0013 - val_tf_pearson: 0.9914\n",
      "Epoch 152/300\n",
      "1505/1505 [==============================] - 9s 6ms/step - loss: 3.5558e-04 - tf_pearson: 0.9914 - val_loss: 3.6067e-04 - val_tf_pearson: 0.9915\n",
      "Epoch 153/300\n",
      "1505/1505 [==============================] - 9s 6ms/step - loss: 3.6142e-04 - tf_pearson: 0.9915 - val_loss: 1.8591e-04 - val_tf_pearson: 0.9915\n",
      "Epoch 154/300\n",
      "1505/1505 [==============================] - 10s 7ms/step - loss: 3.4815e-04 - tf_pearson: 0.9915 - val_loss: 6.3662e-04 - val_tf_pearson: 0.9915\n",
      "Epoch 155/300\n",
      "1505/1505 [==============================] - 9s 6ms/step - loss: 3.7779e-04 - tf_pearson: 0.9915 - val_loss: 2.2219e-04 - val_tf_pearson: 0.9916\n",
      "Epoch 156/300\n",
      "1505/1505 [==============================] - 9s 6ms/step - loss: 3.1311e-04 - tf_pearson: 0.9916 - val_loss: 2.0829e-04 - val_tf_pearson: 0.9916\n",
      "Epoch 157/300\n",
      "1505/1505 [==============================] - 9s 6ms/step - loss: 3.2231e-04 - tf_pearson: 0.9916 - val_loss: 4.1898e-04 - val_tf_pearson: 0.9916\n",
      "Epoch 158/300\n",
      "1505/1505 [==============================] - 9s 6ms/step - loss: 3.4342e-04 - tf_pearson: 0.9917 - val_loss: 3.3345e-04 - val_tf_pearson: 0.9917\n",
      "Epoch 159/300\n",
      "1505/1505 [==============================] - 9s 6ms/step - loss: 2.8920e-04 - tf_pearson: 0.9917 - val_loss: 2.8755e-04 - val_tf_pearson: 0.9917\n",
      "Epoch 160/300\n",
      "1505/1505 [==============================] - 9s 6ms/step - loss: 3.0266e-04 - tf_pearson: 0.9917 - val_loss: 5.6503e-04 - val_tf_pearson: 0.9918\n",
      "Epoch 161/300\n",
      "1505/1505 [==============================] - 9s 6ms/step - loss: 3.0766e-04 - tf_pearson: 0.9918 - val_loss: 3.9746e-04 - val_tf_pearson: 0.9918\n",
      "Epoch 162/300\n",
      "1505/1505 [==============================] - 10s 6ms/step - loss: 3.1733e-04 - tf_pearson: 0.9918 - val_loss: 4.0617e-04 - val_tf_pearson: 0.9918\n",
      "Epoch 163/300\n",
      "1505/1505 [==============================] - 9s 6ms/step - loss: 3.2308e-04 - tf_pearson: 0.9918 - val_loss: 5.0657e-04 - val_tf_pearson: 0.9919\n",
      "Epoch 164/300\n",
      "1505/1505 [==============================] - 9s 6ms/step - loss: 3.4584e-04 - tf_pearson: 0.9919 - val_loss: 8.2139e-04 - val_tf_pearson: 0.9919\n",
      "Epoch 165/300\n",
      "1505/1505 [==============================] - 9s 6ms/step - loss: 3.5395e-04 - tf_pearson: 0.9919 - val_loss: 1.9214e-04 - val_tf_pearson: 0.9919\n",
      "Epoch 166/300\n",
      "1505/1505 [==============================] - 9s 6ms/step - loss: 2.9974e-04 - tf_pearson: 0.9919 - val_loss: 4.0854e-04 - val_tf_pearson: 0.9920\n",
      "Epoch 167/300\n",
      "1505/1505 [==============================] - 9s 6ms/step - loss: 2.9661e-04 - tf_pearson: 0.9920 - val_loss: 7.2832e-04 - val_tf_pearson: 0.9920\n",
      "Epoch 168/300\n",
      "1505/1505 [==============================] - 9s 6ms/step - loss: 3.3130e-04 - tf_pearson: 0.9920 - val_loss: 6.6410e-04 - val_tf_pearson: 0.9920\n",
      "Epoch 169/300\n",
      "1505/1505 [==============================] - 9s 6ms/step - loss: 4.2366e-04 - tf_pearson: 0.9920 - val_loss: 2.2192e-04 - val_tf_pearson: 0.9921\n"
     ]
    }
   ],
   "source": [
    "callback = tf.keras.callbacks.EarlyStopping(monitor='val_loss', patience=15)\n",
    "history=model.fit(x_train,y_train,batch_size=32,epochs=300,validation_split=0.1,verbose=1, callbacks=[callback])\n",
    "# history=model.fit(x_train,y_train,batch_size=32,epochs=400,validation_split=0.1,verbose=1, callbacks=[cp_callback])"
   ]
  },
  {
   "cell_type": "code",
   "execution_count": 0,
   "metadata": {
    "colab": {},
    "colab_type": "code",
    "id": "YFr9EVtLYOCi"
   },
   "outputs": [],
   "source": [
    "# print(history.history.keys())"
   ]
  },
  {
   "cell_type": "code",
   "execution_count": 0,
   "metadata": {
    "colab": {
     "base_uri": "https://localhost:8080/",
     "height": 350
    },
    "colab_type": "code",
    "executionInfo": {
     "elapsed": 1595061,
     "status": "ok",
     "timestamp": 1587390927583,
     "user": {
      "displayName": "何寬穎",
      "photoUrl": "",
      "userId": "11068581471508390649"
     },
     "user_tz": -480
    },
    "id": "Js4ALfe5qcK1",
    "outputId": "c3aedb27-6619-46cc-973d-415d65e6321c"
   },
   "outputs": [
    {
     "data": {
      "image/png": "[encoded data removed]",
      "text/plain": [
       "<Figure size 1080x360 with 2 Axes>"
      ]
     },
     "metadata": {
      "needs_background": "light",
      "tags": []
     },
     "output_type": "display_data"
    }
   ],
   "source": [
    "plt.figure(figsize=(15, 5))\n",
    "plt.subplot(1,2,1)\n",
    "\n",
    "plt.plot(history.history['loss'])\n",
    "plt.plot(history.history['val_loss'])\n",
    "plt.title('model mean squared error')\n",
    "plt.ylabel('MSE')\n",
    "plt.xlabel('epoch')\n",
    "plt.legend(['train', 'valid'], loc='upper left')\n",
    "\n",
    "plt.subplot(1,2,2)\n",
    "plt.plot(history.history['tf_pearson'])\n",
    "plt.plot(history.history['val_tf_pearson'])\n",
    "plt.title('model Pearson')\n",
    "plt.ylabel('Pearson')\n",
    "plt.xlabel('epoch')\n",
    "plt.legend(['train', 'valid'], loc='upper left')\n",
    "plt.show()"
   ]
  },
  {
   "cell_type": "code",
   "execution_count": 0,
   "metadata": {
    "colab": {
     "base_uri": "https://localhost:8080/",
     "height": 407
    },
    "colab_type": "code",
    "executionInfo": {
     "elapsed": 1595303,
     "status": "ok",
     "timestamp": 1587390928109,
     "user": {
      "displayName": "何寬穎",
      "photoUrl": "",
      "userId": "11068581471508390649"
     },
     "user_tz": -480
    },
    "id": "hROF19mvYzdt",
    "outputId": "7fd54e8b-4e5e-4b39-e8df-3bc2b8fdf8d4"
   },
   "outputs": [
    {
     "data": {
      "text/html": [
       "<div>\n",
       "<style scoped>\n",
       "    .dataframe tbody tr th:only-of-type {\n",
       "        vertical-align: middle;\n",
       "    }\n",
       "\n",
       "    .dataframe tbody tr th {\n",
       "        vertical-align: top;\n",
       "    }\n",
       "\n",
       "    .dataframe thead th {\n",
       "        text-align: right;\n",
       "    }\n",
       "</style>\n",
       "<table border=\"1\" class=\"dataframe\">\n",
       "  <thead>\n",
       "    <tr style=\"text-align: right;\">\n",
       "      <th></th>\n",
       "      <th>date</th>\n",
       "      <th>open</th>\n",
       "      <th>close</th>\n",
       "      <th>low</th>\n",
       "      <th>high</th>\n",
       "      <th>volume</th>\n",
       "    </tr>\n",
       "  </thead>\n",
       "  <tbody>\n",
       "    <tr>\n",
       "      <th>399</th>\n",
       "      <td>2010-01-04</td>\n",
       "      <td>106.519997</td>\n",
       "      <td>109.559998</td>\n",
       "      <td>106.510002</td>\n",
       "      <td>109.620003</td>\n",
       "      <td>576300.0</td>\n",
       "    </tr>\n",
       "    <tr>\n",
       "      <th>867</th>\n",
       "      <td>2010-01-05</td>\n",
       "      <td>109.589996</td>\n",
       "      <td>108.540001</td>\n",
       "      <td>108.379997</td>\n",
       "      <td>109.589996</td>\n",
       "      <td>681900.0</td>\n",
       "    </tr>\n",
       "    <tr>\n",
       "      <th>1335</th>\n",
       "      <td>2010-01-06</td>\n",
       "      <td>108.949997</td>\n",
       "      <td>109.529999</td>\n",
       "      <td>108.220001</td>\n",
       "      <td>110.570000</td>\n",
       "      <td>1397500.0</td>\n",
       "    </tr>\n",
       "    <tr>\n",
       "      <th>1803</th>\n",
       "      <td>2010-01-07</td>\n",
       "      <td>109.250000</td>\n",
       "      <td>107.290001</td>\n",
       "      <td>106.639999</td>\n",
       "      <td>110.349998</td>\n",
       "      <td>797200.0</td>\n",
       "    </tr>\n",
       "    <tr>\n",
       "      <th>2271</th>\n",
       "      <td>2010-01-08</td>\n",
       "      <td>106.800003</td>\n",
       "      <td>106.769997</td>\n",
       "      <td>105.900002</td>\n",
       "      <td>107.279999</td>\n",
       "      <td>432400.0</td>\n",
       "    </tr>\n",
       "    <tr>\n",
       "      <th>...</th>\n",
       "      <td>...</td>\n",
       "      <td>...</td>\n",
       "      <td>...</td>\n",
       "      <td>...</td>\n",
       "      <td>...</td>\n",
       "      <td>...</td>\n",
       "    </tr>\n",
       "    <tr>\n",
       "      <th>848919</th>\n",
       "      <td>2016-12-23</td>\n",
       "      <td>352.100006</td>\n",
       "      <td>356.609985</td>\n",
       "      <td>350.369995</td>\n",
       "      <td>358.140015</td>\n",
       "      <td>338100.0</td>\n",
       "    </tr>\n",
       "    <tr>\n",
       "      <th>849419</th>\n",
       "      <td>2016-12-27</td>\n",
       "      <td>356.779999</td>\n",
       "      <td>356.720001</td>\n",
       "      <td>355.109985</td>\n",
       "      <td>359.649994</td>\n",
       "      <td>294600.0</td>\n",
       "    </tr>\n",
       "    <tr>\n",
       "      <th>849919</th>\n",
       "      <td>2016-12-28</td>\n",
       "      <td>357.220001</td>\n",
       "      <td>353.859985</td>\n",
       "      <td>353.429993</td>\n",
       "      <td>359.549988</td>\n",
       "      <td>291600.0</td>\n",
       "    </tr>\n",
       "    <tr>\n",
       "      <th>850419</th>\n",
       "      <td>2016-12-29</td>\n",
       "      <td>353.420013</td>\n",
       "      <td>357.089996</td>\n",
       "      <td>351.890015</td>\n",
       "      <td>358.929993</td>\n",
       "      <td>372000.0</td>\n",
       "    </tr>\n",
       "    <tr>\n",
       "      <th>850919</th>\n",
       "      <td>2016-12-30</td>\n",
       "      <td>358.149994</td>\n",
       "      <td>357.410004</td>\n",
       "      <td>353.480011</td>\n",
       "      <td>358.339996</td>\n",
       "      <td>500500.0</td>\n",
       "    </tr>\n",
       "  </tbody>\n",
       "</table>\n",
       "<p>1762 rows × 6 columns</p>\n",
       "</div>"
      ],
      "text/plain": [
       "              date        open       close         low        high     volume\n",
       "399     2010-01-04  106.519997  109.559998  106.510002  109.620003   576300.0\n",
       "867     2010-01-05  109.589996  108.540001  108.379997  109.589996   681900.0\n",
       "1335    2010-01-06  108.949997  109.529999  108.220001  110.570000  1397500.0\n",
       "1803    2010-01-07  109.250000  107.290001  106.639999  110.349998   797200.0\n",
       "2271    2010-01-08  106.800003  106.769997  105.900002  107.279999   432400.0\n",
       "...            ...         ...         ...         ...         ...        ...\n",
       "848919  2016-12-23  352.100006  356.609985  350.369995  358.140015   338100.0\n",
       "849419  2016-12-27  356.779999  356.720001  355.109985  359.649994   294600.0\n",
       "849919  2016-12-28  357.220001  353.859985  353.429993  359.549988   291600.0\n",
       "850419  2016-12-29  353.420013  357.089996  351.890015  358.929993   372000.0\n",
       "850919  2016-12-30  358.149994  357.410004  353.480011  358.339996   500500.0\n",
       "\n",
       "[1762 rows x 6 columns]"
      ]
     },
     "execution_count": 110,
     "metadata": {
      "tags": []
     },
     "output_type": "execute_result"
    }
   ],
   "source": [
    "df_stock1 = df[df.symbol == stock_name].copy()\n",
    "df_stock1.drop(['symbol'],1,inplace=True)\n",
    "df_stock1"
   ]
  },
  {
   "cell_type": "code",
   "execution_count": 0,
   "metadata": {
    "colab": {
     "base_uri": "https://localhost:8080/",
     "height": 86
    },
    "colab_type": "code",
    "executionInfo": {
     "elapsed": 4642,
     "status": "ok",
     "timestamp": 1587391002438,
     "user": {
      "displayName": "何寬穎",
      "photoUrl": "",
      "userId": "11068581471508390649"
     },
     "user_tz": -480
    },
    "id": "mivLgsA8MPVK",
    "outputId": "93e061f6-bcbb-49a7-ce9c-5a0878217ebd"
   },
   "outputs": [
    {
     "name": "stdout",
     "output_type": "stream",
     "text": [
      "Train Score: 0.00014 MSE \n",
      "Test Score: 0.00026 MSE \n"
     ]
    },
    {
     "data": {
      "text/plain": [
       "([0.0001417676768270814, 0.9921212348835381],\n",
       " [0.00025615046615712345, 0.9921466112136841])"
      ]
     },
     "execution_count": 113,
     "metadata": {
      "tags": []
     },
     "output_type": "execute_result"
    }
   ],
   "source": [
    "def model_score(model, x_train, y_train, x_test, y_test):\n",
    "    trainScore = model.evaluate(x_train, y_train, verbose=0)\n",
    "    print('Train Score: %.5f MSE ' % (trainScore[0]))\n",
    "\n",
    "    testScore = model.evaluate(x_test, y_test, verbose=0)\n",
    "    print('Test Score: %.5f MSE ' % (testScore[0]))\n",
    "    return trainScore, testScore\n",
    "\n",
    "## GitHub 參考 result\n",
    "# Train Score: 0.00019 MSE (0.01 RMSE)\n",
    "# Test Score: 0.00033 MSE (0.02 RMSE)\n",
    "\n",
    "model_score(model, x_train, y_train, x_test, y_test)"
   ]
  },
  {
   "cell_type": "code",
   "execution_count": 0,
   "metadata": {
    "colab": {
     "base_uri": "https://localhost:8080/",
     "height": 35
    },
    "colab_type": "code",
    "executionInfo": {
     "elapsed": 4414,
     "status": "ok",
     "timestamp": 1587391002438,
     "user": {
      "displayName": "何寬穎",
      "photoUrl": "",
      "userId": "11068581471508390649"
     },
     "user_tz": -480
    },
    "id": "hEAl9HS0bbYY",
    "outputId": "56e898ae-7eb6-4af1-b2fe-42d46892abec"
   },
   "outputs": [
    {
     "data": {
      "text/plain": [
       "(15, 1)"
      ]
     },
     "execution_count": 114,
     "metadata": {
      "tags": []
     },
     "output_type": "execute_result"
    }
   ],
   "source": [
    "# df_stock1 = df[df.symbol == stock_name].copy()\n",
    "# df_stock1.drop(['symbol'],1,inplace=True)\n",
    "pred = model.predict(x_test)\n",
    "pred[:,0]= list(scaler1.inverse_transform(np.array(pred[:,0]).reshape(-1,1)))\n",
    "# pred[:,1]= list(scaler2.inverse_transform(np.array(pred[:,1]).reshape(-1,1)))\n",
    "# pred[:,2]= list(scaler3.inverse_transform(np.array(pred[:,2]).reshape(-1,1)))\n",
    "# pred[:,3]= list(scaler4.inverse_transform(np.array(pred[:,3]).reshape(-1,1)))\n",
    "# pred[:,4]= list(scaler5.inverse_transform(np.array(pred[:,4]).reshape(-1,1)))\n",
    "pred.shape"
   ]
  },
  {
   "cell_type": "code",
   "execution_count": 0,
   "metadata": {
    "colab": {
     "base_uri": "https://localhost:8080/",
     "height": 35
    },
    "colab_type": "code",
    "executionInfo": {
     "elapsed": 4228,
     "status": "ok",
     "timestamp": 1587391002439,
     "user": {
      "displayName": "何寬穎",
      "photoUrl": "",
      "userId": "11068581471508390649"
     },
     "user_tz": -480
    },
    "id": "m8cZSi5YMPSv",
    "outputId": "12ef7363-a2a6-4de4-d88b-b2aeb0ce00db"
   },
   "outputs": [
    {
     "data": {
      "text/plain": [
       "(15, 1)"
      ]
     },
     "execution_count": 115,
     "metadata": {
      "tags": []
     },
     "output_type": "execute_result"
    }
   ],
   "source": [
    "y_test = y_test.reshape(y_test.shape[0] , y_test.shape[-1])\n",
    "y_test[:,0]= list(scaler1.inverse_transform(np.array(y_test[:,0]).reshape(-1,1)))\n",
    "# y_test[:,1]= list(scaler2.inverse_transform(np.array(y_test[:,1]).reshape(-1,1)))\n",
    "# y_test[:,2]= list(scaler3.inverse_transform(np.array(y_test[:,2]).reshape(-1,1)))\n",
    "# y_test[:,3]= list(scaler4.inverse_transform(np.array(y_test[:,3]).reshape(-1,1)))\n",
    "# y_test[:,4]= list(scaler5.inverse_transform(np.array(y_test[:,4]).reshape(-1,1)))\n",
    "y_test.shape"
   ]
  },
  {
   "cell_type": "code",
   "execution_count": 0,
   "metadata": {
    "colab": {
     "base_uri": "https://localhost:8080/",
     "height": 35
    },
    "colab_type": "code",
    "executionInfo": {
     "elapsed": 1595,
     "status": "ok",
     "timestamp": 1587391012831,
     "user": {
      "displayName": "何寬穎",
      "photoUrl": "",
      "userId": "11068581471508390649"
     },
     "user_tz": -480
    },
    "id": "BnDs1HhNKtXw",
    "outputId": "ff6a7a56-9c93-445e-eb5b-6b0129260192"
   },
   "outputs": [
    {
     "data": {
      "text/plain": [
       "(15,)"
      ]
     },
     "execution_count": 117,
     "metadata": {
      "tags": []
     },
     "output_type": "execute_result"
    }
   ],
   "source": [
    "y_test[:,0].shape"
   ]
  },
  {
   "cell_type": "code",
   "execution_count": 0,
   "metadata": {
    "colab": {},
    "colab_type": "code",
    "id": "lEx7lLRTGP0t"
   },
   "outputs": [],
   "source": [
    "# baseline_y=[]\n",
    "\n",
    "# # initialisation using y_valid at time 0 in valid\n",
    "# for i in range(feature_num_pre):\n",
    "#   baseline_y.append(list(y_test[i,i]))\n",
    "\n",
    "# for i in range(len(y_test[:,1])-1): #140\n",
    "#   for j in range(feature_num_pre): #4\n",
    "#     baseline_y[j].extend(y_test[i+1,j])\n",
    "# baseline_y=np.array(baseline_y).T\n",
    "\n",
    "# np.array(baseline_y).shape"
   ]
  },
  {
   "cell_type": "code",
   "execution_count": 0,
   "metadata": {
    "colab": {
     "base_uri": "https://localhost:8080/",
     "height": 367
    },
    "colab_type": "code",
    "executionInfo": {
     "elapsed": 1769,
     "status": "ok",
     "timestamp": 1587391013611,
     "user": {
      "displayName": "何寬穎",
      "photoUrl": "",
      "userId": "11068581471508390649"
     },
     "user_tz": -480
    },
    "id": "xTF18wNQc6ZG",
    "outputId": "d4552f99-966e-4473-b44e-af010612b260"
   },
   "outputs": [
    {
     "name": "stdout",
     "output_type": "stream",
     "text": [
      "prediction marker is 'o'\n"
     ]
    },
    {
     "data": {
      "image/png": "[encoded data removed]",
      "text/plain": [
       "<Figure size 1440x360 with 2 Axes>"
      ]
     },
     "metadata": {
      "needs_background": "light",
      "tags": []
     },
     "output_type": "display_data"
    }
   ],
   "source": [
    "print('prediction marker is \\'o\\'')\n",
    "plt.figure(figsize=(20, 5))\n",
    "plt.subplot(1,2,1)\n",
    "plt.plot(np.mean(y_test[:,:feature_num_pre],axis=1) , 'b', label='label')\n",
    "plt.plot(np.mean(pred[:,:feature_num_pre],axis=1) , 'r',label='prediction')\n",
    "plt.xlabel('Time')\n",
    "plt.ylabel('Stock Prices')\n",
    "plt.legend(loc='best')\n",
    "plt.title('prediction and label - average 4 features')\n",
    "plt.grid(True)\n",
    "\n",
    "plt.subplot(1,2,2)\n",
    "plt.plot(y_test[:,0], color='red', label='open_valid')\n",
    "plt.plot(pred[:,0], color='red', label='close_pred',marker='o')\n",
    "# plt.plot(y_test[:,1], color='blue', label='close_valid')\n",
    "# plt.plot(pred[:,1], color='blue', label='low_pred',marker='o')\n",
    "# plt.plot(y_test[:,2], color='green', label='low_valid')\n",
    "# plt.plot(pred[:,2], color='green', label='low_pred',marker='o')\n",
    "# plt.plot(y_test[:,3], color='gray', label='high_valid')\n",
    "# plt.plot(pred[:,3], color='gray', label='high_pred',marker='o')\n",
    "# plt.title('prediction and label - 4 features')\n",
    "plt.xlabel('Time')\n",
    "plt.ylabel('Stock Prices')\n",
    "plt.legend(loc='best')\n",
    "plt.grid(True)\n",
    "plt.show()"
   ]
  },
  {
   "cell_type": "code",
   "execution_count": 0,
   "metadata": {
    "colab": {},
    "colab_type": "code",
    "id": "gHomG359jYcR"
   },
   "outputs": [],
   "source": []
  }
 ],
 "metadata": {
  "colab": {
   "authorship_tag": "ABX9TyM6Z3yud6xu1F1mb4YLHAKk",
   "collapsed_sections": [],
   "name": "方法1_result_v7.ipynb",
   "provenance": [
    {
     "file_id": "1uPdWTb2rHVyxKyVk3fMpmUol0H-2neLO",
     "timestamp": 1587391452740
    },
    {
     "file_id": "1NEDr-JdlNO1Ln4P286WmRlcl5ZVY7xna",
     "timestamp": 1587391405069
    },
    {
     "file_id": "1rwPrI6RZGkQKOZVuL62NDDjNkrlDFPO5",
     "timestamp": 1586333483881
    }
   ]
  },
  "kernelspec": {
   "display_name": "Python 3",
   "language": "python",
   "name": "python3"
  },
  "language_info": {
   "codemirror_mode": {
    "name": "ipython",
    "version": 3
   },
   "file_extension": ".py",
   "mimetype": "text/x-python",
   "name": "python",
   "nbconvert_exporter": "python",
   "pygments_lexer": "ipython3",
   "version": "3.6.5"
  }
 },
 "nbformat": 4,
 "nbformat_minor": 1
}
