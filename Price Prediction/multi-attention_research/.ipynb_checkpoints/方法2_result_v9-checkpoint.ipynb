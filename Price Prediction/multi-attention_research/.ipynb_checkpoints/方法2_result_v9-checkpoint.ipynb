{
 "cells": [
  {
   "cell_type": "code",
   "execution_count": 0,
   "metadata": {
    "colab": {
     "base_uri": "https://localhost:8080/",
     "height": 242
    },
    "colab_type": "code",
    "executionInfo": {
     "elapsed": 8673,
     "status": "ok",
     "timestamp": 1587535008973,
     "user": {
      "displayName": "何寬穎",
      "photoUrl": "",
      "userId": "11068581471508390649"
     },
     "user_tz": -480
    },
    "id": "bUtknvMptLhq",
    "outputId": "3983a35b-d873-4451-ded1-35c05dba8fff"
   },
   "outputs": [
    {
     "name": "stdout",
     "output_type": "stream",
     "text": [
      "Collecting keras==2.0.9\n",
      "\u001b[?25l  Downloading https://files.pythonhosted.org/packages/b6/5a/c7fe49396e9d14f89b05ea550f3d5f8c4cfb3af20e831a3d323fec2a0d5b/Keras-2.0.9-py2.py3-none-any.whl (299kB)\n",
      "\u001b[K     |████████████████████████████████| 307kB 2.8MB/s \n",
      "\u001b[?25hRequirement already satisfied: scipy>=0.14 in /usr/local/lib/python3.6/dist-packages (from keras==2.0.9) (1.4.1)\n",
      "Requirement already satisfied: numpy>=1.9.1 in /usr/local/lib/python3.6/dist-packages (from keras==2.0.9) (1.18.2)\n",
      "Requirement already satisfied: six>=1.9.0 in /usr/local/lib/python3.6/dist-packages (from keras==2.0.9) (1.12.0)\n",
      "Requirement already satisfied: pyyaml in /usr/local/lib/python3.6/dist-packages (from keras==2.0.9) (3.13)\n",
      "\u001b[31mERROR: textgenrnn 1.4.1 has requirement keras>=2.1.5, but you'll have keras 2.0.9 which is incompatible.\u001b[0m\n",
      "Installing collected packages: keras\n",
      "  Found existing installation: Keras 2.3.1\n",
      "    Uninstalling Keras-2.3.1:\n",
      "      Successfully uninstalled Keras-2.3.1\n",
      "Successfully installed keras-2.0.9\n"
     ]
    }
   ],
   "source": [
    "# pip install keras==2.0.9"
   ]
  },
  {
   "cell_type": "code",
   "execution_count": 0,
   "metadata": {
    "colab": {
     "base_uri": "https://localhost:8080/",
     "height": 745
    },
    "colab_type": "code",
    "executionInfo": {
     "elapsed": 49316,
     "status": "ok",
     "timestamp": 1587535049629,
     "user": {
      "displayName": "何寬穎",
      "photoUrl": "",
      "userId": "11068581471508390649"
     },
     "user_tz": -480
    },
    "id": "Qo25MUYatC9w",
    "outputId": "d5f59e97-8819-4ab5-9b58-e06806918b97"
   },
   "outputs": [
    {
     "name": "stdout",
     "output_type": "stream",
     "text": [
      "Collecting tensorflow==1.4.0\n",
      "\u001b[?25l  Downloading https://files.pythonhosted.org/packages/86/9f/be0165c6eefd841e6928e54d3d083fa174f92d640fdc52f73a33dc9c54d1/tensorflow-1.4.0-cp36-cp36m-manylinux1_x86_64.whl (41.2MB)\n",
      "\u001b[K     |████████████████████████████████| 41.2MB 2.2MB/s \n",
      "\u001b[?25hCollecting enum34>=1.1.6\n",
      "  Downloading https://files.pythonhosted.org/packages/63/f6/ccb1c83687756aeabbf3ca0f213508fcfb03883ff200d201b3a4c60cedcc/enum34-1.1.10-py3-none-any.whl\n",
      "Requirement already satisfied: protobuf>=3.3.0 in /usr/local/lib/python3.6/dist-packages (from tensorflow==1.4.0) (3.10.0)\n",
      "Requirement already satisfied: numpy>=1.12.1 in /usr/local/lib/python3.6/dist-packages (from tensorflow==1.4.0) (1.18.2)\n",
      "Collecting tensorflow-tensorboard<0.5.0,>=0.4.0rc1\n",
      "\u001b[?25l  Downloading https://files.pythonhosted.org/packages/e9/9f/5845c18f9df5e7ea638ecf3a272238f0e7671e454faa396b5188c6e6fc0a/tensorflow_tensorboard-0.4.0-py3-none-any.whl (1.7MB)\n",
      "\u001b[K     |████████████████████████████████| 1.7MB 47.4MB/s \n",
      "\u001b[?25hRequirement already satisfied: wheel>=0.26 in /usr/local/lib/python3.6/dist-packages (from tensorflow==1.4.0) (0.34.2)\n",
      "Requirement already satisfied: six>=1.10.0 in /usr/local/lib/python3.6/dist-packages (from tensorflow==1.4.0) (1.12.0)\n",
      "Requirement already satisfied: setuptools in /usr/local/lib/python3.6/dist-packages (from protobuf>=3.3.0->tensorflow==1.4.0) (46.1.3)\n",
      "Collecting html5lib==0.9999999\n",
      "\u001b[?25l  Downloading https://files.pythonhosted.org/packages/ae/ae/bcb60402c60932b32dfaf19bb53870b29eda2cd17551ba5639219fb5ebf9/html5lib-0.9999999.tar.gz (889kB)\n",
      "\u001b[K     |████████████████████████████████| 890kB 44.5MB/s \n",
      "\u001b[?25hRequirement already satisfied: markdown>=2.6.8 in /usr/local/lib/python3.6/dist-packages (from tensorflow-tensorboard<0.5.0,>=0.4.0rc1->tensorflow==1.4.0) (3.2.1)\n",
      "Collecting bleach==1.5.0\n",
      "  Downloading https://files.pythonhosted.org/packages/33/70/86c5fec937ea4964184d4d6c4f0b9551564f821e1c3575907639036d9b90/bleach-1.5.0-py2.py3-none-any.whl\n",
      "Requirement already satisfied: werkzeug>=0.11.10 in /usr/local/lib/python3.6/dist-packages (from tensorflow-tensorboard<0.5.0,>=0.4.0rc1->tensorflow==1.4.0) (1.0.1)\n",
      "Building wheels for collected packages: html5lib\n",
      "  Building wheel for html5lib (setup.py) ... \u001b[?25l\u001b[?25hdone\n",
      "  Created wheel for html5lib: filename=html5lib-0.9999999-cp36-none-any.whl size=107220 sha256=6040670a7363d8b93891fda585ade1c7a99b4c5d7b78f735d59bb0a8d7613805\n",
      "  Stored in directory: /root/.cache/pip/wheels/50/ae/f9/d2b189788efcf61d1ee0e36045476735c838898eef1cad6e29\n",
      "Successfully built html5lib\n",
      "Installing collected packages: enum34, html5lib, bleach, tensorflow-tensorboard, tensorflow\n",
      "  Found existing installation: html5lib 1.0.1\n",
      "    Uninstalling html5lib-1.0.1:\n",
      "      Successfully uninstalled html5lib-1.0.1\n",
      "  Found existing installation: bleach 3.1.4\n",
      "    Uninstalling bleach-3.1.4:\n",
      "      Successfully uninstalled bleach-3.1.4\n",
      "  Found existing installation: tensorflow 2.2.0rc3\n",
      "    Uninstalling tensorflow-2.2.0rc3:\n",
      "      Successfully uninstalled tensorflow-2.2.0rc3\n",
      "Successfully installed bleach-1.5.0 enum34-1.1.10 html5lib-0.9999999 tensorflow-1.4.0 tensorflow-tensorboard-0.4.0\n"
     ]
    },
    {
     "data": {
      "application/vnd.colab-display-data+json": {
       "pip_warning": {
        "packages": [
         "enum"
        ]
       }
      }
     },
     "metadata": {
      "tags": []
     },
     "output_type": "display_data"
    }
   ],
   "source": [
    "# pip install tensorflow==1.4.0"
   ]
  },
  {
   "cell_type": "code",
   "execution_count": 0,
   "metadata": {
    "colab": {},
    "colab_type": "code",
    "id": "bO7jlLcKXkkZ"
   },
   "outputs": [],
   "source": [
    "import numpy as np\n",
    "import pandas as pd\n",
    "import math\n",
    "import sklearn\n",
    "import sklearn.preprocessing\n",
    "import datetime\n",
    "import os\n",
    "import matplotlib.pyplot as plt\n",
    "\n",
    "### valid data should be bigger than seq_len ###\n",
    "train_set_size_percentage = 98 # percentage for the training over the whole original dataset\n",
    "stock_name='EQIX' # Choose whick stock\n",
    "seq_len = 20 # choose sequence length for a time slot\n",
    "window = seq_len-1\n",
    "feature_num_pre=1 # dimension for the prediction (label)\n",
    "feature_num_nn_input=5  # dimension for NN input features\n",
    "checkpoint_path = \"parameter_v5.ckpt\" # check point name"
   ]
  },
  {
   "cell_type": "markdown",
   "metadata": {
    "colab_type": "text",
    "id": "UA5fNP50cmkK"
   },
   "source": [
    "1. Multihead_attention  \n",
    "\n",
    "\n",
    "\n",
    "Problem:  \n",
    "create a checkpoint\n",
    "LR or other parameters need to be tuned  \n",
    "預測後滯性  \n",
    "feature selection method\n",
    "\n",
    "心得:   \n",
    "其他loss 不穩, pearson 是一個穩定指標  \n"
   ]
  },
  {
   "cell_type": "code",
   "execution_count": 0,
   "metadata": {
    "colab": {},
    "colab_type": "code",
    "id": "qEjRCOdRcIca"
   },
   "outputs": [],
   "source": [
    "url = 'https://raw.githubusercontent.com/ccalvin97/terminal_used/master/data/prices-split-adjusted.csv?token=AKAMPRT2OZ7ZSWA2WQ6BLVS6UAXIY'\n",
    "df = pd.read_csv(url)\n",
    "# Dataset is now stored in a Pandas Dataframe"
   ]
  },
  {
   "cell_type": "code",
   "execution_count": 0,
   "metadata": {
    "colab": {
     "base_uri": "https://localhost:8080/",
     "height": 311
    },
    "colab_type": "code",
    "executionInfo": {
     "elapsed": 2072,
     "status": "ok",
     "timestamp": 1587555944761,
     "user": {
      "displayName": "何寬穎",
      "photoUrl": "",
      "userId": "11068581471508390649"
     },
     "user_tz": -480
    },
    "id": "57JRLoPUXs1T",
    "outputId": "4de39b88-141e-418a-b4d2-a9269939c672"
   },
   "outputs": [
    {
     "name": "stdout",
     "output_type": "stream",
     "text": [
      "<class 'pandas.core.frame.DataFrame'>\n",
      "RangeIndex: 851264 entries, 0 to 851263\n",
      "Data columns (total 7 columns):\n",
      " #   Column  Non-Null Count   Dtype  \n",
      "---  ------  --------------   -----  \n",
      " 0   date    851264 non-null  object \n",
      " 1   symbol  851264 non-null  object \n",
      " 2   open    851264 non-null  float64\n",
      " 3   close   851264 non-null  float64\n",
      " 4   low     851264 non-null  float64\n",
      " 5   high    851264 non-null  float64\n",
      " 6   volume  851264 non-null  float64\n",
      "dtypes: float64(5), object(2)\n",
      "memory usage: 45.5+ MB\n",
      "\n",
      "number of different stocks:  501\n",
      "['WU', 'BLL', 'CELG', 'NAVI', 'KMX', 'SO', 'EVHC', 'BWA', 'STZ', 'DNB']\n"
     ]
    }
   ],
   "source": [
    "# import all stock prices \n",
    "# df = pd.read_csv(\"/content/sample_data/prices-split-adjusted.csv\", index_col = 0)\n",
    "df.info()\n",
    "df.head()\n",
    "\n",
    "# number of different stocks\n",
    "print('\\nnumber of different stocks: ', len(list(set(df.symbol))))\n",
    "print(list(set(df.symbol))[:10])"
   ]
  },
  {
   "cell_type": "code",
   "execution_count": 0,
   "metadata": {
    "colab": {
     "base_uri": "https://localhost:8080/",
     "height": 198
    },
    "colab_type": "code",
    "executionInfo": {
     "elapsed": 2429,
     "status": "ok",
     "timestamp": 1587555945700,
     "user": {
      "displayName": "何寬穎",
      "photoUrl": "",
      "userId": "11068581471508390649"
     },
     "user_tz": -480
    },
    "id": "k1sp7AAxYSI4",
    "outputId": "e045b823-d495-455c-8d25-9a40cad1bee6"
   },
   "outputs": [
    {
     "data": {
      "text/html": [
       "<div>\n",
       "<style scoped>\n",
       "    .dataframe tbody tr th:only-of-type {\n",
       "        vertical-align: middle;\n",
       "    }\n",
       "\n",
       "    .dataframe tbody tr th {\n",
       "        vertical-align: top;\n",
       "    }\n",
       "\n",
       "    .dataframe thead th {\n",
       "        text-align: right;\n",
       "    }\n",
       "</style>\n",
       "<table border=\"1\" class=\"dataframe\">\n",
       "  <thead>\n",
       "    <tr style=\"text-align: right;\">\n",
       "      <th></th>\n",
       "      <th>date</th>\n",
       "      <th>symbol</th>\n",
       "      <th>open</th>\n",
       "      <th>close</th>\n",
       "      <th>low</th>\n",
       "      <th>high</th>\n",
       "      <th>volume</th>\n",
       "    </tr>\n",
       "  </thead>\n",
       "  <tbody>\n",
       "    <tr>\n",
       "      <th>851259</th>\n",
       "      <td>2016-12-30</td>\n",
       "      <td>ZBH</td>\n",
       "      <td>103.309998</td>\n",
       "      <td>103.199997</td>\n",
       "      <td>102.849998</td>\n",
       "      <td>103.930000</td>\n",
       "      <td>973800.0</td>\n",
       "    </tr>\n",
       "    <tr>\n",
       "      <th>851260</th>\n",
       "      <td>2016-12-30</td>\n",
       "      <td>ZION</td>\n",
       "      <td>43.070000</td>\n",
       "      <td>43.040001</td>\n",
       "      <td>42.689999</td>\n",
       "      <td>43.310001</td>\n",
       "      <td>1938100.0</td>\n",
       "    </tr>\n",
       "    <tr>\n",
       "      <th>851261</th>\n",
       "      <td>2016-12-30</td>\n",
       "      <td>ZTS</td>\n",
       "      <td>53.639999</td>\n",
       "      <td>53.529999</td>\n",
       "      <td>53.270000</td>\n",
       "      <td>53.740002</td>\n",
       "      <td>1701200.0</td>\n",
       "    </tr>\n",
       "    <tr>\n",
       "      <th>851262</th>\n",
       "      <td>2016-12-30</td>\n",
       "      <td>AIV</td>\n",
       "      <td>44.730000</td>\n",
       "      <td>45.450001</td>\n",
       "      <td>44.410000</td>\n",
       "      <td>45.590000</td>\n",
       "      <td>1380900.0</td>\n",
       "    </tr>\n",
       "    <tr>\n",
       "      <th>851263</th>\n",
       "      <td>2016-12-30</td>\n",
       "      <td>FTV</td>\n",
       "      <td>54.200001</td>\n",
       "      <td>53.630001</td>\n",
       "      <td>53.389999</td>\n",
       "      <td>54.480000</td>\n",
       "      <td>705100.0</td>\n",
       "    </tr>\n",
       "  </tbody>\n",
       "</table>\n",
       "</div>"
      ],
      "text/plain": [
       "              date symbol        open  ...         low        high     volume\n",
       "851259  2016-12-30    ZBH  103.309998  ...  102.849998  103.930000   973800.0\n",
       "851260  2016-12-30   ZION   43.070000  ...   42.689999   43.310001  1938100.0\n",
       "851261  2016-12-30    ZTS   53.639999  ...   53.270000   53.740002  1701200.0\n",
       "851262  2016-12-30    AIV   44.730000  ...   44.410000   45.590000  1380900.0\n",
       "851263  2016-12-30    FTV   54.200001  ...   53.389999   54.480000   705100.0\n",
       "\n",
       "[5 rows x 7 columns]"
      ]
     },
     "execution_count": 5,
     "metadata": {
      "tags": []
     },
     "output_type": "execute_result"
    }
   ],
   "source": [
    "df.tail()"
   ]
  },
  {
   "cell_type": "code",
   "execution_count": 0,
   "metadata": {
    "colab": {
     "base_uri": "https://localhost:8080/",
     "height": 288
    },
    "colab_type": "code",
    "executionInfo": {
     "elapsed": 2874,
     "status": "ok",
     "timestamp": 1587555946379,
     "user": {
      "displayName": "何寬穎",
      "photoUrl": "",
      "userId": "11068581471508390649"
     },
     "user_tz": -480
    },
    "id": "ZMx8OCmzeCXj",
    "outputId": "2dd38002-55bd-406a-fb89-9aa9db322d9f"
   },
   "outputs": [
    {
     "data": {
      "text/html": [
       "<div>\n",
       "<style scoped>\n",
       "    .dataframe tbody tr th:only-of-type {\n",
       "        vertical-align: middle;\n",
       "    }\n",
       "\n",
       "    .dataframe tbody tr th {\n",
       "        vertical-align: top;\n",
       "    }\n",
       "\n",
       "    .dataframe thead th {\n",
       "        text-align: right;\n",
       "    }\n",
       "</style>\n",
       "<table border=\"1\" class=\"dataframe\">\n",
       "  <thead>\n",
       "    <tr style=\"text-align: right;\">\n",
       "      <th></th>\n",
       "      <th>open</th>\n",
       "      <th>close</th>\n",
       "      <th>low</th>\n",
       "      <th>high</th>\n",
       "      <th>volume</th>\n",
       "    </tr>\n",
       "  </thead>\n",
       "  <tbody>\n",
       "    <tr>\n",
       "      <th>count</th>\n",
       "      <td>851264.000000</td>\n",
       "      <td>851264.000000</td>\n",
       "      <td>851264.000000</td>\n",
       "      <td>851264.000000</td>\n",
       "      <td>8.512640e+05</td>\n",
       "    </tr>\n",
       "    <tr>\n",
       "      <th>mean</th>\n",
       "      <td>64.993618</td>\n",
       "      <td>65.011913</td>\n",
       "      <td>64.336541</td>\n",
       "      <td>65.639748</td>\n",
       "      <td>5.415113e+06</td>\n",
       "    </tr>\n",
       "    <tr>\n",
       "      <th>std</th>\n",
       "      <td>75.203893</td>\n",
       "      <td>75.201216</td>\n",
       "      <td>74.459518</td>\n",
       "      <td>75.906861</td>\n",
       "      <td>1.249468e+07</td>\n",
       "    </tr>\n",
       "    <tr>\n",
       "      <th>min</th>\n",
       "      <td>1.660000</td>\n",
       "      <td>1.590000</td>\n",
       "      <td>1.500000</td>\n",
       "      <td>1.810000</td>\n",
       "      <td>0.000000e+00</td>\n",
       "    </tr>\n",
       "    <tr>\n",
       "      <th>25%</th>\n",
       "      <td>31.270000</td>\n",
       "      <td>31.292776</td>\n",
       "      <td>30.940001</td>\n",
       "      <td>31.620001</td>\n",
       "      <td>1.221500e+06</td>\n",
       "    </tr>\n",
       "    <tr>\n",
       "      <th>50%</th>\n",
       "      <td>48.459999</td>\n",
       "      <td>48.480000</td>\n",
       "      <td>47.970001</td>\n",
       "      <td>48.959999</td>\n",
       "      <td>2.476250e+06</td>\n",
       "    </tr>\n",
       "    <tr>\n",
       "      <th>75%</th>\n",
       "      <td>75.120003</td>\n",
       "      <td>75.139999</td>\n",
       "      <td>74.400002</td>\n",
       "      <td>75.849998</td>\n",
       "      <td>5.222500e+06</td>\n",
       "    </tr>\n",
       "    <tr>\n",
       "      <th>max</th>\n",
       "      <td>1584.439941</td>\n",
       "      <td>1578.130005</td>\n",
       "      <td>1549.939941</td>\n",
       "      <td>1600.930054</td>\n",
       "      <td>8.596434e+08</td>\n",
       "    </tr>\n",
       "  </tbody>\n",
       "</table>\n",
       "</div>"
      ],
      "text/plain": [
       "                open          close            low           high        volume\n",
       "count  851264.000000  851264.000000  851264.000000  851264.000000  8.512640e+05\n",
       "mean       64.993618      65.011913      64.336541      65.639748  5.415113e+06\n",
       "std        75.203893      75.201216      74.459518      75.906861  1.249468e+07\n",
       "min         1.660000       1.590000       1.500000       1.810000  0.000000e+00\n",
       "25%        31.270000      31.292776      30.940001      31.620001  1.221500e+06\n",
       "50%        48.459999      48.480000      47.970001      48.959999  2.476250e+06\n",
       "75%        75.120003      75.139999      74.400002      75.849998  5.222500e+06\n",
       "max      1584.439941    1578.130005    1549.939941    1600.930054  8.596434e+08"
      ]
     },
     "execution_count": 6,
     "metadata": {
      "tags": []
     },
     "output_type": "execute_result"
    }
   ],
   "source": [
    "df.describe()"
   ]
  },
  {
   "cell_type": "code",
   "execution_count": 0,
   "metadata": {
    "colab": {
     "base_uri": "https://localhost:8080/",
     "height": 259
    },
    "colab_type": "code",
    "executionInfo": {
     "elapsed": 2659,
     "status": "ok",
     "timestamp": 1587555946380,
     "user": {
      "displayName": "何寬穎",
      "photoUrl": "",
      "userId": "11068581471508390649"
     },
     "user_tz": -480
    },
    "id": "I8C5rYEUeumI",
    "outputId": "5d3807f6-c394-4362-ea87-9779fcbc965c"
   },
   "outputs": [
    {
     "name": "stdout",
     "output_type": "stream",
     "text": [
      "<class 'pandas.core.frame.DataFrame'>\n",
      "RangeIndex: 851264 entries, 0 to 851263\n",
      "Data columns (total 7 columns):\n",
      " #   Column  Non-Null Count   Dtype  \n",
      "---  ------  --------------   -----  \n",
      " 0   date    851264 non-null  object \n",
      " 1   symbol  851264 non-null  object \n",
      " 2   open    851264 non-null  float64\n",
      " 3   close   851264 non-null  float64\n",
      " 4   low     851264 non-null  float64\n",
      " 5   high    851264 non-null  float64\n",
      " 6   volume  851264 non-null  float64\n",
      "dtypes: float64(5), object(2)\n",
      "memory usage: 45.5+ MB\n"
     ]
    }
   ],
   "source": [
    "df.info()"
   ]
  },
  {
   "cell_type": "code",
   "execution_count": 0,
   "metadata": {
    "colab": {
     "base_uri": "https://localhost:8080/",
     "height": 198
    },
    "colab_type": "code",
    "executionInfo": {
     "elapsed": 2481,
     "status": "ok",
     "timestamp": 1587555946381,
     "user": {
      "displayName": "何寬穎",
      "photoUrl": "",
      "userId": "11068581471508390649"
     },
     "user_tz": -480
    },
    "id": "bRwaiIbxl3Jn",
    "outputId": "74bfe08e-26e3-4747-af93-915a515dac5b"
   },
   "outputs": [
    {
     "data": {
      "text/html": [
       "<div>\n",
       "<style scoped>\n",
       "    .dataframe tbody tr th:only-of-type {\n",
       "        vertical-align: middle;\n",
       "    }\n",
       "\n",
       "    .dataframe tbody tr th {\n",
       "        vertical-align: top;\n",
       "    }\n",
       "\n",
       "    .dataframe thead th {\n",
       "        text-align: right;\n",
       "    }\n",
       "</style>\n",
       "<table border=\"1\" class=\"dataframe\">\n",
       "  <thead>\n",
       "    <tr style=\"text-align: right;\">\n",
       "      <th></th>\n",
       "      <th>open</th>\n",
       "      <th>close</th>\n",
       "      <th>low</th>\n",
       "      <th>high</th>\n",
       "      <th>volume</th>\n",
       "    </tr>\n",
       "  </thead>\n",
       "  <tbody>\n",
       "    <tr>\n",
       "      <th>open</th>\n",
       "      <td>NaN</td>\n",
       "      <td>0.999845</td>\n",
       "      <td>0.999914</td>\n",
       "      <td>0.999928</td>\n",
       "      <td>NaN</td>\n",
       "    </tr>\n",
       "    <tr>\n",
       "      <th>close</th>\n",
       "      <td>0.999845</td>\n",
       "      <td>NaN</td>\n",
       "      <td>0.999926</td>\n",
       "      <td>0.999925</td>\n",
       "      <td>NaN</td>\n",
       "    </tr>\n",
       "    <tr>\n",
       "      <th>low</th>\n",
       "      <td>0.999914</td>\n",
       "      <td>0.999926</td>\n",
       "      <td>NaN</td>\n",
       "      <td>0.999889</td>\n",
       "      <td>NaN</td>\n",
       "    </tr>\n",
       "    <tr>\n",
       "      <th>high</th>\n",
       "      <td>0.999928</td>\n",
       "      <td>0.999925</td>\n",
       "      <td>0.999889</td>\n",
       "      <td>NaN</td>\n",
       "      <td>NaN</td>\n",
       "    </tr>\n",
       "    <tr>\n",
       "      <th>volume</th>\n",
       "      <td>NaN</td>\n",
       "      <td>NaN</td>\n",
       "      <td>NaN</td>\n",
       "      <td>NaN</td>\n",
       "      <td>NaN</td>\n",
       "    </tr>\n",
       "  </tbody>\n",
       "</table>\n",
       "</div>"
      ],
      "text/plain": [
       "            open     close       low      high  volume\n",
       "open         NaN  0.999845  0.999914  0.999928     NaN\n",
       "close   0.999845       NaN  0.999926  0.999925     NaN\n",
       "low     0.999914  0.999926       NaN  0.999889     NaN\n",
       "high    0.999928  0.999925  0.999889       NaN     NaN\n",
       "volume       NaN       NaN       NaN       NaN     NaN"
      ]
     },
     "execution_count": 8,
     "metadata": {
      "tags": []
     },
     "output_type": "execute_result"
    }
   ],
   "source": [
    "df.iloc[:,2:].corr()\n",
    "df.corr(method='pearson')[(df.corr() > 0.8) & (df.corr() != 1) | (df.corr() < -0.8) & (df.corr() != -1)]"
   ]
  },
  {
   "cell_type": "code",
   "execution_count": 0,
   "metadata": {
    "colab": {
     "base_uri": "https://localhost:8080/",
     "height": 198
    },
    "colab_type": "code",
    "executionInfo": {
     "elapsed": 4276,
     "status": "ok",
     "timestamp": 1587555948393,
     "user": {
      "displayName": "何寬穎",
      "photoUrl": "",
      "userId": "11068581471508390649"
     },
     "user_tz": -480
    },
    "id": "joIEUAZA2XTt",
    "outputId": "115259fb-ae99-46be-e51d-954761108e76"
   },
   "outputs": [
    {
     "data": {
      "text/html": [
       "<div>\n",
       "<style scoped>\n",
       "    .dataframe tbody tr th:only-of-type {\n",
       "        vertical-align: middle;\n",
       "    }\n",
       "\n",
       "    .dataframe tbody tr th {\n",
       "        vertical-align: top;\n",
       "    }\n",
       "\n",
       "    .dataframe thead th {\n",
       "        text-align: right;\n",
       "    }\n",
       "</style>\n",
       "<table border=\"1\" class=\"dataframe\">\n",
       "  <thead>\n",
       "    <tr style=\"text-align: right;\">\n",
       "      <th></th>\n",
       "      <th>open</th>\n",
       "      <th>close</th>\n",
       "      <th>low</th>\n",
       "      <th>high</th>\n",
       "      <th>volume</th>\n",
       "    </tr>\n",
       "  </thead>\n",
       "  <tbody>\n",
       "    <tr>\n",
       "      <th>open</th>\n",
       "      <td>NaN</td>\n",
       "      <td>0.999752</td>\n",
       "      <td>0.999859</td>\n",
       "      <td>0.999878</td>\n",
       "      <td>NaN</td>\n",
       "    </tr>\n",
       "    <tr>\n",
       "      <th>close</th>\n",
       "      <td>0.999752</td>\n",
       "      <td>NaN</td>\n",
       "      <td>0.999872</td>\n",
       "      <td>0.999878</td>\n",
       "      <td>NaN</td>\n",
       "    </tr>\n",
       "    <tr>\n",
       "      <th>low</th>\n",
       "      <td>0.999859</td>\n",
       "      <td>0.999872</td>\n",
       "      <td>NaN</td>\n",
       "      <td>0.999805</td>\n",
       "      <td>NaN</td>\n",
       "    </tr>\n",
       "    <tr>\n",
       "      <th>high</th>\n",
       "      <td>0.999878</td>\n",
       "      <td>0.999878</td>\n",
       "      <td>0.999805</td>\n",
       "      <td>NaN</td>\n",
       "      <td>NaN</td>\n",
       "    </tr>\n",
       "    <tr>\n",
       "      <th>volume</th>\n",
       "      <td>NaN</td>\n",
       "      <td>NaN</td>\n",
       "      <td>NaN</td>\n",
       "      <td>NaN</td>\n",
       "      <td>NaN</td>\n",
       "    </tr>\n",
       "  </tbody>\n",
       "</table>\n",
       "</div>"
      ],
      "text/plain": [
       "            open     close       low      high  volume\n",
       "open         NaN  0.999752  0.999859  0.999878     NaN\n",
       "close   0.999752       NaN  0.999872  0.999878     NaN\n",
       "low     0.999859  0.999872       NaN  0.999805     NaN\n",
       "high    0.999878  0.999878  0.999805       NaN     NaN\n",
       "volume       NaN       NaN       NaN       NaN     NaN"
      ]
     },
     "execution_count": 9,
     "metadata": {
      "tags": []
     },
     "output_type": "execute_result"
    }
   ],
   "source": [
    "df.iloc[:,2:].corr()\n",
    "df.corr(method='spearman')[(df.corr() > 0.8) & (df.corr() != 1) | (df.corr() < -0.8) & (df.corr() != -1)]"
   ]
  },
  {
   "cell_type": "code",
   "execution_count": 0,
   "metadata": {
    "colab": {
     "base_uri": "https://localhost:8080/",
     "height": 350
    },
    "colab_type": "code",
    "executionInfo": {
     "elapsed": 9424,
     "status": "ok",
     "timestamp": 1587555953813,
     "user": {
      "displayName": "何寬穎",
      "photoUrl": "",
      "userId": "11068581471508390649"
     },
     "user_tz": -480
    },
    "id": "Grn7qwwLew5T",
    "outputId": "ee9a2323-2b0a-4938-c110-06b0f0b9e916"
   },
   "outputs": [
    {
     "data": {
      "image/png": "[encoded data removed]",
      "text/plain": [
       "<Figure size 1080x360 with 2 Axes>"
      ]
     },
     "metadata": {
      "needs_background": "light",
      "tags": []
     },
     "output_type": "display_data"
    }
   ],
   "source": [
    "plt.figure(figsize=(15, 5));\n",
    "plt.subplot(1,2,1);\n",
    "plt.plot(df[df.symbol == stock_name].open.values, color='red', label='open')\n",
    "plt.plot(df[df.symbol == stock_name].close.values, color='green', label='close')\n",
    "plt.plot(df[df.symbol == stock_name].low.values, color='blue', label='low')\n",
    "plt.plot(df[df.symbol == stock_name].high.values, color='black', label='high')\n",
    "plt.title('stock price')\n",
    "plt.xlabel('time [days]')\n",
    "plt.ylabel('price')\n",
    "plt.legend(loc='best')\n",
    "#plt.show()\n",
    "\n",
    "plt.subplot(1,2,2);\n",
    "plt.plot(df[df.symbol == stock_name].volume.values, color='black', label='volume')\n",
    "plt.title('stock volume')\n",
    "plt.xlabel('time [days]')\n",
    "plt.ylabel('volume')\n",
    "plt.legend(loc='best');\n"
   ]
  },
  {
   "cell_type": "code",
   "execution_count": 0,
   "metadata": {
    "colab": {
     "base_uri": "https://localhost:8080/",
     "height": 35
    },
    "colab_type": "code",
    "executionInfo": {
     "elapsed": 9158,
     "status": "ok",
     "timestamp": 1587555953813,
     "user": {
      "displayName": "何寬穎",
      "photoUrl": "",
      "userId": "11068581471508390649"
     },
     "user_tz": -480
    },
    "id": "s1WgTS44B0QK",
    "outputId": "1d646161-16a6-4a6c-f9f2-f421d2f49fa3"
   },
   "outputs": [
    {
     "data": {
      "text/plain": [
       "(1762, 6)"
      ]
     },
     "execution_count": 11,
     "metadata": {
      "tags": []
     },
     "output_type": "execute_result"
    }
   ],
   "source": [
    "# choose one stock\n",
    "df_stock = df[df.symbol == stock_name].copy()\n",
    "df_stock.drop(['symbol'],1,inplace=True)\n",
    "# df_stock.drop(['volume'],1,inplace=True)\n",
    "\n",
    "df_stock.shape"
   ]
  },
  {
   "cell_type": "code",
   "execution_count": 0,
   "metadata": {
    "colab": {
     "base_uri": "https://localhost:8080/",
     "height": 52
    },
    "colab_type": "code",
    "executionInfo": {
     "elapsed": 8593,
     "status": "ok",
     "timestamp": 1587555953814,
     "user": {
      "displayName": "何寬穎",
      "photoUrl": "",
      "userId": "11068581471508390649"
     },
     "user_tz": -480
    },
    "id": "leiBeszhCcFi",
    "outputId": "1d7c5c05-cfde-41b7-a16f-31aad7d4183e"
   },
   "outputs": [
    {
     "name": "stdout",
     "output_type": "stream",
     "text": [
      "(35, 6)\n"
     ]
    },
    {
     "data": {
      "text/plain": [
       "(1727, 6)"
      ]
     },
     "execution_count": 12,
     "metadata": {
      "tags": []
     },
     "output_type": "execute_result"
    }
   ],
   "source": [
    "# split data in train/validation sets\n",
    "\n",
    "valid_set_size = int(np.round(train_set_size_percentage/100*df_stock.shape[0]))\n",
    "train_data, test_data = df_stock[:valid_set_size][:], df_stock[valid_set_size:][:]\n",
    "print(test_data.shape)\n",
    "train_data.shape"
   ]
  },
  {
   "cell_type": "code",
   "execution_count": 0,
   "metadata": {
    "colab": {
     "base_uri": "https://localhost:8080/",
     "height": 35
    },
    "colab_type": "code",
    "executionInfo": {
     "elapsed": 7978,
     "status": "ok",
     "timestamp": 1587555953814,
     "user": {
      "displayName": "何寬穎",
      "photoUrl": "",
      "userId": "11068581471508390649"
     },
     "user_tz": -480
    },
    "id": "FfIGOk_cHLgD",
    "outputId": "d313b0c8-0fef-4dab-f675-42ed3b544310"
   },
   "outputs": [
    {
     "name": "stdout",
     "output_type": "stream",
     "text": [
      "(35, 6)\n"
     ]
    }
   ],
   "source": [
    "from sklearn.preprocessing import MinMaxScaler\n",
    "scaler1 = MinMaxScaler(feature_range=(0, 1))\n",
    "train_data['open'] = scaler1.fit_transform(np.array(train_data['open']).reshape(-1,1))\n",
    "test_data['open']= scaler1.transform(np.array(test_data['open']).reshape(-1,1))\n",
    "\n",
    "scaler2 = MinMaxScaler(feature_range=(0, 1))\n",
    "train_data['close'] = scaler2.fit_transform(np.array(train_data['close']).reshape(-1,1))\n",
    "test_data['close']=scaler2.transform(np.array(test_data['close']).reshape(-1,1))\n",
    "\n",
    "scaler3 = MinMaxScaler(feature_range=(0, 1))\n",
    "train_data['low'] = scaler3.fit_transform(np.array(train_data['low']).reshape(-1,1))\n",
    "test_data['low']=scaler3.transform(np.array(test_data['low']).reshape(-1,1))\n",
    "\n",
    "scaler4 = MinMaxScaler(feature_range=(0, 1))\n",
    "train_data['high'] = scaler4.fit_transform(np.array(train_data['high']).reshape(-1,1))\n",
    "test_data['high']=scaler4.transform(np.array(test_data['high']).reshape(-1,1))\n",
    "\n",
    "scaler5 = MinMaxScaler(feature_range=(0, 1))\n",
    "train_data['volume'] = scaler5.fit_transform(np.array(train_data['volume']).reshape(-1,1))\n",
    "test_data['volume']=scaler5.transform(np.array(test_data['volume']).reshape(-1,1))\n",
    "\n",
    "# print(train_data)\n",
    "print(test_data.shape)"
   ]
  },
  {
   "cell_type": "code",
   "execution_count": 0,
   "metadata": {
    "colab": {
     "base_uri": "https://localhost:8080/",
     "height": 367
    },
    "colab_type": "code",
    "executionInfo": {
     "elapsed": 7448,
     "status": "ok",
     "timestamp": 1587555953815,
     "user": {
      "displayName": "何寬穎",
      "photoUrl": "",
      "userId": "11068581471508390649"
     },
     "user_tz": -480
    },
    "id": "B6vJqTcHe7rB",
    "outputId": "91527ac7-4a1e-4147-b5d4-cd439352165b"
   },
   "outputs": [
    {
     "data": {
      "text/plain": [
       "<matplotlib.legend.Legend at 0x7f460eae2da0>"
      ]
     },
     "execution_count": 14,
     "metadata": {
      "tags": []
     },
     "output_type": "execute_result"
    },
    {
     "data": {
      "image/png": "[encoded data removed]",
      "text/plain": [
       "<Figure size 1080x360 with 2 Axes>"
      ]
     },
     "metadata": {
      "needs_background": "light",
      "tags": []
     },
     "output_type": "display_data"
    }
   ],
   "source": [
    "plt.figure(figsize=(15, 5));\n",
    "plt.subplot(1,2,1);\n",
    "plt.plot(train_data.open.values, color='red', label='open')\n",
    "plt.plot(train_data.close.values, color='green', label='low')\n",
    "plt.plot(train_data.low.values, color='blue', label='low')\n",
    "plt.plot(train_data.high.values, color='black', label='high')\n",
    "plt.plot(train_data.volume.values, color='gray', label='volume')\n",
    "plt.title('train_data')\n",
    "plt.xlabel('time [days]')\n",
    "plt.ylabel('normalized price/volume')\n",
    "plt.legend(loc='best')\n",
    "\n",
    "plt.subplot(1,2,2);\n",
    "plt.plot(test_data.open.values, color='red', label='open')\n",
    "plt.plot(test_data.close.values, color='green', label='low')\n",
    "plt.plot(test_data.low.values, color='blue', label='low')\n",
    "plt.plot(test_data.high.values, color='black', label='high')\n",
    "plt.plot(test_data.volume.values, color='gray', label='volume')\n",
    "plt.title('test_data')\n",
    "plt.xlabel('time [days]')\n",
    "plt.ylabel('normalized price/volume')\n",
    "plt.legend(loc='best')\n",
    "# plt.show()"
   ]
  },
  {
   "cell_type": "code",
   "execution_count": 0,
   "metadata": {
    "colab": {
     "base_uri": "https://localhost:8080/",
     "height": 121
    },
    "colab_type": "code",
    "executionInfo": {
     "elapsed": 7578,
     "status": "ok",
     "timestamp": 1587555954522,
     "user": {
      "displayName": "何寬穎",
      "photoUrl": "",
      "userId": "11068581471508390649"
     },
     "user_tz": -480
    },
    "id": "0jWTB3pM5w8j",
    "outputId": "9d9d9617-0948-4e41-dbeb-666ffc588a91"
   },
   "outputs": [
    {
     "name": "stdout",
     "output_type": "stream",
     "text": [
      "test data is ok for the seq_len setting\n",
      "test data is ok for the seq_len setting\n",
      "x_train.shape =  (1673, 19, 5)\n",
      "y_train.shape =  (1673, 5)\n",
      "x_test.shape =  (15, 19, 5)\n",
      "y_test.shape =  (15, 5)\n"
     ]
    }
   ],
   "source": [
    "# function to create train, validation, test data given stock data and sequence length\n",
    "def load_data(stock, seq_len):\n",
    "    data_raw = stock.iloc[:,:].values\n",
    "    # print(data_raw)\n",
    "    data = []\n",
    "    \n",
    "    # create all possible sequences of length seq_len\n",
    "    for index in range(len(data_raw) - seq_len): \n",
    "        data.append(data_raw[index: index + seq_len])\n",
    "    \n",
    "    # 輸入data_raw 維度: (1762, 5), 第一維度為資料筆數, 第二維度為五個feature\n",
    "    # 輸出data 維度: (1742, 20, 5), (20, 5)為我們一次的考慮長度, 分別是20個時間點和5個features,  1742為NN考慮的時間段\n",
    "    # 看筆記\n",
    "\n",
    "    data = np.array(data); \n",
    "    # 切分時間段個數->分到training, validation, testing set\n",
    "    valid_set_size = int(np.ceil(100-train_set_size_percentage)/100*data.shape[0])\n",
    "    train_set_size = data.shape[0] - (valid_set_size);\n",
    "    \n",
    "    # 檢查 test data 長度\n",
    "    try: \n",
    "      x_train = data[:train_set_size,:-1,1:]\n",
    "      y_train = data[:train_set_size,-1,1:]\n",
    "    except:\n",
    "      print(\"檢查問題: test data should be bigger than seq_len ### \")\n",
    "    else:\n",
    "      print('test data is ok for the seq_len setting')\n",
    "\n",
    "    \n",
    "    return [x_train, y_train]\n",
    "\n",
    "# create train, test data\n",
    "x_train, y_train = load_data(train_data, seq_len)\n",
    "x_test, y_test = load_data(test_data, seq_len)\n",
    "\n",
    "\n",
    "\n",
    "print('x_train.shape = ',x_train.shape)\n",
    "print('y_train.shape = ', y_train.shape)\n",
    "print('x_test.shape = ',x_test.shape)\n",
    "print('y_test.shape = ', y_test.shape)\n"
   ]
  },
  {
   "cell_type": "code",
   "execution_count": 0,
   "metadata": {
    "colab": {},
    "colab_type": "code",
    "id": "xEcy0TrL21y8"
   },
   "outputs": [],
   "source": [
    "y_train=y_train[:,:feature_num_pre]\n",
    "y_test=y_test[:,:feature_num_pre]"
   ]
  },
  {
   "cell_type": "code",
   "execution_count": 0,
   "metadata": {
    "colab": {},
    "colab_type": "code",
    "id": "wm27pvA4e_HA"
   },
   "outputs": [],
   "source": [
    "import tensorflow as tf\n",
    "from keras.models import Sequential\n",
    "from keras.layers.core import Dense, Dropout, Activation\n",
    "from keras.layers.recurrent import LSTM\n",
    "from keras.models import load_model\n",
    "from keras.layers import Dense, Input, Dropout, LSTM, Activation\n",
    "from tensorflow.contrib.metrics import streaming_pearson_correlation\n",
    "import keras\n",
    "from pandas import datetime\n",
    "import math, time\n",
    "import itertools\n",
    "from sklearn import preprocessing\n",
    "import datetime\n",
    "from keras import backend as K\n",
    "from keras.layers.normalization import BatchNormalization\n",
    "from keras.layers import LSTM, Bidirectional, Dropout\n",
    "from keras.models import Model\n",
    "from keras.models import *\n",
    "from keras.layers import *\n",
    "from keras.callbacks import *\n",
    "from keras.initializers import *\n",
    "from keras.engine.topology import Layer\n",
    "\n",
    "\n",
    "class ScaledDotProductAttention():\n",
    "    def __init__(self, d_model, attn_dropout=0.1):\n",
    "        self.temper = np.sqrt(d_model)\n",
    "        self.dropout = Dropout(attn_dropout)\n",
    "    def __call__(self, q, k, v, mask):\n",
    "        attn = Lambda(lambda x:K.batch_dot(x[0],x[1],axes=[2,2])/self.temper)([q, k])\n",
    "        if mask is not None:\n",
    "            mmask = Lambda(lambda x:(-1e+10)*(1-x))(mask)\n",
    "            attn = Add()([attn, mmask])\n",
    "        attn = Activation('softmax')(attn)\n",
    "        attn = self.dropout(attn)\n",
    "        output = Lambda(lambda x:K.batch_dot(x[0], x[1]))([attn, v])\n",
    "        return output, attn\n",
    "\n",
    "class MultiHeadAttention():\n",
    "    def __init__(self, n_head, d_model, d_k, d_v, dropout):\n",
    "        self.n_head = n_head\n",
    "        self.d_k = d_k\n",
    "        self.d_v = d_v\n",
    "        self.dropout = dropout\n",
    "        self.qs_layer = Dense(n_head*d_k, use_bias=False)\n",
    "        self.ks_layer = Dense(n_head*d_k, use_bias=False)\n",
    "        self.vs_layer = Dense(n_head*d_v, use_bias=False)\n",
    "        self.attention = ScaledDotProductAttention(d_model)\n",
    "        self.w_o = TimeDistributed(Dense(d_model))\n",
    "\n",
    "    def __call__(self, q, k, v, mask=None):\n",
    "        d_k, d_v = self.d_k, self.d_v\n",
    "        n_head = self.n_head\n",
    "        qs = self.qs_layer(q)  # [batch_size, len_q, n_head*d_k]\n",
    "        ks = self.ks_layer(k)\n",
    "        vs = self.vs_layer(v)\n",
    "\n",
    "        def reshape1(x):\n",
    "            s = tf.shape(x)   # [batch_size, len_q, n_head * d_k]\n",
    "            x = tf.reshape(x, [s[0], s[1], n_head, d_k])\n",
    "            x = tf.transpose(x, [2, 0, 1, 3])  \n",
    "            x = tf.reshape(x, [-1, s[1], d_k])  # [n_head * batch_size, len_q, d_k]\n",
    "            return x\n",
    "        qs = Lambda(reshape1)(qs)\n",
    "        ks = Lambda(reshape1)(ks)\n",
    "        vs = Lambda(reshape1)(vs)\n",
    "        head, attn = self.attention(qs, ks, vs, mask=mask)  \n",
    "            \n",
    "        def reshape2(x):\n",
    "            s = tf.shape(x)   # [n_head * batch_size, len_v, d_v]\n",
    "            x = tf.reshape(x, [n_head, -1, s[1], s[2]]) \n",
    "            x = tf.transpose(x, [1, 2, 0, 3])\n",
    "            x = tf.reshape(x, [-1, s[1], n_head*d_v])  # [batch_size, len_v, n_head * d_v]\n",
    "            return x\n",
    "\n",
    "        head = Lambda(reshape2)(head)\n",
    "        outputs = self.w_o(head)\n",
    "        outputs = Dropout(self.dropout)(outputs)\n",
    "        return outputs, attn # return outputs, attn\n"
   ]
  },
  {
   "cell_type": "code",
   "execution_count": 0,
   "metadata": {
    "colab": {},
    "colab_type": "code",
    "id": "7LgP-qrTBKCH"
   },
   "outputs": [],
   "source": [
    "def tf_pearson(y_true, y_pred):\n",
    "    return tf.contrib.metrics.streaming_pearson_correlation(y_pred, y_true)[1]"
   ]
  },
  {
   "cell_type": "code",
   "execution_count": 0,
   "metadata": {
    "colab": {
     "base_uri": "https://localhost:8080/",
     "height": 35
    },
    "colab_type": "code",
    "executionInfo": {
     "elapsed": 3792,
     "status": "ok",
     "timestamp": 1587562072107,
     "user": {
      "displayName": "何寬穎",
      "photoUrl": "",
      "userId": "11068581471508390649"
     },
     "user_tz": -480
    },
    "id": "GEvZY9hhaigM",
    "outputId": "b5f69c26-4e75-416d-f8ff-457cd8f7a9d4"
   },
   "outputs": [
    {
     "name": "stdout",
     "output_type": "stream",
     "text": [
      "Compilation Time :  3.5762786865234375e-05\n"
     ]
    }
   ],
   "source": [
    "### START Model HERE ###\n",
    "d = 0.7\n",
    "input_x =  Input(shape=([window,feature_num_nn_input]), dtype='float32') ## Dim: [batch, timestep, features]\n",
    "X = LSTM(128, return_sequences=True)(input_x)\n",
    "X = Dropout(d)(X)\n",
    "# X = LSTM(32, return_sequences=False)(X)\n",
    "# X = Dropout(d)(X)\n",
    "X, slf_attn = MultiHeadAttention(n_head=3, d_model=292, d_k=128, d_v=128, dropout=d)(X, X, X)\n",
    "avg_pool = GlobalAveragePooling1D()(X)\n",
    "max_pool = GlobalMaxPooling1D()(X)\n",
    "X = concatenate([avg_pool, max_pool])\n",
    "X = Dense(16,kernel_initializer=\"uniform\",activation='relu')(X)\n",
    "X = Dense(feature_num_pre,kernel_initializer=\"uniform\",activation='linear')(X)\n",
    "model = Model(inputs=[input_x], outputs=X)\n",
    "\n",
    "adam = keras.optimizers.Adam(lr=0.00005)\n",
    "model.compile(loss='mse',optimizer=adam, metrics=[tf_pearson])\n",
    "start = time.time()\n",
    "print(\"Compilation Time : \", time.time() - start)\n",
    "K.get_session().run(tf.local_variables_initializer())\n"
   ]
  },
  {
   "cell_type": "code",
   "execution_count": 0,
   "metadata": {
    "colab": {
     "base_uri": "https://localhost:8080/",
     "height": 933
    },
    "colab_type": "code",
    "executionInfo": {
     "elapsed": 3591,
     "status": "ok",
     "timestamp": 1587562072108,
     "user": {
      "displayName": "何寬穎",
      "photoUrl": "",
      "userId": "11068581471508390649"
     },
     "user_tz": -480
    },
    "id": "cJQZixpw9XbR",
    "outputId": "460e48a1-8d2d-4946-9172-68032f507153"
   },
   "outputs": [
    {
     "name": "stdout",
     "output_type": "stream",
     "text": [
      "__________________________________________________________________________________________________\n",
      "Layer (type)                    Output Shape         Param #     Connected to                     \n",
      "==================================================================================================\n",
      "input_16 (InputLayer)           (None, 19, 5)        0                                            \n",
      "__________________________________________________________________________________________________\n",
      "lstm_16 (LSTM)                  (None, 19, 128)      68608       input_16[0][0]                   \n",
      "__________________________________________________________________________________________________\n",
      "dropout_42 (Dropout)            (None, 19, 128)      0           lstm_16[0][0]                    \n",
      "__________________________________________________________________________________________________\n",
      "dense_79 (Dense)                (None, 19, 384)      49152       dropout_42[0][0]                 \n",
      "__________________________________________________________________________________________________\n",
      "dense_80 (Dense)                (None, 19, 384)      49152       dropout_42[0][0]                 \n",
      "__________________________________________________________________________________________________\n",
      "lambda_77 (Lambda)              (None, None, 128)    0           dense_79[0][0]                   \n",
      "__________________________________________________________________________________________________\n",
      "lambda_78 (Lambda)              (None, None, 128)    0           dense_80[0][0]                   \n",
      "__________________________________________________________________________________________________\n",
      "lambda_80 (Lambda)              (None, None, None)   0           lambda_77[0][0]                  \n",
      "                                                                 lambda_78[0][0]                  \n",
      "__________________________________________________________________________________________________\n",
      "activation_13 (Activation)      (None, None, None)   0           lambda_80[0][0]                  \n",
      "__________________________________________________________________________________________________\n",
      "dense_81 (Dense)                (None, 19, 384)      49152       dropout_42[0][0]                 \n",
      "__________________________________________________________________________________________________\n",
      "dropout_43 (Dropout)            (None, None, None)   0           activation_13[0][0]              \n",
      "__________________________________________________________________________________________________\n",
      "lambda_79 (Lambda)              (None, None, 128)    0           dense_81[0][0]                   \n",
      "__________________________________________________________________________________________________\n",
      "lambda_81 (Lambda)              (None, None, 128)    0           dropout_43[0][0]                 \n",
      "                                                                 lambda_79[0][0]                  \n",
      "__________________________________________________________________________________________________\n",
      "lambda_82 (Lambda)              (None, None, 384)    0           lambda_81[0][0]                  \n",
      "__________________________________________________________________________________________________\n",
      "time_distributed_15 (TimeDistri (None, None, 292)    112420      lambda_82[0][0]                  \n",
      "__________________________________________________________________________________________________\n",
      "dropout_44 (Dropout)            (None, None, 292)    0           time_distributed_15[0][0]        \n",
      "__________________________________________________________________________________________________\n",
      "global_average_pooling1d_11 (Gl (None, 292)          0           dropout_44[0][0]                 \n",
      "__________________________________________________________________________________________________\n",
      "global_max_pooling1d_11 (Global (None, 292)          0           dropout_44[0][0]                 \n",
      "__________________________________________________________________________________________________\n",
      "concatenate_11 (Concatenate)    (None, 584)          0           global_average_pooling1d_11[0][0]\n",
      "                                                                 global_max_pooling1d_11[0][0]    \n",
      "__________________________________________________________________________________________________\n",
      "dense_83 (Dense)                (None, 16)           9360        concatenate_11[0][0]             \n",
      "__________________________________________________________________________________________________\n",
      "dense_84 (Dense)                (None, 1)            17          dense_83[0][0]                   \n",
      "==================================================================================================\n",
      "Total params: 337,861\n",
      "Trainable params: 337,861\n",
      "Non-trainable params: 0\n",
      "__________________________________________________________________________________________________\n",
      "None\n"
     ]
    }
   ],
   "source": [
    "\n",
    "# checkpoint_dir = os.path.dirname(checkpoint_path)\n",
    "\n",
    "# # Create a callback that saves the model's weights\n",
    "# cp_callback = tf.keras.callbacks.ModelCheckpoint(filepath=checkpoint_path,\n",
    "#                                                  save_weights_only=True,\n",
    "#                                                  verbose=1)\n",
    "\n",
    "print(model.summary())"
   ]
  },
  {
   "cell_type": "code",
   "execution_count": 0,
   "metadata": {
    "colab": {
     "base_uri": "https://localhost:8080/",
     "height": 104
    },
    "colab_type": "code",
    "executionInfo": {
     "elapsed": 25321,
     "status": "ok",
     "timestamp": 1587562094085,
     "user": {
      "displayName": "何寬穎",
      "photoUrl": "",
      "userId": "11068581471508390649"
     },
     "user_tz": -480
    },
    "id": "AFzPOxYafCWS",
    "outputId": "8aa06f8a-ab05-47a6-d792-cbb3bd91bcef"
   },
   "outputs": [
    {
     "name": "stdout",
     "output_type": "stream",
     "text": [
      "Train on 1505 samples, validate on 168 samples\n",
      "Epoch 1/2\n",
      "1505/1505 [==============================] - 12s 8ms/step - loss: 0.1144 - tf_pearson: 0.7125 - val_loss: 0.5970 - val_tf_pearson: 0.6761\n",
      "Epoch 2/2\n",
      "1505/1505 [==============================] - 10s 6ms/step - loss: 0.0346 - tf_pearson: 0.5079 - val_loss: 0.1887 - val_tf_pearson: 0.4515\n"
     ]
    }
   ],
   "source": [
    "\n",
    "callback = tf.keras.callbacks.EarlyStopping(monitor='val_loss', patience=15)\n",
    "history=model.fit(x_train,y_train,batch_size=32,epochs=2,validation_split=0.1,verbose=1, callbacks=[callback])\n",
    "\n",
    "# history=model.fit(x_train,y_train,batch_size=32,epochs=400,validation_split=0.1,verbose=1, callbacks=[cp_callback])"
   ]
  },
  {
   "cell_type": "code",
   "execution_count": 0,
   "metadata": {
    "colab": {},
    "colab_type": "code",
    "id": "YFr9EVtLYOCi"
   },
   "outputs": [],
   "source": [
    "# print(history.history.keys())"
   ]
  },
  {
   "cell_type": "code",
   "execution_count": 0,
   "metadata": {
    "colab": {
     "base_uri": "https://localhost:8080/",
     "height": 350
    },
    "colab_type": "code",
    "executionInfo": {
     "elapsed": 1597,
     "status": "ok",
     "timestamp": 1587540679986,
     "user": {
      "displayName": "何寬穎",
      "photoUrl": "",
      "userId": "11068581471508390649"
     },
     "user_tz": -480
    },
    "id": "Js4ALfe5qcK1",
    "outputId": "228c9cef-6067-43c4-d9b2-8d6cc70c18f4"
   },
   "outputs": [
    {
     "data": {
      "image/png": "[encoded data removed]",
      "text/plain": [
       "<Figure size 1080x360 with 2 Axes>"
      ]
     },
     "metadata": {
      "needs_background": "light",
      "tags": []
     },
     "output_type": "display_data"
    }
   ],
   "source": [
    "plt.figure(figsize=(15, 5))\n",
    "plt.subplot(1,2,1)\n",
    "\n",
    "plt.plot(history.history['loss'])\n",
    "plt.plot(history.history['val_loss'])\n",
    "plt.title('model mean squared error')\n",
    "plt.ylabel('MSE')\n",
    "plt.xlabel('epoch')\n",
    "plt.legend(['train', 'valid'], loc='upper left')\n",
    "\n",
    "plt.subplot(1,2,2)\n",
    "plt.plot(history.history['tf_pearson'])\n",
    "plt.plot(history.history['val_tf_pearson'])\n",
    "plt.title('model Pearson')\n",
    "plt.ylabel('Pearson')\n",
    "plt.xlabel('epoch')\n",
    "plt.legend(['train', 'valid'], loc='upper left')\n",
    "plt.show()"
   ]
  },
  {
   "cell_type": "code",
   "execution_count": 0,
   "metadata": {
    "colab": {
     "base_uri": "https://localhost:8080/",
     "height": 407
    },
    "colab_type": "code",
    "executionInfo": {
     "elapsed": 1458,
     "status": "ok",
     "timestamp": 1587540680385,
     "user": {
      "displayName": "何寬穎",
      "photoUrl": "",
      "userId": "11068581471508390649"
     },
     "user_tz": -480
    },
    "id": "hROF19mvYzdt",
    "outputId": "d0dfe761-0709-40e0-be5d-bc6d775105b3"
   },
   "outputs": [
    {
     "data": {
      "text/html": [
       "<div>\n",
       "<style scoped>\n",
       "    .dataframe tbody tr th:only-of-type {\n",
       "        vertical-align: middle;\n",
       "    }\n",
       "\n",
       "    .dataframe tbody tr th {\n",
       "        vertical-align: top;\n",
       "    }\n",
       "\n",
       "    .dataframe thead th {\n",
       "        text-align: right;\n",
       "    }\n",
       "</style>\n",
       "<table border=\"1\" class=\"dataframe\">\n",
       "  <thead>\n",
       "    <tr style=\"text-align: right;\">\n",
       "      <th></th>\n",
       "      <th>date</th>\n",
       "      <th>open</th>\n",
       "      <th>close</th>\n",
       "      <th>low</th>\n",
       "      <th>high</th>\n",
       "      <th>volume</th>\n",
       "    </tr>\n",
       "  </thead>\n",
       "  <tbody>\n",
       "    <tr>\n",
       "      <th>399</th>\n",
       "      <td>2010-01-04</td>\n",
       "      <td>106.519997</td>\n",
       "      <td>109.559998</td>\n",
       "      <td>106.510002</td>\n",
       "      <td>109.620003</td>\n",
       "      <td>576300.0</td>\n",
       "    </tr>\n",
       "    <tr>\n",
       "      <th>867</th>\n",
       "      <td>2010-01-05</td>\n",
       "      <td>109.589996</td>\n",
       "      <td>108.540001</td>\n",
       "      <td>108.379997</td>\n",
       "      <td>109.589996</td>\n",
       "      <td>681900.0</td>\n",
       "    </tr>\n",
       "    <tr>\n",
       "      <th>1335</th>\n",
       "      <td>2010-01-06</td>\n",
       "      <td>108.949997</td>\n",
       "      <td>109.529999</td>\n",
       "      <td>108.220001</td>\n",
       "      <td>110.570000</td>\n",
       "      <td>1397500.0</td>\n",
       "    </tr>\n",
       "    <tr>\n",
       "      <th>1803</th>\n",
       "      <td>2010-01-07</td>\n",
       "      <td>109.250000</td>\n",
       "      <td>107.290001</td>\n",
       "      <td>106.639999</td>\n",
       "      <td>110.349998</td>\n",
       "      <td>797200.0</td>\n",
       "    </tr>\n",
       "    <tr>\n",
       "      <th>2271</th>\n",
       "      <td>2010-01-08</td>\n",
       "      <td>106.800003</td>\n",
       "      <td>106.769997</td>\n",
       "      <td>105.900002</td>\n",
       "      <td>107.279999</td>\n",
       "      <td>432400.0</td>\n",
       "    </tr>\n",
       "    <tr>\n",
       "      <th>...</th>\n",
       "      <td>...</td>\n",
       "      <td>...</td>\n",
       "      <td>...</td>\n",
       "      <td>...</td>\n",
       "      <td>...</td>\n",
       "      <td>...</td>\n",
       "    </tr>\n",
       "    <tr>\n",
       "      <th>848919</th>\n",
       "      <td>2016-12-23</td>\n",
       "      <td>352.100006</td>\n",
       "      <td>356.609985</td>\n",
       "      <td>350.369995</td>\n",
       "      <td>358.140015</td>\n",
       "      <td>338100.0</td>\n",
       "    </tr>\n",
       "    <tr>\n",
       "      <th>849419</th>\n",
       "      <td>2016-12-27</td>\n",
       "      <td>356.779999</td>\n",
       "      <td>356.720001</td>\n",
       "      <td>355.109985</td>\n",
       "      <td>359.649994</td>\n",
       "      <td>294600.0</td>\n",
       "    </tr>\n",
       "    <tr>\n",
       "      <th>849919</th>\n",
       "      <td>2016-12-28</td>\n",
       "      <td>357.220001</td>\n",
       "      <td>353.859985</td>\n",
       "      <td>353.429993</td>\n",
       "      <td>359.549988</td>\n",
       "      <td>291600.0</td>\n",
       "    </tr>\n",
       "    <tr>\n",
       "      <th>850419</th>\n",
       "      <td>2016-12-29</td>\n",
       "      <td>353.420013</td>\n",
       "      <td>357.089996</td>\n",
       "      <td>351.890015</td>\n",
       "      <td>358.929993</td>\n",
       "      <td>372000.0</td>\n",
       "    </tr>\n",
       "    <tr>\n",
       "      <th>850919</th>\n",
       "      <td>2016-12-30</td>\n",
       "      <td>358.149994</td>\n",
       "      <td>357.410004</td>\n",
       "      <td>353.480011</td>\n",
       "      <td>358.339996</td>\n",
       "      <td>500500.0</td>\n",
       "    </tr>\n",
       "  </tbody>\n",
       "</table>\n",
       "<p>1762 rows × 6 columns</p>\n",
       "</div>"
      ],
      "text/plain": [
       "              date        open       close         low        high     volume\n",
       "399     2010-01-04  106.519997  109.559998  106.510002  109.620003   576300.0\n",
       "867     2010-01-05  109.589996  108.540001  108.379997  109.589996   681900.0\n",
       "1335    2010-01-06  108.949997  109.529999  108.220001  110.570000  1397500.0\n",
       "1803    2010-01-07  109.250000  107.290001  106.639999  110.349998   797200.0\n",
       "2271    2010-01-08  106.800003  106.769997  105.900002  107.279999   432400.0\n",
       "...            ...         ...         ...         ...         ...        ...\n",
       "848919  2016-12-23  352.100006  356.609985  350.369995  358.140015   338100.0\n",
       "849419  2016-12-27  356.779999  356.720001  355.109985  359.649994   294600.0\n",
       "849919  2016-12-28  357.220001  353.859985  353.429993  359.549988   291600.0\n",
       "850419  2016-12-29  353.420013  357.089996  351.890015  358.929993   372000.0\n",
       "850919  2016-12-30  358.149994  357.410004  353.480011  358.339996   500500.0\n",
       "\n",
       "[1762 rows x 6 columns]"
      ]
     },
     "execution_count": 73,
     "metadata": {
      "tags": []
     },
     "output_type": "execute_result"
    }
   ],
   "source": [
    "df_stock1 = df[df.symbol == stock_name].copy()\n",
    "df_stock1.drop(['symbol'],1,inplace=True)\n",
    "df_stock1"
   ]
  },
  {
   "cell_type": "code",
   "execution_count": 0,
   "metadata": {
    "colab": {
     "base_uri": "https://localhost:8080/",
     "height": 86
    },
    "colab_type": "code",
    "executionInfo": {
     "elapsed": 2458,
     "status": "ok",
     "timestamp": 1587540682373,
     "user": {
      "displayName": "何寬穎",
      "photoUrl": "",
      "userId": "11068581471508390649"
     },
     "user_tz": -480
    },
    "id": "mivLgsA8MPVK",
    "outputId": "b25c927f-db7c-4765-c985-0d836e4f9190"
   },
   "outputs": [
    {
     "name": "stdout",
     "output_type": "stream",
     "text": [
      "Train Score: 0.00342 MSE \n",
      "Test Score: 0.00642 MSE \n"
     ]
    },
    {
     "data": {
      "text/plain": [
       "([0.003421313314182596, 0.98021186698502],\n",
       " [0.006421277765184641, 0.979938268661499])"
      ]
     },
     "execution_count": 74,
     "metadata": {
      "tags": []
     },
     "output_type": "execute_result"
    }
   ],
   "source": [
    "def model_score(model, x_train, y_train, x_test, y_test):\n",
    "    trainScore = model.evaluate(x_train, y_train, verbose=0)\n",
    "    print('Train Score: %.5f MSE ' % (trainScore[0]))\n",
    "\n",
    "    testScore = model.evaluate(x_test, y_test, verbose=0)\n",
    "    print('Test Score: %.5f MSE ' % (testScore[0]))\n",
    "    return trainScore, testScore\n",
    "\n",
    "## GitHub 參考 result\n",
    "# Train Score: 0.00019 MSE (0.01 RMSE)\n",
    "# Test Score: 0.00033 MSE (0.02 RMSE)\n",
    "\n",
    "model_score(model, x_train, y_train, x_test, y_test)"
   ]
  },
  {
   "cell_type": "code",
   "execution_count": 0,
   "metadata": {
    "colab": {
     "base_uri": "https://localhost:8080/",
     "height": 35
    },
    "colab_type": "code",
    "executionInfo": {
     "elapsed": 4414,
     "status": "ok",
     "timestamp": 1587391002438,
     "user": {
      "displayName": "何寬穎",
      "photoUrl": "",
      "userId": "11068581471508390649"
     },
     "user_tz": -480
    },
    "id": "hEAl9HS0bbYY",
    "outputId": "56e898ae-7eb6-4af1-b2fe-42d46892abec"
   },
   "outputs": [
    {
     "data": {
      "text/plain": [
       "(15, 1)"
      ]
     },
     "execution_count": 114,
     "metadata": {
      "tags": []
     },
     "output_type": "execute_result"
    }
   ],
   "source": [
    "# df_stock1 = df[df.symbol == stock_name].copy()\n",
    "# df_stock1.drop(['symbol'],1,inplace=True)\n",
    "pred = model.predict(x_test)\n",
    "pred[:,0]= list(scaler1.inverse_transform(np.array(pred[:,0]).reshape(-1,1)))\n",
    "# pred[:,1]= list(scaler2.inverse_transform(np.array(pred[:,1]).reshape(-1,1)))\n",
    "# pred[:,2]= list(scaler3.inverse_transform(np.array(pred[:,2]).reshape(-1,1)))\n",
    "# pred[:,3]= list(scaler4.inverse_transform(np.array(pred[:,3]).reshape(-1,1)))\n",
    "# pred[:,4]= list(scaler5.inverse_transform(np.array(pred[:,4]).reshape(-1,1)))\n",
    "pred.shape"
   ]
  },
  {
   "cell_type": "code",
   "execution_count": 0,
   "metadata": {
    "colab": {
     "base_uri": "https://localhost:8080/",
     "height": 35
    },
    "colab_type": "code",
    "executionInfo": {
     "elapsed": 4228,
     "status": "ok",
     "timestamp": 1587391002439,
     "user": {
      "displayName": "何寬穎",
      "photoUrl": "",
      "userId": "11068581471508390649"
     },
     "user_tz": -480
    },
    "id": "m8cZSi5YMPSv",
    "outputId": "12ef7363-a2a6-4de4-d88b-b2aeb0ce00db"
   },
   "outputs": [
    {
     "data": {
      "text/plain": [
       "(15, 1)"
      ]
     },
     "execution_count": 115,
     "metadata": {
      "tags": []
     },
     "output_type": "execute_result"
    }
   ],
   "source": [
    "y_test = y_test.reshape(y_test.shape[0] , y_test.shape[-1])\n",
    "y_test[:,0]= list(scaler1.inverse_transform(np.array(y_test[:,0]).reshape(-1,1)))\n",
    "# y_test[:,1]= list(scaler2.inverse_transform(np.array(y_test[:,1]).reshape(-1,1)))\n",
    "# y_test[:,2]= list(scaler3.inverse_transform(np.array(y_test[:,2]).reshape(-1,1)))\n",
    "# y_test[:,3]= list(scaler4.inverse_transform(np.array(y_test[:,3]).reshape(-1,1)))\n",
    "# y_test[:,4]= list(scaler5.inverse_transform(np.array(y_test[:,4]).reshape(-1,1)))\n",
    "y_test.shape"
   ]
  },
  {
   "cell_type": "code",
   "execution_count": 0,
   "metadata": {
    "colab": {
     "base_uri": "https://localhost:8080/",
     "height": 35
    },
    "colab_type": "code",
    "executionInfo": {
     "elapsed": 1595,
     "status": "ok",
     "timestamp": 1587391012831,
     "user": {
      "displayName": "何寬穎",
      "photoUrl": "",
      "userId": "11068581471508390649"
     },
     "user_tz": -480
    },
    "id": "BnDs1HhNKtXw",
    "outputId": "ff6a7a56-9c93-445e-eb5b-6b0129260192"
   },
   "outputs": [
    {
     "data": {
      "text/plain": [
       "(15,)"
      ]
     },
     "execution_count": 117,
     "metadata": {
      "tags": []
     },
     "output_type": "execute_result"
    }
   ],
   "source": [
    "y_test[:,0].shape"
   ]
  },
  {
   "cell_type": "code",
   "execution_count": 0,
   "metadata": {
    "colab": {},
    "colab_type": "code",
    "id": "lEx7lLRTGP0t"
   },
   "outputs": [],
   "source": [
    "# baseline_y=[]\n",
    "\n",
    "# # initialisation using y_valid at time 0 in valid\n",
    "# for i in range(feature_num_pre):\n",
    "#   baseline_y.append(list(y_test[i,i]))\n",
    "\n",
    "# for i in range(len(y_test[:,1])-1): #140\n",
    "#   for j in range(feature_num_pre): #4\n",
    "#     baseline_y[j].extend(y_test[i+1,j])\n",
    "# baseline_y=np.array(baseline_y).T\n",
    "\n",
    "# np.array(baseline_y).shape"
   ]
  },
  {
   "cell_type": "code",
   "execution_count": 0,
   "metadata": {
    "colab": {
     "base_uri": "https://localhost:8080/",
     "height": 367
    },
    "colab_type": "code",
    "executionInfo": {
     "elapsed": 1769,
     "status": "ok",
     "timestamp": 1587391013611,
     "user": {
      "displayName": "何寬穎",
      "photoUrl": "",
      "userId": "11068581471508390649"
     },
     "user_tz": -480
    },
    "id": "xTF18wNQc6ZG",
    "outputId": "d4552f99-966e-4473-b44e-af010612b260"
   },
   "outputs": [
    {
     "name": "stdout",
     "output_type": "stream",
     "text": [
      "prediction marker is 'o'\n"
     ]
    },
    {
     "data": {
      "image/png": "[encoded data removed]",
      "text/plain": [
       "<Figure size 1440x360 with 2 Axes>"
      ]
     },
     "metadata": {
      "needs_background": "light",
      "tags": []
     },
     "output_type": "display_data"
    }
   ],
   "source": [
    "print('prediction marker is \\'o\\'')\n",
    "plt.figure(figsize=(20, 5))\n",
    "plt.subplot(1,2,1)\n",
    "plt.plot(np.mean(y_test[:,:feature_num_pre],axis=1) , 'b', label='label')\n",
    "plt.plot(np.mean(pred[:,:feature_num_pre],axis=1) , 'r',label='prediction')\n",
    "plt.xlabel('Time')\n",
    "plt.ylabel('Stock Prices')\n",
    "plt.legend(loc='best')\n",
    "plt.title('prediction and label - average 4 features')\n",
    "plt.grid(True)\n",
    "\n",
    "plt.subplot(1,2,2)\n",
    "plt.plot(y_test[:,0], color='red', label='open_valid')\n",
    "plt.plot(pred[:,0], color='red', label='close_pred',marker='o')\n",
    "# plt.plot(y_test[:,1], color='blue', label='close_valid')\n",
    "# plt.plot(pred[:,1], color='blue', label='low_pred',marker='o')\n",
    "# plt.plot(y_test[:,2], color='green', label='low_valid')\n",
    "# plt.plot(pred[:,2], color='green', label='low_pred',marker='o')\n",
    "# plt.plot(y_test[:,3], color='gray', label='high_valid')\n",
    "# plt.plot(pred[:,3], color='gray', label='high_pred',marker='o')\n",
    "# plt.title('prediction and label - 4 features')\n",
    "plt.xlabel('Time')\n",
    "plt.ylabel('Stock Prices')\n",
    "plt.legend(loc='best')\n",
    "plt.grid(True)\n",
    "plt.show()"
   ]
  },
  {
   "cell_type": "code",
   "execution_count": 0,
   "metadata": {
    "colab": {},
    "colab_type": "code",
    "id": "gHomG359jYcR"
   },
   "outputs": [],
   "source": [
    "\n",
    "\n",
    "\n",
    "# embed_size = 60\n",
    "\n",
    "# class LayerNormalization(Layer):\n",
    "#     def __init__(self, eps=1e-6, **kwargs):\n",
    "#         self.eps = eps\n",
    "#         super(LayerNormalization, self).__init__(**kwargs)\n",
    "#     def build(self, input_shape):\n",
    "#         self.gamma = self.add_weight(name='gamma', shape=input_shape[-1:],\n",
    "#                                      initializer=Ones(), trainable=True)\n",
    "#         self.beta = self.add_weight(name='beta', shape=input_shape[-1:],\n",
    "#                                     initializer=Zeros(), trainable=True)\n",
    "#         super(LayerNormalization, self).build(input_shape)\n",
    "#     def call(self, x):\n",
    "#         mean = K.mean(x, axis=-1, keepdims=True)\n",
    "#         std = K.std(x, axis=-1, keepdims=True)\n",
    "#         return self.gamma * (x - mean) / (std + self.eps) + self.beta\n",
    "#     def compute_output_shape(self, input_shape):\n",
    "#         return input_shape\n",
    "\n",
    "# class ScaledDotProductAttention():\n",
    "#     def __init__(self, d_model, attn_dropout=0.1):\n",
    "#         self.temper = np.sqrt(d_model)\n",
    "#         self.dropout = Dropout(attn_dropout)\n",
    "#     def __call__(self, q, k, v, mask):\n",
    "#         attn = Lambda(lambda x:K.batch_dot(x[0],x[1],axes=[2,2])/self.temper)([q, k])\n",
    "#         if mask is not None:\n",
    "#             mmask = Lambda(lambda x:(-1e+10)*(1-x))(mask)\n",
    "#             attn = Add()([attn, mmask])\n",
    "#         attn = Activation('softmax')(attn)\n",
    "#         attn = self.dropout(attn)\n",
    "#         output = Lambda(lambda x:K.batch_dot(x[0], x[1]))([attn, v])\n",
    "#         return output, attn\n",
    "\n",
    "# class MultiHeadAttention():\n",
    "#     # mode 0 - big martixes, faster; mode 1 - more clear implementation\n",
    "#     def __init__(self, n_head, d_model, d_k, d_v, dropout, mode=0, use_norm=True):\n",
    "#         self.mode = mode\n",
    "#         self.n_head = n_head\n",
    "#         self.d_k = d_k\n",
    "#         self.d_v = d_v\n",
    "#         self.dropout = dropout\n",
    "#         if mode == 0:\n",
    "#             self.qs_layer = Dense(n_head*d_k, use_bias=False)\n",
    "#             self.ks_layer = Dense(n_head*d_k, use_bias=False)\n",
    "#             self.vs_layer = Dense(n_head*d_v, use_bias=False)\n",
    "#         elif mode == 1:\n",
    "#             self.qs_layers = []\n",
    "#             self.ks_layers = []\n",
    "#             self.vs_layers = []\n",
    "#             for _ in range(n_head):\n",
    "#                 self.qs_layers.append(TimeDistributed(Dense(d_k, use_bias=False)))\n",
    "#                 self.ks_layers.append(TimeDistributed(Dense(d_k, use_bias=False)))\n",
    "#                 self.vs_layers.append(TimeDistributed(Dense(d_v, use_bias=False)))\n",
    "#         self.attention = ScaledDotProductAttention(d_model)\n",
    "#         self.layer_norm = LayerNormalization() if use_norm else None\n",
    "#         self.w_o = TimeDistributed(Dense(d_model))\n",
    "\n",
    "#     def __call__(self, q, k, v, mask=None):\n",
    "#         d_k, d_v = self.d_k, self.d_v\n",
    "#         n_head = self.n_head\n",
    "\n",
    "#         if self.mode == 0:\n",
    "#             qs = self.qs_layer(q)  # [batch_size, len_q, n_head*d_k]\n",
    "#             ks = self.ks_layer(k)\n",
    "#             vs = self.vs_layer(v)\n",
    "\n",
    "#             def reshape1(x):\n",
    "#                 s = tf.shape(x)   # [batch_size, len_q, n_head * d_k]\n",
    "#                 x = tf.reshape(x, [s[0], s[1], n_head, d_k])\n",
    "#                 x = tf.transpose(x, [2, 0, 1, 3])  \n",
    "#                 x = tf.reshape(x, [-1, s[1], d_k])  # [n_head * batch_size, len_q, d_k]\n",
    "#                 return x\n",
    "#             qs = Lambda(reshape1)(qs)\n",
    "#             ks = Lambda(reshape1)(ks)\n",
    "#             vs = Lambda(reshape1)(vs)\n",
    "\n",
    "#             if mask is not None:\n",
    "#                 mask = Lambda(lambda x:K.repeat_elements(x, n_head, 0))(mask)\n",
    "#             head, attn = self.attention(qs, ks, vs, mask=mask)  \n",
    "                \n",
    "#             def reshape2(x):\n",
    "#                 s = tf.shape(x)   # [n_head * batch_size, len_v, d_v]\n",
    "#                 x = tf.reshape(x, [n_head, -1, s[1], s[2]]) \n",
    "#                 x = tf.transpose(x, [1, 2, 0, 3])\n",
    "#                 x = tf.reshape(x, [-1, s[1], n_head*d_v])  # [batch_size, len_v, n_head * d_v]\n",
    "#                 return x\n",
    "#             head = Lambda(reshape2)(head)\n",
    "#         elif self.mode == 1:\n",
    "#             heads = []; attns = []\n",
    "#             for i in range(n_head):\n",
    "#                 qs = self.qs_layers[i](q)   \n",
    "#                 ks = self.ks_layers[i](k) \n",
    "#                 vs = self.vs_layers[i](v) \n",
    "#                 head, attn = self.attention(qs, ks, vs, mask)\n",
    "#                 heads.append(head); attns.append(attn)\n",
    "#             head = Concatenate()(heads) if n_head > 1 else heads[0]\n",
    "#             attn = Concatenate()(attns) if n_head > 1 else attns[0]\n",
    "\n",
    "#         outputs = self.w_o(head)\n",
    "#         outputs = Dropout(self.dropout)(outputs)\n",
    "#         if not self.layer_norm: return outputs, attn\n",
    "#         # outputs = Add()([outputs, q]) # sl: fix\n",
    "#         return self.layer_norm(outputs), attn\n",
    "\n",
    "# class PositionwiseFeedForward():\n",
    "#     def __init__(self, d_hid, d_inner_hid, dropout=0.1):\n",
    "#         self.w_1 = Conv1D(d_inner_hid, 1, activation='relu')\n",
    "#         self.w_2 = Conv1D(d_hid, 1)\n",
    "#         self.layer_norm = LayerNormalization()\n",
    "#         self.dropout = Dropout(dropout)\n",
    "#     def __call__(self, x):\n",
    "#         output = self.w_1(x) \n",
    "#         output = self.w_2(output)\n",
    "#         output = self.dropout(output)\n",
    "#         output = Add()([output, x])\n",
    "#         return self.layer_norm(output)\n",
    "\n",
    "# class EncoderLayer():\n",
    "#     def __init__(self, d_model, d_inner_hid, n_head, d_k, d_v, dropout=0.1):\n",
    "#         self.self_att_layer = MultiHeadAttention(n_head, d_model, d_k, d_v, dropout=dropout)\n",
    "#         self.pos_ffn_layer  = PositionwiseFeedForward(d_model, d_inner_hid, dropout=dropout)\n",
    "#     def __call__(self, enc_input, mask=None):\n",
    "#         output, slf_attn = self.self_att_layer(enc_input, enc_input, enc_input, mask=mask)\n",
    "#         output = self.pos_ffn_layer(output)\n",
    "#         return output, slf_attn\n",
    "\n",
    "\n",
    "# def GetPosEncodingMatrix(max_len, d_emb):\n",
    "#     pos_enc = np.array([\n",
    "#         [pos / np.power(10000, 2 * (j // 2) / d_emb) for j in range(d_emb)] \n",
    "#         if pos != 0 else np.zeros(d_emb) \n",
    "#             for pos in range(max_len)\n",
    "#             ])\n",
    "#     pos_enc[1:, 0::2] = np.sin(pos_enc[1:, 0::2]) # dim 2i\n",
    "#     pos_enc[1:, 1::2] = np.cos(pos_enc[1:, 1::2]) # dim 2i+1\n",
    "#     return pos_enc\n",
    "\n",
    "# def GetPadMask(q, k):\n",
    "#     ones = K.expand_dims(K.ones_like(q, 'float32'), -1)\n",
    "#     mask = K.cast(K.expand_dims(K.not_equal(k, 0), 1), 'float32')\n",
    "#     mask = K.batch_dot(ones, mask, axes=[2,1])\n",
    "#     return mask\n",
    "\n",
    "# def GetSubMask(s):\n",
    "#     len_s = tf.shape(s)[1]\n",
    "#     bs = tf.shape(s)[:1]\n",
    "#     mask = K.cumsum(tf.eye(len_s, batch_shape=bs), 1)\n",
    "#     return mask\n",
    "\n",
    "# class Transformer():\n",
    "#     def __init__(self, len_limit, embedding_matrix, d_model=embed_size, \\\n",
    "#               d_inner_hid=512, n_head=10, d_k=64, d_v=64, layers=2, dropout=0.1, \\\n",
    "#               share_word_emb=False, **kwargs):\n",
    "#         self.name = 'Transformer'\n",
    "#         self.len_limit = len_limit\n",
    "#         self.src_loc_info = False # True # sl: fix later\n",
    "#         self.d_model = d_model\n",
    "#         self.decode_model = None\n",
    "#         d_emb = d_model\n",
    "\n",
    "#         pos_emb = Embedding(len_limit, d_emb, trainable=False, \\\n",
    "#                             weights=[GetPosEncodingMatrix(len_limit, d_emb)])\n",
    "\n",
    "#         i_word_emb = Embedding(max_features, d_emb, weights=[embedding_matrix]) # Add Kaggle provided embedding here\n",
    "\n",
    "#         self.encoder = Encoder(d_model, d_inner_hid, n_head, d_k, d_v, layers, dropout, \\\n",
    "#                                word_emb=i_word_emb, pos_emb=pos_emb)\n",
    "\n",
    "        \n",
    "#     def get_pos_seq(self, x):\n",
    "#         mask = K.cast(K.not_equal(x, 0), 'int32')\n",
    "#         pos = K.cumsum(K.ones_like(x, 'int32'), 1)\n",
    "#         return pos * mask\n",
    "\n",
    "#     def compile(self, active_layers=999):\n",
    "#         src_seq_input = Input(shape=(None, ))\n",
    "#         x = Embedding(max_features, embed_size, weights=[embedding_matrix])(src_seq_input)\n",
    "        \n",
    "#         # LSTM before attention layers\n",
    "#         x = Bidirectional(LSTM(128, return_sequences=True))(x)\n",
    "#         x = Bidirectional(LSTM(64, return_sequences=True))(x) \n",
    "        \n",
    "#         x, slf_attn = MultiHeadAttention(n_head=3, d_model=300, d_k=64, d_v=64, dropout=0.1)(x, x, x)\n",
    "        \n",
    "#         avg_pool = GlobalAveragePooling1D()(x)\n",
    "#         max_pool = GlobalMaxPooling1D()(x)\n",
    "#         conc = concatenate([avg_pool, max_pool])\n",
    "#         conc = Dense(64, activation=\"relu\")(conc)\n",
    "#         x = Dense(2, activation=\"softmax\")(conc)   \n",
    "        \n",
    "        \n",
    "#         self.model = Model(inputs=src_seq_input, outputs=x)\n",
    "#         self.model.compile(optimizer = 'Adamax', loss = 'binary_crossentropy', metrics=['accuracy'])"
   ]
  }
 ],
 "metadata": {
  "colab": {
   "authorship_tag": "ABX9TyP042fjdqlOUp09Q4xetBBA",
   "collapsed_sections": [],
   "name": "方法2_result_v9.ipynb",
   "provenance": [
    {
     "file_id": "1NEDr-JdlNO1Ln4P286WmRlcl5ZVY7xna",
     "timestamp": 1587575771701
    },
    {
     "file_id": "1rwPrI6RZGkQKOZVuL62NDDjNkrlDFPO5",
     "timestamp": 1586333483881
    }
   ]
  },
  "kernelspec": {
   "display_name": "Python 3",
   "language": "python",
   "name": "python3"
  },
  "language_info": {
   "codemirror_mode": {
    "name": "ipython",
    "version": 3
   },
   "file_extension": ".py",
   "mimetype": "text/x-python",
   "name": "python",
   "nbconvert_exporter": "python",
   "pygments_lexer": "ipython3",
   "version": "3.6.5"
  }
 },
 "nbformat": 4,
 "nbformat_minor": 1
}
