{
 "cells": [
  {
   "cell_type": "code",
   "execution_count": 0,
   "metadata": {
    "colab": {},
    "colab_type": "code",
    "id": "bO7jlLcKXkkZ"
   },
   "outputs": [],
   "source": [
    "import numpy as np\n",
    "import pandas as pd\n",
    "import math\n",
    "import sklearn\n",
    "import sklearn.preprocessing\n",
    "import datetime\n",
    "import os\n",
    "import matplotlib.pyplot as plt\n",
    "import copy\n",
    "\n",
    "### valid data should be bigger than seq_len ###\n",
    "train_set_size_percentage = 98 # percentage for the training over the whole original dataset\n",
    "stock_name='EQIX' # Choose whick stock\n",
    "seq_len = 20 # choose sequence length for a time slot\n",
    "window = seq_len-1\n",
    "feature_num_pre=1 # dimension for the prediction (label)\n",
    "feature_num_nn_input=5  # dimension for NN input features\n",
    "checkpoint_path = \"parameter_v5.ckpt\" # check point name"
   ]
  },
  {
   "cell_type": "markdown",
   "metadata": {
    "colab_type": "text",
    "id": "UA5fNP50cmkK"
   },
   "source": [
    "1. seq2seq\n",
    "\n",
    "Failed due to the seq2seq cannot beused in this data structure\n"
   ]
  },
  {
   "cell_type": "code",
   "execution_count": 0,
   "metadata": {
    "colab": {},
    "colab_type": "code",
    "id": "qEjRCOdRcIca"
   },
   "outputs": [],
   "source": [
    "url = 'https://raw.githubusercontent.com/ccalvin97/terminal_used/master/data/prices-split-adjusted.csv?token=AKAMPRWMXS7YQFM7GTYCG7K6VJNFU'\n",
    "df = pd.read_csv(url)\n",
    "# Dataset is now stored in a Pandas Dataframe"
   ]
  },
  {
   "cell_type": "code",
   "execution_count": 198,
   "metadata": {
    "colab": {
     "base_uri": "https://localhost:8080/",
     "height": 311
    },
    "colab_type": "code",
    "id": "57JRLoPUXs1T",
    "outputId": "5285bc3c-fb0a-40ad-db8c-7789520e1e3b"
   },
   "outputs": [
    {
     "name": "stdout",
     "output_type": "stream",
     "text": [
      "<class 'pandas.core.frame.DataFrame'>\n",
      "RangeIndex: 851264 entries, 0 to 851263\n",
      "Data columns (total 7 columns):\n",
      " #   Column  Non-Null Count   Dtype  \n",
      "---  ------  --------------   -----  \n",
      " 0   date    851264 non-null  object \n",
      " 1   symbol  851264 non-null  object \n",
      " 2   open    851264 non-null  float64\n",
      " 3   close   851264 non-null  float64\n",
      " 4   low     851264 non-null  float64\n",
      " 5   high    851264 non-null  float64\n",
      " 6   volume  851264 non-null  float64\n",
      "dtypes: float64(5), object(2)\n",
      "memory usage: 45.5+ MB\n",
      "\n",
      "number of different stocks:  501\n",
      "['USB', 'NI', 'UNM', 'LNT', 'LEG', 'KMB', 'KSU', 'YHOO', 'CPB', 'MHK']\n"
     ]
    }
   ],
   "source": [
    "# import all stock prices \n",
    "# df = pd.read_csv(\"/content/sample_data/prices-split-adjusted.csv\", index_col = 0)\n",
    "df.info()\n",
    "df.head()\n",
    "\n",
    "# number of different stocks\n",
    "print('\\nnumber of different stocks: ', len(list(set(df.symbol))))\n",
    "print(list(set(df.symbol))[:10])"
   ]
  },
  {
   "cell_type": "code",
   "execution_count": 199,
   "metadata": {
    "colab": {
     "base_uri": "https://localhost:8080/",
     "height": 198
    },
    "colab_type": "code",
    "id": "k1sp7AAxYSI4",
    "outputId": "8e344611-e57e-4b5b-e7d1-ac5d66e025ce"
   },
   "outputs": [
    {
     "data": {
      "text/html": [
       "<div>\n",
       "<style scoped>\n",
       "    .dataframe tbody tr th:only-of-type {\n",
       "        vertical-align: middle;\n",
       "    }\n",
       "\n",
       "    .dataframe tbody tr th {\n",
       "        vertical-align: top;\n",
       "    }\n",
       "\n",
       "    .dataframe thead th {\n",
       "        text-align: right;\n",
       "    }\n",
       "</style>\n",
       "<table border=\"1\" class=\"dataframe\">\n",
       "  <thead>\n",
       "    <tr style=\"text-align: right;\">\n",
       "      <th></th>\n",
       "      <th>date</th>\n",
       "      <th>symbol</th>\n",
       "      <th>open</th>\n",
       "      <th>close</th>\n",
       "      <th>low</th>\n",
       "      <th>high</th>\n",
       "      <th>volume</th>\n",
       "    </tr>\n",
       "  </thead>\n",
       "  <tbody>\n",
       "    <tr>\n",
       "      <th>851259</th>\n",
       "      <td>2016-12-30</td>\n",
       "      <td>ZBH</td>\n",
       "      <td>103.309998</td>\n",
       "      <td>103.199997</td>\n",
       "      <td>102.849998</td>\n",
       "      <td>103.930000</td>\n",
       "      <td>973800.0</td>\n",
       "    </tr>\n",
       "    <tr>\n",
       "      <th>851260</th>\n",
       "      <td>2016-12-30</td>\n",
       "      <td>ZION</td>\n",
       "      <td>43.070000</td>\n",
       "      <td>43.040001</td>\n",
       "      <td>42.689999</td>\n",
       "      <td>43.310001</td>\n",
       "      <td>1938100.0</td>\n",
       "    </tr>\n",
       "    <tr>\n",
       "      <th>851261</th>\n",
       "      <td>2016-12-30</td>\n",
       "      <td>ZTS</td>\n",
       "      <td>53.639999</td>\n",
       "      <td>53.529999</td>\n",
       "      <td>53.270000</td>\n",
       "      <td>53.740002</td>\n",
       "      <td>1701200.0</td>\n",
       "    </tr>\n",
       "    <tr>\n",
       "      <th>851262</th>\n",
       "      <td>2016-12-30</td>\n",
       "      <td>AIV</td>\n",
       "      <td>44.730000</td>\n",
       "      <td>45.450001</td>\n",
       "      <td>44.410000</td>\n",
       "      <td>45.590000</td>\n",
       "      <td>1380900.0</td>\n",
       "    </tr>\n",
       "    <tr>\n",
       "      <th>851263</th>\n",
       "      <td>2016-12-30</td>\n",
       "      <td>FTV</td>\n",
       "      <td>54.200001</td>\n",
       "      <td>53.630001</td>\n",
       "      <td>53.389999</td>\n",
       "      <td>54.480000</td>\n",
       "      <td>705100.0</td>\n",
       "    </tr>\n",
       "  </tbody>\n",
       "</table>\n",
       "</div>"
      ],
      "text/plain": [
       "              date symbol        open  ...         low        high     volume\n",
       "851259  2016-12-30    ZBH  103.309998  ...  102.849998  103.930000   973800.0\n",
       "851260  2016-12-30   ZION   43.070000  ...   42.689999   43.310001  1938100.0\n",
       "851261  2016-12-30    ZTS   53.639999  ...   53.270000   53.740002  1701200.0\n",
       "851262  2016-12-30    AIV   44.730000  ...   44.410000   45.590000  1380900.0\n",
       "851263  2016-12-30    FTV   54.200001  ...   53.389999   54.480000   705100.0\n",
       "\n",
       "[5 rows x 7 columns]"
      ]
     },
     "execution_count": 199,
     "metadata": {
      "tags": []
     },
     "output_type": "execute_result"
    }
   ],
   "source": [
    "df.tail()"
   ]
  },
  {
   "cell_type": "code",
   "execution_count": 200,
   "metadata": {
    "colab": {
     "base_uri": "https://localhost:8080/",
     "height": 288
    },
    "colab_type": "code",
    "id": "ZMx8OCmzeCXj",
    "outputId": "e63404f6-2b1d-4055-d6b2-f56b3871803d"
   },
   "outputs": [
    {
     "data": {
      "text/html": [
       "<div>\n",
       "<style scoped>\n",
       "    .dataframe tbody tr th:only-of-type {\n",
       "        vertical-align: middle;\n",
       "    }\n",
       "\n",
       "    .dataframe tbody tr th {\n",
       "        vertical-align: top;\n",
       "    }\n",
       "\n",
       "    .dataframe thead th {\n",
       "        text-align: right;\n",
       "    }\n",
       "</style>\n",
       "<table border=\"1\" class=\"dataframe\">\n",
       "  <thead>\n",
       "    <tr style=\"text-align: right;\">\n",
       "      <th></th>\n",
       "      <th>open</th>\n",
       "      <th>close</th>\n",
       "      <th>low</th>\n",
       "      <th>high</th>\n",
       "      <th>volume</th>\n",
       "    </tr>\n",
       "  </thead>\n",
       "  <tbody>\n",
       "    <tr>\n",
       "      <th>count</th>\n",
       "      <td>851264.000000</td>\n",
       "      <td>851264.000000</td>\n",
       "      <td>851264.000000</td>\n",
       "      <td>851264.000000</td>\n",
       "      <td>8.512640e+05</td>\n",
       "    </tr>\n",
       "    <tr>\n",
       "      <th>mean</th>\n",
       "      <td>64.993618</td>\n",
       "      <td>65.011913</td>\n",
       "      <td>64.336541</td>\n",
       "      <td>65.639748</td>\n",
       "      <td>5.415113e+06</td>\n",
       "    </tr>\n",
       "    <tr>\n",
       "      <th>std</th>\n",
       "      <td>75.203893</td>\n",
       "      <td>75.201216</td>\n",
       "      <td>74.459518</td>\n",
       "      <td>75.906861</td>\n",
       "      <td>1.249468e+07</td>\n",
       "    </tr>\n",
       "    <tr>\n",
       "      <th>min</th>\n",
       "      <td>1.660000</td>\n",
       "      <td>1.590000</td>\n",
       "      <td>1.500000</td>\n",
       "      <td>1.810000</td>\n",
       "      <td>0.000000e+00</td>\n",
       "    </tr>\n",
       "    <tr>\n",
       "      <th>25%</th>\n",
       "      <td>31.270000</td>\n",
       "      <td>31.292776</td>\n",
       "      <td>30.940001</td>\n",
       "      <td>31.620001</td>\n",
       "      <td>1.221500e+06</td>\n",
       "    </tr>\n",
       "    <tr>\n",
       "      <th>50%</th>\n",
       "      <td>48.459999</td>\n",
       "      <td>48.480000</td>\n",
       "      <td>47.970001</td>\n",
       "      <td>48.959999</td>\n",
       "      <td>2.476250e+06</td>\n",
       "    </tr>\n",
       "    <tr>\n",
       "      <th>75%</th>\n",
       "      <td>75.120003</td>\n",
       "      <td>75.139999</td>\n",
       "      <td>74.400002</td>\n",
       "      <td>75.849998</td>\n",
       "      <td>5.222500e+06</td>\n",
       "    </tr>\n",
       "    <tr>\n",
       "      <th>max</th>\n",
       "      <td>1584.439941</td>\n",
       "      <td>1578.130005</td>\n",
       "      <td>1549.939941</td>\n",
       "      <td>1600.930054</td>\n",
       "      <td>8.596434e+08</td>\n",
       "    </tr>\n",
       "  </tbody>\n",
       "</table>\n",
       "</div>"
      ],
      "text/plain": [
       "                open          close            low           high        volume\n",
       "count  851264.000000  851264.000000  851264.000000  851264.000000  8.512640e+05\n",
       "mean       64.993618      65.011913      64.336541      65.639748  5.415113e+06\n",
       "std        75.203893      75.201216      74.459518      75.906861  1.249468e+07\n",
       "min         1.660000       1.590000       1.500000       1.810000  0.000000e+00\n",
       "25%        31.270000      31.292776      30.940001      31.620001  1.221500e+06\n",
       "50%        48.459999      48.480000      47.970001      48.959999  2.476250e+06\n",
       "75%        75.120003      75.139999      74.400002      75.849998  5.222500e+06\n",
       "max      1584.439941    1578.130005    1549.939941    1600.930054  8.596434e+08"
      ]
     },
     "execution_count": 200,
     "metadata": {
      "tags": []
     },
     "output_type": "execute_result"
    }
   ],
   "source": [
    "df.describe()"
   ]
  },
  {
   "cell_type": "code",
   "execution_count": 201,
   "metadata": {
    "colab": {
     "base_uri": "https://localhost:8080/",
     "height": 259
    },
    "colab_type": "code",
    "id": "I8C5rYEUeumI",
    "outputId": "8ee1237e-06fd-4126-f727-948c9452ce53"
   },
   "outputs": [
    {
     "name": "stdout",
     "output_type": "stream",
     "text": [
      "<class 'pandas.core.frame.DataFrame'>\n",
      "RangeIndex: 851264 entries, 0 to 851263\n",
      "Data columns (total 7 columns):\n",
      " #   Column  Non-Null Count   Dtype  \n",
      "---  ------  --------------   -----  \n",
      " 0   date    851264 non-null  object \n",
      " 1   symbol  851264 non-null  object \n",
      " 2   open    851264 non-null  float64\n",
      " 3   close   851264 non-null  float64\n",
      " 4   low     851264 non-null  float64\n",
      " 5   high    851264 non-null  float64\n",
      " 6   volume  851264 non-null  float64\n",
      "dtypes: float64(5), object(2)\n",
      "memory usage: 45.5+ MB\n"
     ]
    }
   ],
   "source": [
    "df.info()"
   ]
  },
  {
   "cell_type": "code",
   "execution_count": 202,
   "metadata": {
    "colab": {
     "base_uri": "https://localhost:8080/",
     "height": 198
    },
    "colab_type": "code",
    "id": "bRwaiIbxl3Jn",
    "outputId": "1599d939-eeea-47be-d5dd-88871aeb750a"
   },
   "outputs": [
    {
     "data": {
      "text/html": [
       "<div>\n",
       "<style scoped>\n",
       "    .dataframe tbody tr th:only-of-type {\n",
       "        vertical-align: middle;\n",
       "    }\n",
       "\n",
       "    .dataframe tbody tr th {\n",
       "        vertical-align: top;\n",
       "    }\n",
       "\n",
       "    .dataframe thead th {\n",
       "        text-align: right;\n",
       "    }\n",
       "</style>\n",
       "<table border=\"1\" class=\"dataframe\">\n",
       "  <thead>\n",
       "    <tr style=\"text-align: right;\">\n",
       "      <th></th>\n",
       "      <th>open</th>\n",
       "      <th>close</th>\n",
       "      <th>low</th>\n",
       "      <th>high</th>\n",
       "      <th>volume</th>\n",
       "    </tr>\n",
       "  </thead>\n",
       "  <tbody>\n",
       "    <tr>\n",
       "      <th>open</th>\n",
       "      <td>NaN</td>\n",
       "      <td>0.999845</td>\n",
       "      <td>0.999914</td>\n",
       "      <td>0.999928</td>\n",
       "      <td>NaN</td>\n",
       "    </tr>\n",
       "    <tr>\n",
       "      <th>close</th>\n",
       "      <td>0.999845</td>\n",
       "      <td>NaN</td>\n",
       "      <td>0.999926</td>\n",
       "      <td>0.999925</td>\n",
       "      <td>NaN</td>\n",
       "    </tr>\n",
       "    <tr>\n",
       "      <th>low</th>\n",
       "      <td>0.999914</td>\n",
       "      <td>0.999926</td>\n",
       "      <td>NaN</td>\n",
       "      <td>0.999889</td>\n",
       "      <td>NaN</td>\n",
       "    </tr>\n",
       "    <tr>\n",
       "      <th>high</th>\n",
       "      <td>0.999928</td>\n",
       "      <td>0.999925</td>\n",
       "      <td>0.999889</td>\n",
       "      <td>NaN</td>\n",
       "      <td>NaN</td>\n",
       "    </tr>\n",
       "    <tr>\n",
       "      <th>volume</th>\n",
       "      <td>NaN</td>\n",
       "      <td>NaN</td>\n",
       "      <td>NaN</td>\n",
       "      <td>NaN</td>\n",
       "      <td>NaN</td>\n",
       "    </tr>\n",
       "  </tbody>\n",
       "</table>\n",
       "</div>"
      ],
      "text/plain": [
       "            open     close       low      high  volume\n",
       "open         NaN  0.999845  0.999914  0.999928     NaN\n",
       "close   0.999845       NaN  0.999926  0.999925     NaN\n",
       "low     0.999914  0.999926       NaN  0.999889     NaN\n",
       "high    0.999928  0.999925  0.999889       NaN     NaN\n",
       "volume       NaN       NaN       NaN       NaN     NaN"
      ]
     },
     "execution_count": 202,
     "metadata": {
      "tags": []
     },
     "output_type": "execute_result"
    }
   ],
   "source": [
    "df.iloc[:,2:].corr()\n",
    "df.corr(method='pearson')[(df.corr() > 0.8) & (df.corr() != 1) | (df.corr() < -0.8) & (df.corr() != -1)]"
   ]
  },
  {
   "cell_type": "code",
   "execution_count": 203,
   "metadata": {
    "colab": {
     "base_uri": "https://localhost:8080/",
     "height": 198
    },
    "colab_type": "code",
    "id": "joIEUAZA2XTt",
    "outputId": "156ce9a6-8d39-4aac-b243-3ffe1aaeb369"
   },
   "outputs": [
    {
     "data": {
      "text/html": [
       "<div>\n",
       "<style scoped>\n",
       "    .dataframe tbody tr th:only-of-type {\n",
       "        vertical-align: middle;\n",
       "    }\n",
       "\n",
       "    .dataframe tbody tr th {\n",
       "        vertical-align: top;\n",
       "    }\n",
       "\n",
       "    .dataframe thead th {\n",
       "        text-align: right;\n",
       "    }\n",
       "</style>\n",
       "<table border=\"1\" class=\"dataframe\">\n",
       "  <thead>\n",
       "    <tr style=\"text-align: right;\">\n",
       "      <th></th>\n",
       "      <th>open</th>\n",
       "      <th>close</th>\n",
       "      <th>low</th>\n",
       "      <th>high</th>\n",
       "      <th>volume</th>\n",
       "    </tr>\n",
       "  </thead>\n",
       "  <tbody>\n",
       "    <tr>\n",
       "      <th>open</th>\n",
       "      <td>NaN</td>\n",
       "      <td>0.999752</td>\n",
       "      <td>0.999859</td>\n",
       "      <td>0.999878</td>\n",
       "      <td>NaN</td>\n",
       "    </tr>\n",
       "    <tr>\n",
       "      <th>close</th>\n",
       "      <td>0.999752</td>\n",
       "      <td>NaN</td>\n",
       "      <td>0.999872</td>\n",
       "      <td>0.999878</td>\n",
       "      <td>NaN</td>\n",
       "    </tr>\n",
       "    <tr>\n",
       "      <th>low</th>\n",
       "      <td>0.999859</td>\n",
       "      <td>0.999872</td>\n",
       "      <td>NaN</td>\n",
       "      <td>0.999805</td>\n",
       "      <td>NaN</td>\n",
       "    </tr>\n",
       "    <tr>\n",
       "      <th>high</th>\n",
       "      <td>0.999878</td>\n",
       "      <td>0.999878</td>\n",
       "      <td>0.999805</td>\n",
       "      <td>NaN</td>\n",
       "      <td>NaN</td>\n",
       "    </tr>\n",
       "    <tr>\n",
       "      <th>volume</th>\n",
       "      <td>NaN</td>\n",
       "      <td>NaN</td>\n",
       "      <td>NaN</td>\n",
       "      <td>NaN</td>\n",
       "      <td>NaN</td>\n",
       "    </tr>\n",
       "  </tbody>\n",
       "</table>\n",
       "</div>"
      ],
      "text/plain": [
       "            open     close       low      high  volume\n",
       "open         NaN  0.999752  0.999859  0.999878     NaN\n",
       "close   0.999752       NaN  0.999872  0.999878     NaN\n",
       "low     0.999859  0.999872       NaN  0.999805     NaN\n",
       "high    0.999878  0.999878  0.999805       NaN     NaN\n",
       "volume       NaN       NaN       NaN       NaN     NaN"
      ]
     },
     "execution_count": 203,
     "metadata": {
      "tags": []
     },
     "output_type": "execute_result"
    }
   ],
   "source": [
    "df.iloc[:,2:].corr()\n",
    "df.corr(method='spearman')[(df.corr() > 0.8) & (df.corr() != 1) | (df.corr() < -0.8) & (df.corr() != -1)]"
   ]
  },
  {
   "cell_type": "code",
   "execution_count": 204,
   "metadata": {
    "colab": {
     "base_uri": "https://localhost:8080/",
     "height": 350
    },
    "colab_type": "code",
    "id": "Grn7qwwLew5T",
    "outputId": "1888e0cd-4fab-4cc7-f62e-c2fc3d3f99d9"
   },
   "outputs": [
    {
     "data": {
      "image/png": "[encoded data removed]",
      "text/plain": [
       "<Figure size 1080x360 with 2 Axes>"
      ]
     },
     "metadata": {
      "needs_background": "light",
      "tags": []
     },
     "output_type": "display_data"
    }
   ],
   "source": [
    "plt.figure(figsize=(15, 5));\n",
    "plt.subplot(1,2,1);\n",
    "plt.plot(df[df.symbol == stock_name].open.values, color='red', label='open')\n",
    "plt.plot(df[df.symbol == stock_name].close.values, color='green', label='close')\n",
    "plt.plot(df[df.symbol == stock_name].low.values, color='blue', label='low')\n",
    "plt.plot(df[df.symbol == stock_name].high.values, color='black', label='high')\n",
    "plt.title('stock price')\n",
    "plt.xlabel('time [days]')\n",
    "plt.ylabel('price')\n",
    "plt.legend(loc='best')\n",
    "#plt.show()\n",
    "\n",
    "plt.subplot(1,2,2);\n",
    "plt.plot(df[df.symbol == stock_name].volume.values, color='black', label='volume')\n",
    "plt.title('stock volume')\n",
    "plt.xlabel('time [days]')\n",
    "plt.ylabel('volume')\n",
    "plt.legend(loc='best');\n"
   ]
  },
  {
   "cell_type": "code",
   "execution_count": 205,
   "metadata": {
    "colab": {
     "base_uri": "https://localhost:8080/",
     "height": 35
    },
    "colab_type": "code",
    "id": "s1WgTS44B0QK",
    "outputId": "e0039154-0476-483d-e29a-a1c20bde5b20"
   },
   "outputs": [
    {
     "data": {
      "text/plain": [
       "(1762, 6)"
      ]
     },
     "execution_count": 205,
     "metadata": {
      "tags": []
     },
     "output_type": "execute_result"
    }
   ],
   "source": [
    "# choose one stock\n",
    "df_stock = df[df.symbol == stock_name].copy()\n",
    "df_stock.drop(['symbol'],1,inplace=True)\n",
    "# df_stock.drop(['volume'],1,inplace=True)\n",
    "\n",
    "df_stock.shape"
   ]
  },
  {
   "cell_type": "code",
   "execution_count": 206,
   "metadata": {
    "colab": {
     "base_uri": "https://localhost:8080/",
     "height": 52
    },
    "colab_type": "code",
    "id": "leiBeszhCcFi",
    "outputId": "b8f409ee-8aa0-4d76-f710-d092132ac550"
   },
   "outputs": [
    {
     "name": "stdout",
     "output_type": "stream",
     "text": [
      "(35, 6)\n"
     ]
    },
    {
     "data": {
      "text/plain": [
       "(1727, 6)"
      ]
     },
     "execution_count": 206,
     "metadata": {
      "tags": []
     },
     "output_type": "execute_result"
    }
   ],
   "source": [
    "# split data in train/validation sets\n",
    "\n",
    "valid_set_size = int(np.round(train_set_size_percentage/100*df_stock.shape[0]))\n",
    "train_data, test_data = df_stock[:valid_set_size][:], df_stock[valid_set_size:][:]\n",
    "print(test_data.shape)\n",
    "train_data.shape"
   ]
  },
  {
   "cell_type": "code",
   "execution_count": 207,
   "metadata": {
    "colab": {
     "base_uri": "https://localhost:8080/",
     "height": 35
    },
    "colab_type": "code",
    "id": "FfIGOk_cHLgD",
    "outputId": "bea906ee-560a-43e7-e220-ab99eaadcfde"
   },
   "outputs": [
    {
     "name": "stdout",
     "output_type": "stream",
     "text": [
      "(35, 6)\n"
     ]
    }
   ],
   "source": [
    "from sklearn.preprocessing import MinMaxScaler\n",
    "scaler1 = MinMaxScaler(feature_range=(0, 1))\n",
    "train_data['open'] = scaler1.fit_transform(np.array(train_data['open']).reshape(-1,1))\n",
    "test_data['open']= scaler1.transform(np.array(test_data['open']).reshape(-1,1))\n",
    "\n",
    "scaler2 = MinMaxScaler(feature_range=(0, 1))\n",
    "train_data['close'] = scaler2.fit_transform(np.array(train_data['close']).reshape(-1,1))\n",
    "test_data['close']=scaler2.transform(np.array(test_data['close']).reshape(-1,1))\n",
    "\n",
    "scaler3 = MinMaxScaler(feature_range=(0, 1))\n",
    "train_data['low'] = scaler3.fit_transform(np.array(train_data['low']).reshape(-1,1))\n",
    "test_data['low']=scaler3.transform(np.array(test_data['low']).reshape(-1,1))\n",
    "\n",
    "scaler4 = MinMaxScaler(feature_range=(0, 1))\n",
    "train_data['high'] = scaler4.fit_transform(np.array(train_data['high']).reshape(-1,1))\n",
    "test_data['high']=scaler4.transform(np.array(test_data['high']).reshape(-1,1))\n",
    "\n",
    "scaler5 = MinMaxScaler(feature_range=(0, 1))\n",
    "train_data['volume'] = scaler5.fit_transform(np.array(train_data['volume']).reshape(-1,1))\n",
    "test_data['volume']=scaler5.transform(np.array(test_data['volume']).reshape(-1,1))\n",
    "\n",
    "# print(train_data)\n",
    "print(test_data.shape)"
   ]
  },
  {
   "cell_type": "code",
   "execution_count": 208,
   "metadata": {
    "colab": {
     "base_uri": "https://localhost:8080/",
     "height": 367
    },
    "colab_type": "code",
    "id": "B6vJqTcHe7rB",
    "outputId": "ca044175-f26b-4a0c-a69b-84fbcaa03a56"
   },
   "outputs": [
    {
     "data": {
      "text/plain": [
       "<matplotlib.legend.Legend at 0x7f8008f49f98>"
      ]
     },
     "execution_count": 208,
     "metadata": {
      "tags": []
     },
     "output_type": "execute_result"
    },
    {
     "data": {
      "image/png": "[encoded data removed]",
      "text/plain": [
       "<Figure size 1080x360 with 2 Axes>"
      ]
     },
     "metadata": {
      "needs_background": "light",
      "tags": []
     },
     "output_type": "display_data"
    }
   ],
   "source": [
    "plt.figure(figsize=(15, 5));\n",
    "plt.subplot(1,2,1);\n",
    "plt.plot(train_data.open.values, color='red', label='open')\n",
    "plt.plot(train_data.close.values, color='green', label='low')\n",
    "plt.plot(train_data.low.values, color='blue', label='low')\n",
    "plt.plot(train_data.high.values, color='black', label='high')\n",
    "plt.plot(train_data.volume.values, color='gray', label='volume')\n",
    "plt.title('train_data')\n",
    "plt.xlabel('time [days]')\n",
    "plt.ylabel('normalized price/volume')\n",
    "plt.legend(loc='best')\n",
    "\n",
    "plt.subplot(1,2,2);\n",
    "plt.plot(test_data.open.values, color='red', label='open')\n",
    "plt.plot(test_data.close.values, color='green', label='low')\n",
    "plt.plot(test_data.low.values, color='blue', label='low')\n",
    "plt.plot(test_data.high.values, color='black', label='high')\n",
    "plt.plot(test_data.volume.values, color='gray', label='volume')\n",
    "plt.title('test_data')\n",
    "plt.xlabel('time [days]')\n",
    "plt.ylabel('normalized price/volume')\n",
    "plt.legend(loc='best')\n",
    "# plt.show()"
   ]
  },
  {
   "cell_type": "code",
   "execution_count": 209,
   "metadata": {
    "colab": {
     "base_uri": "https://localhost:8080/",
     "height": 121
    },
    "colab_type": "code",
    "id": "0jWTB3pM5w8j",
    "outputId": "c0eecfa4-f7a2-402a-d2bb-9be34591bcb5"
   },
   "outputs": [
    {
     "name": "stdout",
     "output_type": "stream",
     "text": [
      "test data is ok for the seq_len setting\n",
      "test data is ok for the seq_len setting\n",
      "encoder_train.shape =  (1673, 14, 5)\n",
      "decoder_label_train.shape =  (1673, 6, 5)\n",
      "encoder_test.shape =  (15, 14, 5)\n",
      "decoder_label_test.shape =  (15, 6, 5)\n"
     ]
    }
   ],
   "source": [
    "# function to create train, validation, test data given stock data and sequence length\n",
    "def load_data(stock, seq_len):\n",
    "    data_raw = stock.iloc[:,:].values\n",
    "    # print(data_raw)\n",
    "    data = []\n",
    "    \n",
    "    # create all possible sequences of length seq_len\n",
    "    for index in range(len(data_raw) - seq_len): \n",
    "        data.append(data_raw[index: index + seq_len])\n",
    "    \n",
    "    # 輸入data_raw 維度: (1762, 5), 第一維度為資料筆數, 第二維度為五個feature\n",
    "    # 輸出data 維度: (1742, 20, 5), (20, 5)為我們一次的考慮長度, 分別是20個時間點和5個features,  1742為NN考慮的時間段\n",
    "    # 看筆記\n",
    "\n",
    "    data = np.array(data); \n",
    "    # 切分時間段個數->分到training, validation, testing set\n",
    "    valid_set_size = int(np.ceil(100-train_set_size_percentage)/100*data.shape[0])\n",
    "    train_set_size = data.shape[0] - (valid_set_size);\n",
    "    \n",
    "    # 檢查 test data 長度\n",
    "    try: \n",
    "      x_train = data[:train_set_size,:-6,1:]\n",
    "      y_train = data[:train_set_size,-6:,1:]\n",
    "    except:\n",
    "      print(\"檢查問題: test data should be bigger than seq_len ### \")\n",
    "    else:\n",
    "      print('test data is ok for the seq_len setting')\n",
    "\n",
    "    \n",
    "    return [x_train, y_train]\n",
    "\n",
    "# create train, test data\n",
    "encoder_train, decoder_label_train = load_data(train_data, seq_len)\n",
    "encoder_test, decoder_label_test = load_data(test_data, seq_len)\n",
    "\n",
    "\n",
    "\n",
    "print('encoder_train.shape = ',encoder_train.shape)\n",
    "print('decoder_label_train.shape = ', decoder_label_train.shape)\n",
    "print('encoder_test.shape = ',encoder_test.shape)\n",
    "print('decoder_label_test.shape = ', decoder_label_test.shape)\n",
    "\n",
    "\n",
    "# (2175, 522, 1)\n",
    "# (2175, 14, 1)\n",
    "# (2175, 14, 1)"
   ]
  },
  {
   "cell_type": "code",
   "execution_count": 210,
   "metadata": {
    "colab": {
     "base_uri": "https://localhost:8080/",
     "height": 35
    },
    "colab_type": "code",
    "id": "OsMOpBHw_E1d",
    "outputId": "7fa79d38-e004-47fb-d653-01aad7291200"
   },
   "outputs": [
    {
     "data": {
      "text/plain": [
       "(1673, 6, 1)"
      ]
     },
     "execution_count": 210,
     "metadata": {
      "tags": []
     },
     "output_type": "execute_result"
    }
   ],
   "source": [
    "decoder_label_train=np.expand_dims(decoder_label_train[:,:,0], axis=-1)\n",
    "decoder_label_test=np.expand_dims(decoder_label_test[:,:,0], axis=-1)\n",
    "decoder_label_train.shape"
   ]
  },
  {
   "cell_type": "code",
   "execution_count": 211,
   "metadata": {
    "colab": {
     "base_uri": "https://localhost:8080/",
     "height": 35
    },
    "colab_type": "code",
    "id": "q2Htviw8_bEW",
    "outputId": "d9e17945-c380-4fc5-a6f0-5de46a368d9e"
   },
   "outputs": [
    {
     "data": {
      "text/plain": [
       "(1673, 3, 1)"
      ]
     },
     "execution_count": 211,
     "metadata": {
      "tags": []
     },
     "output_type": "execute_result"
    }
   ],
   "source": [
    "decoder_input_train=copy.deepcopy(decoder_label_train)\n",
    "decoder_input_test=copy.deepcopy(decoder_label_test)\n",
    "decoder_input_train[:,-3:,:].shape"
   ]
  },
  {
   "cell_type": "code",
   "execution_count": 212,
   "metadata": {
    "colab": {
     "base_uri": "https://localhost:8080/",
     "height": 35
    },
    "colab_type": "code",
    "id": "i2WKV0deHIps",
    "outputId": "5e8dea3f-af12-4b4b-c02d-80e5a6408771"
   },
   "outputs": [
    {
     "data": {
      "text/plain": [
       "(1673, 6, 1)"
      ]
     },
     "execution_count": 212,
     "metadata": {
      "tags": []
     },
     "output_type": "execute_result"
    }
   ],
   "source": [
    "decoder_input_train[:,-3:,:]=np.expand_dims(decoder_input_train[:,:3,0], axis=-1)\n",
    "decoder_input_train[:,:3,:]=np.expand_dims(encoder_train[:,-3:,0],axis=-1)\n",
    "\n",
    "decoder_input_test[:,-3:,:]=np.expand_dims(decoder_input_test[:,:3,0], axis=-1)\n",
    "decoder_input_test[:,:3,:]=np.expand_dims(encoder_test[:,-3:,0],axis=-1)\n",
    "\n",
    "decoder_input_train.shape\n",
    "# (1673, 6, 1)"
   ]
  },
  {
   "cell_type": "code",
   "execution_count": 0,
   "metadata": {
    "colab": {},
    "colab_type": "code",
    "id": "cRdBRU1dgYLC"
   },
   "outputs": [],
   "source": []
  },
  {
   "cell_type": "code",
   "execution_count": 0,
   "metadata": {
    "colab": {},
    "colab_type": "code",
    "id": "wm27pvA4e_HA"
   },
   "outputs": [],
   "source": [
    "import tensorflow_probability as tfp\n",
    "def tf_pearson(y_true, y_pred):\n",
    "  return tfp.stats.correlation(y_true, y_pred)"
   ]
  },
  {
   "cell_type": "code",
   "execution_count": 0,
   "metadata": {
    "colab": {},
    "colab_type": "code",
    "id": "GEvZY9hhaigM"
   },
   "outputs": [],
   "source": [
    "from keras.models import Model\n",
    "from keras.layers import Input, LSTM, Dense\n",
    "from keras.optimizers import Adam\n",
    "import keras\n",
    "\n",
    "latent_dim = 128 # LSTM hidden units\n",
    "dropout = .20 \n",
    "\n",
    "encoder_inputs = Input(shape=(None, 5)) \n",
    "\n",
    "encoder_outpus2 = LSTM(1,return_sequences=True)(encoder_inputs)\n",
    "encoder_outputs, state_h, state_c = LSTM(latent_dim, dropout=dropout, return_state=True)(encoder_outpus2)\n",
    "encoder_states = [state_h, state_c]\n",
    "\n",
    "\n",
    "decoder_inputs = Input(shape=(None, 1)) \n",
    "decoder_lstm = LSTM(latent_dim, dropout=dropout, return_sequences=True, return_state=True)\n",
    "decoder_outputs, _, _ = decoder_lstm([decoder_inputs,state_h, state_c])\n",
    "decoder_dense = Dense(1) # 1 continuous output at each timestep\n",
    "decoder_outputs = decoder_dense(decoder_outputs)\n",
    "\n",
    "# Define the model that will turn\n",
    "# `encoder_input_data` & `decoder_input_data` into `decoder_target_data`\n",
    "model = Model([encoder_inputs, decoder_inputs], decoder_outputs)"
   ]
  },
  {
   "cell_type": "code",
   "execution_count": 231,
   "metadata": {
    "colab": {
     "base_uri": "https://localhost:8080/",
     "height": 415
    },
    "colab_type": "code",
    "id": "cJQZixpw9XbR",
    "outputId": "eac387b7-08e9-404a-db9a-83ed976e344b"
   },
   "outputs": [
    {
     "name": "stdout",
     "output_type": "stream",
     "text": [
      "Model: \"model_23\"\n",
      "__________________________________________________________________________________________________\n",
      "Layer (type)                    Output Shape         Param #     Connected to                     \n",
      "==================================================================================================\n",
      "input_33 (InputLayer)           (None, None, 5)      0                                            \n",
      "__________________________________________________________________________________________________\n",
      "lstm_30 (LSTM)                  (None, None, 1)      28          input_33[0][0]                   \n",
      "__________________________________________________________________________________________________\n",
      "input_34 (InputLayer)           (None, None, 1)      0                                            \n",
      "__________________________________________________________________________________________________\n",
      "lstm_31 (LSTM)                  [(None, 128), (None, 66560       lstm_30[0][0]                    \n",
      "__________________________________________________________________________________________________\n",
      "lstm_32 (LSTM)                  [(None, None, 128),  66560       input_34[0][0]                   \n",
      "                                                                 lstm_31[0][1]                    \n",
      "                                                                 lstm_31[0][2]                    \n",
      "__________________________________________________________________________________________________\n",
      "dense_11 (Dense)                (None, None, 1)      129         lstm_32[0][0]                    \n",
      "==================================================================================================\n",
      "Total params: 133,277\n",
      "Trainable params: 133,277\n",
      "Non-trainable params: 0\n",
      "__________________________________________________________________________________________________\n",
      "None\n"
     ]
    }
   ],
   "source": [
    "adam = keras.optimizers.Adam(lr=0.1)\n",
    "model.compile(loss='mse',optimizer=adam, metrics=[tf_pearson])\n",
    "\n",
    "print(model.summary())"
   ]
  },
  {
   "cell_type": "code",
   "execution_count": 232,
   "metadata": {
    "colab": {
     "base_uri": "https://localhost:8080/",
     "height": 1000
    },
    "colab_type": "code",
    "id": "YFr9EVtLYOCi",
    "outputId": "b3977f33-cc58-49f6-830a-168ac24cf0a1"
   },
   "outputs": [
    {
     "name": "stdout",
     "output_type": "stream",
     "text": [
      "Train on 1505 samples, validate on 168 samples\n",
      "Epoch 1/50\n",
      "1505/1505 [==============================] - 4s 3ms/step - loss: 0.9451 - tf_pearson: nan - val_loss: 0.4984 - val_tf_pearson: 0.2906\n",
      "Epoch 2/50\n",
      "1505/1505 [==============================] - 3s 2ms/step - loss: 0.0707 - tf_pearson: nan - val_loss: 1.2787 - val_tf_pearson: 0.2657\n",
      "Epoch 3/50\n",
      "1505/1505 [==============================] - 3s 2ms/step - loss: 0.0936 - tf_pearson: nan - val_loss: 0.0622 - val_tf_pearson: 0.2787\n",
      "Epoch 4/50\n",
      "1505/1505 [==============================] - 3s 2ms/step - loss: 0.0748 - tf_pearson: nan - val_loss: 0.2931 - val_tf_pearson: 0.2947\n",
      "Epoch 5/50\n",
      "1505/1505 [==============================] - 3s 2ms/step - loss: 0.0654 - tf_pearson: nan - val_loss: 0.1110 - val_tf_pearson: 0.3413\n",
      "Epoch 6/50\n",
      "1505/1505 [==============================] - 3s 2ms/step - loss: 0.0746 - tf_pearson: nan - val_loss: 0.2412 - val_tf_pearson: 0.3508\n",
      "Epoch 7/50\n",
      "1505/1505 [==============================] - 3s 2ms/step - loss: 0.0401 - tf_pearson: nan - val_loss: 0.0569 - val_tf_pearson: 0.3380\n",
      "Epoch 8/50\n",
      "1505/1505 [==============================] - 3s 2ms/step - loss: 0.0499 - tf_pearson: nan - val_loss: 1.2063 - val_tf_pearson: 0.3340\n",
      "Epoch 9/50\n",
      "1505/1505 [==============================] - 3s 2ms/step - loss: 0.1224 - tf_pearson: nan - val_loss: 0.5845 - val_tf_pearson: 0.1379\n",
      "Epoch 10/50\n",
      "1505/1505 [==============================] - 3s 2ms/step - loss: 0.0920 - tf_pearson: nan - val_loss: 0.4048 - val_tf_pearson: 0.1410\n",
      "Epoch 11/50\n",
      "1505/1505 [==============================] - 3s 2ms/step - loss: 0.0752 - tf_pearson: nan - val_loss: 0.0140 - val_tf_pearson: 0.1390\n",
      "Epoch 12/50\n",
      "1505/1505 [==============================] - 3s 2ms/step - loss: 0.1324 - tf_pearson: nan - val_loss: 0.1984 - val_tf_pearson: 0.1361\n",
      "Epoch 13/50\n",
      "1505/1505 [==============================] - 3s 2ms/step - loss: 0.0723 - tf_pearson: nan - val_loss: 0.2101 - val_tf_pearson: 0.1458\n",
      "Epoch 14/50\n",
      "1505/1505 [==============================] - 3s 2ms/step - loss: 0.0790 - tf_pearson: nan - val_loss: 0.2959 - val_tf_pearson: 0.1479\n",
      "Epoch 15/50\n",
      "1505/1505 [==============================] - 3s 2ms/step - loss: 0.0641 - tf_pearson: nan - val_loss: 0.0507 - val_tf_pearson: 0.1445\n",
      "Epoch 16/50\n",
      "1505/1505 [==============================] - 3s 2ms/step - loss: 0.1092 - tf_pearson: nan - val_loss: 0.5253 - val_tf_pearson: 0.1513\n",
      "Epoch 17/50\n",
      "1505/1505 [==============================] - 3s 2ms/step - loss: 0.1096 - tf_pearson: nan - val_loss: 0.1598 - val_tf_pearson: 0.2970\n",
      "Epoch 18/50\n",
      "1505/1505 [==============================] - 3s 2ms/step - loss: 0.0357 - tf_pearson: nan - val_loss: 0.0850 - val_tf_pearson: 0.3450\n",
      "Epoch 19/50\n",
      "1505/1505 [==============================] - 3s 2ms/step - loss: 0.0408 - tf_pearson: nan - val_loss: 0.0843 - val_tf_pearson: 0.3479\n",
      "Epoch 20/50\n",
      "1505/1505 [==============================] - 3s 2ms/step - loss: 0.0505 - tf_pearson: nan - val_loss: 0.0478 - val_tf_pearson: 0.3333\n",
      "Epoch 21/50\n",
      "1505/1505 [==============================] - 3s 2ms/step - loss: 0.0287 - tf_pearson: nan - val_loss: 0.0122 - val_tf_pearson: 0.3436\n",
      "Epoch 22/50\n",
      "1505/1505 [==============================] - 3s 2ms/step - loss: 0.0723 - tf_pearson: nan - val_loss: 0.2119 - val_tf_pearson: 0.3443\n",
      "Epoch 23/50\n",
      "1505/1505 [==============================] - 3s 2ms/step - loss: 0.0640 - tf_pearson: nan - val_loss: 0.0435 - val_tf_pearson: 0.3454\n",
      "Epoch 24/50\n",
      "1505/1505 [==============================] - 3s 2ms/step - loss: 0.0376 - tf_pearson: nan - val_loss: 0.2715 - val_tf_pearson: 0.3334\n",
      "Epoch 25/50\n",
      "1505/1505 [==============================] - 3s 2ms/step - loss: 0.0295 - tf_pearson: nan - val_loss: 0.2118 - val_tf_pearson: 0.3342\n",
      "Epoch 26/50\n",
      "1505/1505 [==============================] - 3s 2ms/step - loss: 0.0591 - tf_pearson: nan - val_loss: 0.0573 - val_tf_pearson: 0.3386\n",
      "Epoch 27/50\n",
      "1505/1505 [==============================] - 3s 2ms/step - loss: 0.0524 - tf_pearson: nan - val_loss: 0.1664 - val_tf_pearson: 0.3340\n",
      "Epoch 28/50\n",
      "1505/1505 [==============================] - 3s 2ms/step - loss: 0.0441 - tf_pearson: nan - val_loss: 0.0963 - val_tf_pearson: 0.3370\n",
      "Epoch 29/50\n",
      "1505/1505 [==============================] - 3s 2ms/step - loss: 0.0379 - tf_pearson: nan - val_loss: 0.2735 - val_tf_pearson: 0.3290\n",
      "Epoch 30/50\n",
      "1505/1505 [==============================] - 3s 2ms/step - loss: 0.0422 - tf_pearson: nan - val_loss: 0.0228 - val_tf_pearson: 0.3294\n",
      "Epoch 31/50\n",
      "1505/1505 [==============================] - 3s 2ms/step - loss: 0.0472 - tf_pearson: nan - val_loss: 0.0532 - val_tf_pearson: 0.3334\n",
      "Epoch 32/50\n",
      "1505/1505 [==============================] - 3s 2ms/step - loss: 0.0681 - tf_pearson: nan - val_loss: 0.0662 - val_tf_pearson: 0.3230\n",
      "Epoch 33/50\n",
      "1505/1505 [==============================] - 3s 2ms/step - loss: 0.0626 - tf_pearson: nan - val_loss: 0.0918 - val_tf_pearson: 0.3064\n",
      "Epoch 34/50\n",
      "1505/1505 [==============================] - 3s 2ms/step - loss: 0.0421 - tf_pearson: nan - val_loss: 0.2236 - val_tf_pearson: 0.3368\n",
      "Epoch 35/50\n",
      "1505/1505 [==============================] - 3s 2ms/step - loss: 0.0434 - tf_pearson: nan - val_loss: 0.0742 - val_tf_pearson: 0.3275\n",
      "Epoch 36/50\n",
      "1505/1505 [==============================] - 3s 2ms/step - loss: 0.0523 - tf_pearson: nan - val_loss: 0.0087 - val_tf_pearson: 0.3315\n",
      "Epoch 37/50\n",
      "1505/1505 [==============================] - 3s 2ms/step - loss: 0.0568 - tf_pearson: nan - val_loss: 0.1432 - val_tf_pearson: 0.3221\n",
      "Epoch 38/50\n",
      "1505/1505 [==============================] - 3s 2ms/step - loss: 0.0366 - tf_pearson: nan - val_loss: 0.1766 - val_tf_pearson: 0.3218\n",
      "Epoch 39/50\n",
      "1505/1505 [==============================] - 3s 2ms/step - loss: 0.0533 - tf_pearson: nan - val_loss: 0.0092 - val_tf_pearson: 0.3227\n",
      "Epoch 40/50\n",
      "1505/1505 [==============================] - 3s 2ms/step - loss: 0.0390 - tf_pearson: nan - val_loss: 0.1385 - val_tf_pearson: 0.3220\n",
      "Epoch 41/50\n",
      "1505/1505 [==============================] - 3s 2ms/step - loss: 0.0430 - tf_pearson: nan - val_loss: 0.2917 - val_tf_pearson: 0.3252\n",
      "Epoch 42/50\n",
      "1505/1505 [==============================] - 3s 2ms/step - loss: 0.0349 - tf_pearson: nan - val_loss: 0.4692 - val_tf_pearson: 0.3221\n",
      "Epoch 43/50\n",
      "1505/1505 [==============================] - 3s 2ms/step - loss: 0.0780 - tf_pearson: nan - val_loss: 0.0114 - val_tf_pearson: 0.3161\n",
      "Epoch 44/50\n",
      "1505/1505 [==============================] - 3s 2ms/step - loss: 0.0603 - tf_pearson: nan - val_loss: 0.4572 - val_tf_pearson: 0.3215\n",
      "Epoch 45/50\n",
      "1505/1505 [==============================] - 3s 2ms/step - loss: 0.0673 - tf_pearson: nan - val_loss: 0.0434 - val_tf_pearson: 0.3138\n",
      "Epoch 46/50\n",
      "1505/1505 [==============================] - 3s 2ms/step - loss: 0.0323 - tf_pearson: nan - val_loss: 0.1389 - val_tf_pearson: 0.3329\n",
      "Epoch 47/50\n",
      "1505/1505 [==============================] - 3s 2ms/step - loss: 0.0621 - tf_pearson: nan - val_loss: 0.0252 - val_tf_pearson: 0.3297\n",
      "Epoch 48/50\n",
      "1505/1505 [==============================] - 3s 2ms/step - loss: 0.0625 - tf_pearson: nan - val_loss: 0.2613 - val_tf_pearson: 0.3128\n",
      "Epoch 49/50\n",
      "1505/1505 [==============================] - 3s 2ms/step - loss: 0.0499 - tf_pearson: nan - val_loss: 0.5984 - val_tf_pearson: 0.3134\n",
      "Epoch 50/50\n",
      "1505/1505 [==============================] - 3s 2ms/step - loss: 0.0744 - tf_pearson: nan - val_loss: 0.3874 - val_tf_pearson: 0.3251\n"
     ]
    }
   ],
   "source": [
    "# callback = tf.keras.callbacks.EarlyStopping(monitor='val_loss', patience=15)\n",
    "history=model.fit([encoder_train , decoder_input_train], decoder_label_train, batch_size=16,epochs=5,validation_split=0.1,verbose=1)"
   ]
  },
  {
   "cell_type": "code",
   "execution_count": 0,
   "metadata": {
    "colab": {},
    "colab_type": "code",
    "id": "Js4ALfe5qcK1"
   },
   "outputs": [],
   "source": [
    "plt.figure(figsize=(15, 5))\n",
    "plt.subplot(1,2,1)\n",
    "\n",
    "plt.plot(history.history['loss'])\n",
    "plt.plot(history.history['val_loss'])\n",
    "plt.title('model mean squared error')\n",
    "plt.ylabel('MSE')\n",
    "plt.xlabel('epoch')\n",
    "plt.legend(['train', 'valid'], loc='upper left')\n",
    "\n",
    "plt.subplot(1,2,2)\n",
    "plt.plot(history.history['tf_pearson'])\n",
    "plt.plot(history.history['val_tf_pearson'])\n",
    "plt.title('model Pearson')\n",
    "plt.ylabel('Pearson')\n",
    "plt.xlabel('epoch')\n",
    "plt.legend(['train', 'valid'], loc='upper left')\n",
    "plt.show()"
   ]
  },
  {
   "cell_type": "code",
   "execution_count": 219,
   "metadata": {
    "colab": {
     "base_uri": "https://localhost:8080/",
     "height": 345
    },
    "colab_type": "code",
    "id": "gHomG359jYcR",
    "outputId": "e7d9b07a-f5fc-4e6d-98d4-d9facf6cb87d"
   },
   "outputs": [
    {
     "ename": "RuntimeError",
     "evalue": "ignored",
     "output_type": "error",
     "traceback": [
      "\u001b[0;31m---------------------------------------------------------------------------\u001b[0m",
      "\u001b[0;31mRuntimeError\u001b[0m                              Traceback (most recent call last)",
      "\u001b[0;32m<ipython-input-219-2f80c7e7a98f>\u001b[0m in \u001b[0;36m<module>\u001b[0;34m()\u001b[0m\n\u001b[1;32m     11\u001b[0m \u001b[0;31m# Test Score: 0.00033 MSE (0.02 RMSE)\u001b[0m\u001b[0;34m\u001b[0m\u001b[0;34m\u001b[0m\u001b[0;34m\u001b[0m\u001b[0m\n\u001b[1;32m     12\u001b[0m \u001b[0;34m\u001b[0m\u001b[0m\n\u001b[0;32m---> 13\u001b[0;31m \u001b[0mmodel_score\u001b[0m\u001b[0;34m(\u001b[0m\u001b[0mmodel\u001b[0m\u001b[0;34m,\u001b[0m \u001b[0mencoder_train\u001b[0m\u001b[0;34m,\u001b[0m \u001b[0mdecoder_input_train\u001b[0m\u001b[0;34m,\u001b[0m \u001b[0mdecoder_label_train\u001b[0m\u001b[0;34m,\u001b[0m \u001b[0mencoder_test\u001b[0m\u001b[0;34m,\u001b[0m \u001b[0mdecoder_label_test\u001b[0m\u001b[0;34m,\u001b[0m \u001b[0mdecoder_input_test\u001b[0m\u001b[0;34m)\u001b[0m\u001b[0;34m\u001b[0m\u001b[0;34m\u001b[0m\u001b[0m\n\u001b[0m",
      "\u001b[0;32m<ipython-input-219-2f80c7e7a98f>\u001b[0m in \u001b[0;36mmodel_score\u001b[0;34m(model, encoder_train, decoder_input_train, decoder_label_train, encoder_test, decoder_label_test, decoder_input_test)\u001b[0m\n\u001b[1;32m      1\u001b[0m \u001b[0;32mdef\u001b[0m \u001b[0mmodel_score\u001b[0m\u001b[0;34m(\u001b[0m\u001b[0mmodel\u001b[0m\u001b[0;34m,\u001b[0m \u001b[0mencoder_train\u001b[0m\u001b[0;34m,\u001b[0m \u001b[0mdecoder_input_train\u001b[0m\u001b[0;34m,\u001b[0m \u001b[0mdecoder_label_train\u001b[0m\u001b[0;34m,\u001b[0m \u001b[0mencoder_test\u001b[0m\u001b[0;34m,\u001b[0m \u001b[0mdecoder_label_test\u001b[0m\u001b[0;34m,\u001b[0m \u001b[0mdecoder_input_test\u001b[0m\u001b[0;34m)\u001b[0m\u001b[0;34m:\u001b[0m\u001b[0;34m\u001b[0m\u001b[0;34m\u001b[0m\u001b[0m\n\u001b[0;32m----> 2\u001b[0;31m     \u001b[0mtrainScore\u001b[0m \u001b[0;34m=\u001b[0m \u001b[0mmodel\u001b[0m\u001b[0;34m.\u001b[0m\u001b[0mevaluate\u001b[0m\u001b[0;34m(\u001b[0m\u001b[0;34m[\u001b[0m\u001b[0mencoder_train\u001b[0m \u001b[0;34m,\u001b[0m \u001b[0mdecoder_input_train\u001b[0m\u001b[0;34m]\u001b[0m\u001b[0;34m,\u001b[0m \u001b[0mdecoder_label_train\u001b[0m\u001b[0;34m,\u001b[0m \u001b[0mverbose\u001b[0m\u001b[0;34m=\u001b[0m\u001b[0;36m0\u001b[0m\u001b[0;34m)\u001b[0m\u001b[0;34m\u001b[0m\u001b[0;34m\u001b[0m\u001b[0m\n\u001b[0m\u001b[1;32m      3\u001b[0m     \u001b[0mprint\u001b[0m\u001b[0;34m(\u001b[0m\u001b[0;34m'Train Score: %.5f MSE '\u001b[0m \u001b[0;34m%\u001b[0m \u001b[0;34m(\u001b[0m\u001b[0mtrainScore\u001b[0m\u001b[0;34m[\u001b[0m\u001b[0;36m0\u001b[0m\u001b[0;34m]\u001b[0m\u001b[0;34m)\u001b[0m\u001b[0;34m)\u001b[0m\u001b[0;34m\u001b[0m\u001b[0;34m\u001b[0m\u001b[0m\n\u001b[1;32m      4\u001b[0m \u001b[0;34m\u001b[0m\u001b[0m\n\u001b[1;32m      5\u001b[0m     \u001b[0mtestScore\u001b[0m \u001b[0;34m=\u001b[0m \u001b[0mmodel\u001b[0m\u001b[0;34m.\u001b[0m\u001b[0mevaluate\u001b[0m\u001b[0;34m(\u001b[0m\u001b[0;34m[\u001b[0m\u001b[0mencoder_test\u001b[0m \u001b[0;34m,\u001b[0m \u001b[0mdecoder_input_test\u001b[0m\u001b[0;34m]\u001b[0m\u001b[0;34m,\u001b[0m \u001b[0mdecoder_label_test\u001b[0m\u001b[0;34m,\u001b[0m \u001b[0mverbose\u001b[0m\u001b[0;34m=\u001b[0m\u001b[0;36m0\u001b[0m\u001b[0;34m)\u001b[0m\u001b[0;34m\u001b[0m\u001b[0;34m\u001b[0m\u001b[0m\n",
      "\u001b[0;32m/usr/local/lib/python3.6/dist-packages/keras/engine/training.py\u001b[0m in \u001b[0;36mevaluate\u001b[0;34m(self, x, y, batch_size, verbose, sample_weight, steps, callbacks, max_queue_size, workers, use_multiprocessing)\u001b[0m\n\u001b[1;32m   1347\u001b[0m             \u001b[0mx\u001b[0m\u001b[0;34m,\u001b[0m \u001b[0my\u001b[0m\u001b[0;34m,\u001b[0m\u001b[0;34m\u001b[0m\u001b[0;34m\u001b[0m\u001b[0m\n\u001b[1;32m   1348\u001b[0m             \u001b[0msample_weight\u001b[0m\u001b[0;34m=\u001b[0m\u001b[0msample_weight\u001b[0m\u001b[0;34m,\u001b[0m\u001b[0;34m\u001b[0m\u001b[0;34m\u001b[0m\u001b[0m\n\u001b[0;32m-> 1349\u001b[0;31m             batch_size=batch_size)\n\u001b[0m\u001b[1;32m   1350\u001b[0m         \u001b[0;31m# Prepare inputs, delegate logic to `test_loop`.\u001b[0m\u001b[0;34m\u001b[0m\u001b[0;34m\u001b[0m\u001b[0;34m\u001b[0m\u001b[0m\n\u001b[1;32m   1351\u001b[0m         \u001b[0;32mif\u001b[0m \u001b[0mself\u001b[0m\u001b[0;34m.\u001b[0m\u001b[0m_uses_dynamic_learning_phase\u001b[0m\u001b[0;34m(\u001b[0m\u001b[0;34m)\u001b[0m\u001b[0;34m:\u001b[0m\u001b[0;34m\u001b[0m\u001b[0;34m\u001b[0m\u001b[0m\n",
      "\u001b[0;32m/usr/local/lib/python3.6/dist-packages/keras/engine/training.py\u001b[0m in \u001b[0;36m_standardize_user_data\u001b[0;34m(self, x, y, sample_weight, class_weight, check_array_lengths, batch_size)\u001b[0m\n\u001b[1;32m    506\u001b[0m         \u001b[0;32mif\u001b[0m \u001b[0my\u001b[0m \u001b[0;32mis\u001b[0m \u001b[0;32mnot\u001b[0m \u001b[0;32mNone\u001b[0m\u001b[0;34m:\u001b[0m\u001b[0;34m\u001b[0m\u001b[0;34m\u001b[0m\u001b[0m\n\u001b[1;32m    507\u001b[0m             \u001b[0;32mif\u001b[0m \u001b[0;32mnot\u001b[0m \u001b[0mself\u001b[0m\u001b[0;34m.\u001b[0m\u001b[0moptimizer\u001b[0m\u001b[0;34m:\u001b[0m\u001b[0;34m\u001b[0m\u001b[0;34m\u001b[0m\u001b[0m\n\u001b[0;32m--> 508\u001b[0;31m                 raise RuntimeError('You must compile a model before '\n\u001b[0m\u001b[1;32m    509\u001b[0m                                    \u001b[0;34m'training/testing. '\u001b[0m\u001b[0;34m\u001b[0m\u001b[0;34m\u001b[0m\u001b[0m\n\u001b[1;32m    510\u001b[0m                                    'Use `model.compile(optimizer, loss)`.')\n",
      "\u001b[0;31mRuntimeError\u001b[0m: You must compile a model before training/testing. Use `model.compile(optimizer, loss)`."
     ]
    }
   ],
   "source": [
    "def model_score(model, encoder_train, decoder_input_train, decoder_label_train, encoder_test, decoder_label_test, decoder_input_test):\n",
    "    trainScore = model.evaluate([encoder_train , decoder_input_train], decoder_label_train, verbose=0)\n",
    "    print('Train Score: %.5f MSE ' % (trainScore[0]))\n",
    "\n",
    "    testScore = model.evaluate([encoder_test , decoder_input_test], decoder_label_test, verbose=0)\n",
    "    print('Test Score: %.5f MSE ' % (testScore[0]))\n",
    "    return trainScore, testScore\n",
    "\n",
    "## GitHub 參考 result\n",
    "# Train Score: 0.00019 MSE (0.01 RMSE)\n",
    "# Test Score: 0.00033 MSE (0.02 RMSE)\n",
    "\n",
    "model_score(model, encoder_train, decoder_input_train, decoder_label_train, encoder_test, decoder_label_test, decoder_input_test)"
   ]
  },
  {
   "cell_type": "code",
   "execution_count": 0,
   "metadata": {
    "colab": {},
    "colab_type": "code",
    "id": "34YeoXGYHQAE"
   },
   "outputs": [],
   "source": [
    "# from our previous model - mapping encoder sequence to state vectors\n",
    "encoder_model = Model(encoder_inputs, encoder_states)\n",
    "\n",
    "# A modified version of the decoding stage that takes in predicted target inputs\n",
    "# and encoded state vectors, returning predicted target outputs and decoder state vectors.\n",
    "# We need to hang onto these state vectors to run the next step of the inference loop.\n",
    "decoder_state_input_h = Input(shape=(latent_dim,))\n",
    "decoder_state_input_c = Input(shape=(latent_dim,))\n",
    "decoder_states_inputs = [decoder_state_input_h, decoder_state_input_c]\n",
    "\n",
    "decoder_outputs, state_h, state_c = decoder_lstm(decoder_inputs, initial_state=decoder_states_inputs)\n",
    "decoder_states = [state_h, state_c]\n",
    "\n",
    "decoder_outputs = decoder_dense(decoder_outputs)\n",
    "decoder_model = Model([decoder_inputs] + decoder_states_inputs,\n",
    "                      [decoder_outputs] + decoder_states)\n",
    "\n",
    "def decode_sequence(input_seq):\n",
    "    \n",
    "    # Encode the input as state vectors.\n",
    "    states_value = encoder_model.predict(input_seq)\n",
    "\n",
    "    # Generate empty target sequence of length 1.\n",
    "    target_seq = np.zeros((1, 1, 1))\n",
    "    \n",
    "    # Populate the first target sequence with end of encoding series pageviews\n",
    "    target_seq[0, 0, 0] = input_seq[0, -1, 0]\n",
    "\n",
    "    # Sampling loop for a batch of sequences - we will fill decoded_seq with predictions\n",
    "    # (to simplify, here we assume a batch of size 1).\n",
    "\n",
    "    decoded_seq = np.zeros((1,pred_steps,1))\n",
    "    \n",
    "    for i in range(pred_steps):\n",
    "        \n",
    "        output, h, c = decoder_model.predict([target_seq] + states_value)\n",
    "        \n",
    "        decoded_seq[0,i,0] = output[0,0,0]\n",
    "\n",
    "        # Update the target sequence (of length 1).\n",
    "        target_seq = np.zeros((1, 1, 1))\n",
    "        target_seq[0, 0, 0] = output[0,0,0]\n",
    "\n",
    "        # Update states\n",
    "        states_value = [h, c]\n",
    "\n",
    "    return decoded_seq"
   ]
  },
  {
   "cell_type": "code",
   "execution_count": 0,
   "metadata": {
    "colab": {},
    "colab_type": "code",
    "id": "6MoNob9hHQC4"
   },
   "outputs": [],
   "source": [
    "def predict_and_plot(encoder_input_data, decoder_target_data, sample_ind, enc_tail_len=50):\n",
    "\n",
    "    encode_series = encoder_input_data[sample_ind:sample_ind+1,:,:] \n",
    "    print('encode_series.shape')\n",
    "    print(encode_series.shape)\n",
    "    pred_series = decode_sequence(encode_series)\n",
    "    print('pred_series.shape')\n",
    "    print(pred_series.shape)\n",
    "    encode_series = encode_series.reshape(-1,1)\n",
    "    pred_series = pred_series.reshape(-1,1)   \n",
    "    target_series = decoder_target_data[sample_ind,:,:1].reshape(-1,1) \n",
    "    print('target_series.shape')\n",
    "    print(target_series.shape) \n",
    "    encode_series_tail = np.concatenate([encode_series[-enc_tail_len:],target_series[:1]])\n",
    "    x_encode = encode_series_tail.shape[0]\n",
    "\n",
    "\n",
    "    target_series= list(scaler1.inverse_transform(np.array(target_series[:,0].reshape(-1,1))))\n",
    "    pred_series= list(scaler1.inverse_transform(np.array(pred_series[:,0].reshape(-1,1))))\n",
    "    encode_series_tail= list(scaler1.inverse_transform(np.array(encode_series_tail[:,0].reshape(-1,1))))\n",
    "\n",
    "    plt.figure(figsize=(10,6))   \n",
    "    plt.plot(range(1,x_encode+1),encode_series_tail)\n",
    "    plt.plot(range(x_encode,x_encode+pred_steps),target_series,color='orange')\n",
    "    plt.plot(range(x_encode,x_encode+pred_steps),pred_series,color='teal',linestyle='--')\n",
    "    plt.title('Encoder Series Tail of Length %d, Target Series, and Predictions' % enc_tail_len)\n",
    "    plt.legend(['Encoding Series','Target Series','Predictions'])"
   ]
  },
  {
   "cell_type": "code",
   "execution_count": 0,
   "metadata": {
    "colab": {},
    "colab_type": "code",
    "id": "LTpLzY9zJKFI"
   },
   "outputs": [],
   "source": [
    "print(decoder_input_train.shape)\n",
    "print(decoder_label_train.shape)"
   ]
  },
  {
   "cell_type": "code",
   "execution_count": 0,
   "metadata": {
    "colab": {},
    "colab_type": "code",
    "id": "GrRQaD1OHQHa"
   },
   "outputs": [],
   "source": [
    "pred_steps = 6\n",
    "predict_and_plot(encoder_test, decoder_label_test, 6)"
   ]
  },
  {
   "cell_type": "code",
   "execution_count": 0,
   "metadata": {
    "colab": {},
    "colab_type": "code",
    "id": "KQw7dIOBPQrc"
   },
   "outputs": [],
   "source": []
  }
 ],
 "metadata": {
  "colab": {
   "collapsed_sections": [],
   "name": "result_v10.ipynb",
   "provenance": []
  },
  "kernelspec": {
   "display_name": "Python 3",
   "language": "python",
   "name": "python3"
  },
  "language_info": {
   "codemirror_mode": {
    "name": "ipython",
    "version": 3
   },
   "file_extension": ".py",
   "mimetype": "text/x-python",
   "name": "python",
   "nbconvert_exporter": "python",
   "pygments_lexer": "ipython3",
   "version": "3.6.5"
  }
 },
 "nbformat": 4,
 "nbformat_minor": 1
}
