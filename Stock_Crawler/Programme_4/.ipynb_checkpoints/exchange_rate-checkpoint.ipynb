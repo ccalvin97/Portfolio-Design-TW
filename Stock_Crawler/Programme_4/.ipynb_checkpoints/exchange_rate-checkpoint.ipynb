{
 "cells": [
  {
   "cell_type": "code",
   "execution_count": 1,
   "metadata": {},
   "outputs": [],
   "source": [
    "import requests\n",
    "from bs4 import BeautifulSoup\n",
    "from datetime import datetime\n",
    "import pandas as pd\n",
    "import matplotlib.pyplot as plt\n",
    "import datetime \n",
    "import pdb\n",
    "import time \n",
    "import re\n",
    "import numpy as np\n",
    "\n",
    "start = '2020-01'\n",
    "out_dir = '/Users/calvin/GitHub/test/a3c+dqn_env/exchange_rate'\n",
    "url = \"https://rate.bot.com.tw/xrt?Lang=zh-TW\"\n",
    "\n",
    "\n"
   ]
  },
  {
   "cell_type": "markdown",
   "metadata": {},
   "source": [
    "This programme can only support the current year and previous 1 year data\n",
    "If you need historical data, please go this website - \n",
    "https://www.bot.com.tw/Services/DownLoad/Pages/default.aspx"
   ]
  },
  {
   "cell_type": "markdown",
   "metadata": {},
   "source": [
    "現金匯率: 是指你手上持有現鈔時，跟銀行交易時使用的匯率。 由於銀行持有現鈔會有一定的成本，所以現金匯率的價格一般會比即期匯率來的差。\n",
    "\n",
    "即期匯率:是指你的外幣存款帳戶要轉存到新台幣存款， 或是你收到的外幣匯款要轉存成新台幣存款， 或是新台幣存款要轉存到你的外幣存款時，所使用的匯率。\n",
    "\n",
    "銀行買入價:是指銀行用新台幣跟你買外幣的價格。\n",
    "\n",
    "銀行賣出價:是指銀行賣給你外幣的價格。"
   ]
  },
  {
   "cell_type": "code",
   "execution_count": 2,
   "metadata": {},
   "outputs": [],
   "source": [
    "def get_history_rate_link(url):\n",
    "    resp = requests.get(url)\n",
    "    resp.encoding = 'utf-8'\n",
    "    html = BeautifulSoup(resp.text, \"lxml\")\n",
    "    rate_table = html.find(name='table', attrs={'title':'牌告匯率'}).find(name='tbody').find_all(name='tr')\n",
    "\n",
    "    history_rate_link_list = []\n",
    "\n",
    "\n",
    "    for rate in rate_table:\n",
    "        # 擷取匯率表格，把美金(也就是匯率表的第一個元素)擷取出來，查詢其歷史匯率\n",
    "        currency = rate.find(name='div', attrs={'class':'visible-phone print_hide'})\n",
    "        #print(currency.get_text().replace(\" \", \"\"))  # 貨幣種類\n",
    "        #print(currency)\n",
    "\n",
    "        # 針對美金，找到其「歷史匯率」的首頁\n",
    "        history_link = rate.find(name='td', attrs={'data-table':'歷史匯率'})\n",
    "        #print(history_link)\n",
    "        history_rate_link = \"https://rate.bot.com.tw\" + history_link.a[\"href\"]  # 該貨幣的歷史資料首頁\n",
    "        #print(history_rate_link)\n",
    "        history_rate_link_list.append(history_rate_link)\n",
    "\n",
    "    return history_rate_link_list\n",
    "\n",
    "#%%\n",
    "\n",
    "#\n",
    "# 到貨幣歷史匯率網頁，選則該貨幣的「歷史區間」，送出查詢後，觀察其網址變化情形，再試著抓取其歷史匯率資料\n",
    "#\n",
    "# 用「quote/年-月」去取代網址內容，就可以連到該貨幣的歷史資料\n",
    "\n",
    "def get_historical_plt(history_rate_link,timeframe):\n",
    "    headers={\n",
    "        'user-agent': 'Mozilla/5.0 (Macintosh; Intel Mac OS X 10_15_5) AppleWebKit/537.36 (KHTML, like Gecko) Chrome/83.0.4103.116 Safari/537.36 Edg/83.0.478.56',\n",
    "\n",
    "    }\n",
    "\n",
    "    quote_history_url = history_rate_link.replace(\"history\", \"quote/\"+timeframe)\n",
    "    resp = requests.get(quote_history_url,headers = headers)\n",
    "    resp.encoding = 'utf-8'\n",
    "    history = BeautifulSoup(resp.text, \"lxml\")\n",
    "    history_table = history.find(name='table', attrs={'title':'歷史本行營業時間牌告匯率'}).find(name='tbody').find_all(name='tr')\n",
    "\n",
    "    currency_name = history_rate_link.split('/')[-1]\n",
    "\n",
    "    date_history = []\n",
    "    history_buyin = []\n",
    "    history_sellout = []\n",
    "\n",
    "    \n",
    "    string = \"~!@#$%^&*()_+-*/<>,.[]\\/\"\n",
    "    \n",
    "    for history_rate in history_table:\n",
    "        # 擷取日期資料\n",
    "#         try:\n",
    "        date_string = history_rate.a.get_text()\n",
    "        date = datetime.datetime.strptime(date_string, '%Y/%M/%d').strftime('%Y%M%d')  # 轉換日期格式\n",
    "        date_history.append(date)  # 日期歷史資料\n",
    "\n",
    "        history_ex_rate = history_rate.find_all('td', attrs={'class':'rate-content-sight text-right print_table-cell'})\n",
    "\n",
    "        if history_ex_rate[0].get_text() in string:\n",
    "            history_buyin.append(np.nan)\n",
    "        else:\n",
    "            history_buyin.append(float(history_ex_rate[0].get_text()))  # 歷史買入匯率\n",
    "            \n",
    "        if history_ex_rate[1].get_text() in string:\n",
    "            history_sellout.append(np.nan)\n",
    "        else:            \n",
    "            history_sellout.append(float(history_ex_rate[1].get_text()))  # 歷史賣出匯率\n",
    "\n",
    "\n",
    "    # 將匯率價格資料存成dataframe形式\n",
    "    History_Ex_Rate = pd.DataFrame({'日期': date_history,\n",
    "                                        '即期買入收盤匯率'+ currency_name:history_buyin,\n",
    "                                        '即期賣出收盤匯率'+ currency_name:history_sellout})\n",
    "\n",
    "    History_Ex_Rate = History_Ex_Rate.set_index('日期')  # 指定'日期'欄位為datafram的index\n",
    "    History_Ex_Rate = History_Ex_Rate.sort_index(ascending=True)\n",
    "    \n",
    "    return History_Ex_Rate\n",
    "\n"
   ]
  },
  {
   "cell_type": "code",
   "execution_count": 3,
   "metadata": {},
   "outputs": [],
   "source": [
    "date=pd.date_range(start='1/1/2020', periods=12, freq='M')\n",
    "date=pd.Series(date.format())\n",
    "date = date.apply(lambda x: x.split('-')[0] + '-' +x.split('-')[1])"
   ]
  },
  {
   "cell_type": "code",
   "execution_count": 4,
   "metadata": {},
   "outputs": [
    {
     "name": "stdout",
     "output_type": "stream",
     "text": [
      "Success - USD\n",
      "Success - HKD\n",
      "Success - GBP\n",
      "Success - AUD\n",
      "Success - CAD\n",
      "Success - SGD\n",
      "Success - CHF\n",
      "Success - JPY\n",
      "Success - ZAR\n",
      "Success - SEK\n",
      "Success - NZD\n",
      "Success - THB\n",
      "Success - PHP\n",
      "Success - IDR\n",
      "Success - EUR\n",
      "Success - KRW\n",
      "Success - VND\n",
      "Success - MYR\n",
      "Success - CNY\n"
     ]
    }
   ],
   "source": [
    "url_list = get_history_rate_link(url)\n",
    "for ul in url_list:\n",
    "    res = pd.DataFrame()\n",
    "    currency_name = ul.split('/')[-1]\n",
    "    for i in date:\n",
    "        df=get_historical_plt(ul,i)\n",
    "        res = pd.concat([res, df])\n",
    "    res = res[::-1]\n",
    "    res.to_csv(out_dir + '/' + currency_name+ '.csv',encoding = 'utf_8_sig' )\n",
    "    print('Success - {}'.format(currency_name))"
   ]
  },
  {
   "cell_type": "code",
   "execution_count": null,
   "metadata": {},
   "outputs": [],
   "source": []
  }
 ],
 "metadata": {
  "kernelspec": {
   "display_name": "Python 3",
   "language": "python",
   "name": "python3"
  },
  "language_info": {
   "codemirror_mode": {
    "name": "ipython",
    "version": 3
   },
   "file_extension": ".py",
   "mimetype": "text/x-python",
   "name": "python",
   "nbconvert_exporter": "python",
   "pygments_lexer": "ipython3",
   "version": "3.6.5"
  }
 },
 "nbformat": 4,
 "nbformat_minor": 2
}
